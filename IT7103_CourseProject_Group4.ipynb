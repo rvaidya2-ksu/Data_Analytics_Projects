{
  "nbformat": 4,
  "nbformat_minor": 0,
  "metadata": {
    "colab": {
      "provenance": [],
      "include_colab_link": true
    },
    "kernelspec": {
      "name": "python3",
      "display_name": "Python 3"
    },
    "language_info": {
      "name": "python"
    }
  },
  "cells": [
    {
      "cell_type": "markdown",
      "metadata": {
        "id": "view-in-github",
        "colab_type": "text"
      },
      "source": [
        "<a href=\"https://colab.research.google.com/github/rvaidya2-ksu/IT7103/blob/main/IT7103_CourseProject_Group4.ipynb\" target=\"_parent\"><img src=\"https://colab.research.google.com/assets/colab-badge.svg\" alt=\"Open In Colab\"/></a>"
      ]
    },
    {
      "cell_type": "markdown",
      "source": [
        "\n",
        "\n",
        "* **IT 7103**\n",
        "* **COURSE PROJECT**\n",
        "* **GROUP 4**\n",
        "* **Group Member: Sabrina Marcelin and Rajshree Vaidya**\n"
      ],
      "metadata": {
        "id": "ujc_1ZDFrMy6"
      }
    },
    {
      "cell_type": "markdown",
      "source": [
        "**WEATHER CLASSIFICATION DATA**\n",
        "\n",
        "---\n",
        "\n"
      ],
      "metadata": {
        "id": "_VRY_K2iskL1"
      }
    },
    {
      "cell_type": "markdown",
      "source": [
        "***1. Loading the data using Pandas***"
      ],
      "metadata": {
        "id": "GzW-4n3Ss88V"
      }
    },
    {
      "cell_type": "code",
      "execution_count": null,
      "metadata": {
        "colab": {
          "base_uri": "https://localhost:8080/"
        },
        "id": "3GdFDuxxeFFQ",
        "outputId": "2ed76657-8e83-4d6c-9e8c-bb9bd0b15b41"
      },
      "outputs": [
        {
          "output_type": "stream",
          "name": "stdout",
          "text": [
            "Mounted at /content/drive\n"
          ]
        }
      ],
      "source": [
        "from google.colab import drive\n",
        "drive.mount('/content/drive')"
      ]
    },
    {
      "cell_type": "code",
      "source": [
        "\n",
        "import pandas as pd\n",
        "import numpy as np\n",
        "\n",
        "data = pd.read_csv('/content/drive/MyDrive/Colab Notebooks/weather_classification_data.csv')\n",
        "data.head()"
      ],
      "metadata": {
        "colab": {
          "base_uri": "https://localhost:8080/",
          "height": 258
        },
        "id": "HVuAdx-AeYNT",
        "outputId": "267dff7b-a15d-4a34-f8c5-e3a920a9e8cf"
      },
      "execution_count": null,
      "outputs": [
        {
          "output_type": "execute_result",
          "data": {
            "text/plain": [
              "   Temperature  Humidity  Wind Speed  Precipitation (%)    Cloud Cover  \\\n",
              "0         14.0        73         9.5               82.0  partly cloudy   \n",
              "1         39.0        96         8.5               71.0  partly cloudy   \n",
              "2         30.0        64         7.0               16.0          clear   \n",
              "3         38.0        83         1.5               82.0          clear   \n",
              "4         27.0        74        17.0               66.0       overcast   \n",
              "\n",
              "   Atmospheric Pressure  UV Index  Season  Visibility (km)  Location  \\\n",
              "0               1010.82         2  Winter              3.5    inland   \n",
              "1               1011.43         7  Spring             10.0    inland   \n",
              "2               1018.72         5  Spring              5.5  mountain   \n",
              "3               1026.25         7  Spring              1.0   coastal   \n",
              "4                990.67         1  Winter              2.5  mountain   \n",
              "\n",
              "  Weather Type  \n",
              "0        Rainy  \n",
              "1       Cloudy  \n",
              "2        Sunny  \n",
              "3        Sunny  \n",
              "4        Rainy  "
            ],
            "text/html": [
              "\n",
              "  <div id=\"df-084e756d-4a01-4349-bf91-a4d8517cbecc\" class=\"colab-df-container\">\n",
              "    <div>\n",
              "<style scoped>\n",
              "    .dataframe tbody tr th:only-of-type {\n",
              "        vertical-align: middle;\n",
              "    }\n",
              "\n",
              "    .dataframe tbody tr th {\n",
              "        vertical-align: top;\n",
              "    }\n",
              "\n",
              "    .dataframe thead th {\n",
              "        text-align: right;\n",
              "    }\n",
              "</style>\n",
              "<table border=\"1\" class=\"dataframe\">\n",
              "  <thead>\n",
              "    <tr style=\"text-align: right;\">\n",
              "      <th></th>\n",
              "      <th>Temperature</th>\n",
              "      <th>Humidity</th>\n",
              "      <th>Wind Speed</th>\n",
              "      <th>Precipitation (%)</th>\n",
              "      <th>Cloud Cover</th>\n",
              "      <th>Atmospheric Pressure</th>\n",
              "      <th>UV Index</th>\n",
              "      <th>Season</th>\n",
              "      <th>Visibility (km)</th>\n",
              "      <th>Location</th>\n",
              "      <th>Weather Type</th>\n",
              "    </tr>\n",
              "  </thead>\n",
              "  <tbody>\n",
              "    <tr>\n",
              "      <th>0</th>\n",
              "      <td>14.0</td>\n",
              "      <td>73</td>\n",
              "      <td>9.5</td>\n",
              "      <td>82.0</td>\n",
              "      <td>partly cloudy</td>\n",
              "      <td>1010.82</td>\n",
              "      <td>2</td>\n",
              "      <td>Winter</td>\n",
              "      <td>3.5</td>\n",
              "      <td>inland</td>\n",
              "      <td>Rainy</td>\n",
              "    </tr>\n",
              "    <tr>\n",
              "      <th>1</th>\n",
              "      <td>39.0</td>\n",
              "      <td>96</td>\n",
              "      <td>8.5</td>\n",
              "      <td>71.0</td>\n",
              "      <td>partly cloudy</td>\n",
              "      <td>1011.43</td>\n",
              "      <td>7</td>\n",
              "      <td>Spring</td>\n",
              "      <td>10.0</td>\n",
              "      <td>inland</td>\n",
              "      <td>Cloudy</td>\n",
              "    </tr>\n",
              "    <tr>\n",
              "      <th>2</th>\n",
              "      <td>30.0</td>\n",
              "      <td>64</td>\n",
              "      <td>7.0</td>\n",
              "      <td>16.0</td>\n",
              "      <td>clear</td>\n",
              "      <td>1018.72</td>\n",
              "      <td>5</td>\n",
              "      <td>Spring</td>\n",
              "      <td>5.5</td>\n",
              "      <td>mountain</td>\n",
              "      <td>Sunny</td>\n",
              "    </tr>\n",
              "    <tr>\n",
              "      <th>3</th>\n",
              "      <td>38.0</td>\n",
              "      <td>83</td>\n",
              "      <td>1.5</td>\n",
              "      <td>82.0</td>\n",
              "      <td>clear</td>\n",
              "      <td>1026.25</td>\n",
              "      <td>7</td>\n",
              "      <td>Spring</td>\n",
              "      <td>1.0</td>\n",
              "      <td>coastal</td>\n",
              "      <td>Sunny</td>\n",
              "    </tr>\n",
              "    <tr>\n",
              "      <th>4</th>\n",
              "      <td>27.0</td>\n",
              "      <td>74</td>\n",
              "      <td>17.0</td>\n",
              "      <td>66.0</td>\n",
              "      <td>overcast</td>\n",
              "      <td>990.67</td>\n",
              "      <td>1</td>\n",
              "      <td>Winter</td>\n",
              "      <td>2.5</td>\n",
              "      <td>mountain</td>\n",
              "      <td>Rainy</td>\n",
              "    </tr>\n",
              "  </tbody>\n",
              "</table>\n",
              "</div>\n",
              "    <div class=\"colab-df-buttons\">\n",
              "\n",
              "  <div class=\"colab-df-container\">\n",
              "    <button class=\"colab-df-convert\" onclick=\"convertToInteractive('df-084e756d-4a01-4349-bf91-a4d8517cbecc')\"\n",
              "            title=\"Convert this dataframe to an interactive table.\"\n",
              "            style=\"display:none;\">\n",
              "\n",
              "  <svg xmlns=\"http://www.w3.org/2000/svg\" height=\"24px\" viewBox=\"0 -960 960 960\">\n",
              "    <path d=\"M120-120v-720h720v720H120Zm60-500h600v-160H180v160Zm220 220h160v-160H400v160Zm0 220h160v-160H400v160ZM180-400h160v-160H180v160Zm440 0h160v-160H620v160ZM180-180h160v-160H180v160Zm440 0h160v-160H620v160Z\"/>\n",
              "  </svg>\n",
              "    </button>\n",
              "\n",
              "  <style>\n",
              "    .colab-df-container {\n",
              "      display:flex;\n",
              "      gap: 12px;\n",
              "    }\n",
              "\n",
              "    .colab-df-convert {\n",
              "      background-color: #E8F0FE;\n",
              "      border: none;\n",
              "      border-radius: 50%;\n",
              "      cursor: pointer;\n",
              "      display: none;\n",
              "      fill: #1967D2;\n",
              "      height: 32px;\n",
              "      padding: 0 0 0 0;\n",
              "      width: 32px;\n",
              "    }\n",
              "\n",
              "    .colab-df-convert:hover {\n",
              "      background-color: #E2EBFA;\n",
              "      box-shadow: 0px 1px 2px rgba(60, 64, 67, 0.3), 0px 1px 3px 1px rgba(60, 64, 67, 0.15);\n",
              "      fill: #174EA6;\n",
              "    }\n",
              "\n",
              "    .colab-df-buttons div {\n",
              "      margin-bottom: 4px;\n",
              "    }\n",
              "\n",
              "    [theme=dark] .colab-df-convert {\n",
              "      background-color: #3B4455;\n",
              "      fill: #D2E3FC;\n",
              "    }\n",
              "\n",
              "    [theme=dark] .colab-df-convert:hover {\n",
              "      background-color: #434B5C;\n",
              "      box-shadow: 0px 1px 3px 1px rgba(0, 0, 0, 0.15);\n",
              "      filter: drop-shadow(0px 1px 2px rgba(0, 0, 0, 0.3));\n",
              "      fill: #FFFFFF;\n",
              "    }\n",
              "  </style>\n",
              "\n",
              "    <script>\n",
              "      const buttonEl =\n",
              "        document.querySelector('#df-084e756d-4a01-4349-bf91-a4d8517cbecc button.colab-df-convert');\n",
              "      buttonEl.style.display =\n",
              "        google.colab.kernel.accessAllowed ? 'block' : 'none';\n",
              "\n",
              "      async function convertToInteractive(key) {\n",
              "        const element = document.querySelector('#df-084e756d-4a01-4349-bf91-a4d8517cbecc');\n",
              "        const dataTable =\n",
              "          await google.colab.kernel.invokeFunction('convertToInteractive',\n",
              "                                                    [key], {});\n",
              "        if (!dataTable) return;\n",
              "\n",
              "        const docLinkHtml = 'Like what you see? Visit the ' +\n",
              "          '<a target=\"_blank\" href=https://colab.research.google.com/notebooks/data_table.ipynb>data table notebook</a>'\n",
              "          + ' to learn more about interactive tables.';\n",
              "        element.innerHTML = '';\n",
              "        dataTable['output_type'] = 'display_data';\n",
              "        await google.colab.output.renderOutput(dataTable, element);\n",
              "        const docLink = document.createElement('div');\n",
              "        docLink.innerHTML = docLinkHtml;\n",
              "        element.appendChild(docLink);\n",
              "      }\n",
              "    </script>\n",
              "  </div>\n",
              "\n",
              "\n",
              "<div id=\"df-718f43c7-0bf6-4771-be84-f6c7d3a8e890\">\n",
              "  <button class=\"colab-df-quickchart\" onclick=\"quickchart('df-718f43c7-0bf6-4771-be84-f6c7d3a8e890')\"\n",
              "            title=\"Suggest charts\"\n",
              "            style=\"display:none;\">\n",
              "\n",
              "<svg xmlns=\"http://www.w3.org/2000/svg\" height=\"24px\"viewBox=\"0 0 24 24\"\n",
              "     width=\"24px\">\n",
              "    <g>\n",
              "        <path d=\"M19 3H5c-1.1 0-2 .9-2 2v14c0 1.1.9 2 2 2h14c1.1 0 2-.9 2-2V5c0-1.1-.9-2-2-2zM9 17H7v-7h2v7zm4 0h-2V7h2v10zm4 0h-2v-4h2v4z\"/>\n",
              "    </g>\n",
              "</svg>\n",
              "  </button>\n",
              "\n",
              "<style>\n",
              "  .colab-df-quickchart {\n",
              "      --bg-color: #E8F0FE;\n",
              "      --fill-color: #1967D2;\n",
              "      --hover-bg-color: #E2EBFA;\n",
              "      --hover-fill-color: #174EA6;\n",
              "      --disabled-fill-color: #AAA;\n",
              "      --disabled-bg-color: #DDD;\n",
              "  }\n",
              "\n",
              "  [theme=dark] .colab-df-quickchart {\n",
              "      --bg-color: #3B4455;\n",
              "      --fill-color: #D2E3FC;\n",
              "      --hover-bg-color: #434B5C;\n",
              "      --hover-fill-color: #FFFFFF;\n",
              "      --disabled-bg-color: #3B4455;\n",
              "      --disabled-fill-color: #666;\n",
              "  }\n",
              "\n",
              "  .colab-df-quickchart {\n",
              "    background-color: var(--bg-color);\n",
              "    border: none;\n",
              "    border-radius: 50%;\n",
              "    cursor: pointer;\n",
              "    display: none;\n",
              "    fill: var(--fill-color);\n",
              "    height: 32px;\n",
              "    padding: 0;\n",
              "    width: 32px;\n",
              "  }\n",
              "\n",
              "  .colab-df-quickchart:hover {\n",
              "    background-color: var(--hover-bg-color);\n",
              "    box-shadow: 0 1px 2px rgba(60, 64, 67, 0.3), 0 1px 3px 1px rgba(60, 64, 67, 0.15);\n",
              "    fill: var(--button-hover-fill-color);\n",
              "  }\n",
              "\n",
              "  .colab-df-quickchart-complete:disabled,\n",
              "  .colab-df-quickchart-complete:disabled:hover {\n",
              "    background-color: var(--disabled-bg-color);\n",
              "    fill: var(--disabled-fill-color);\n",
              "    box-shadow: none;\n",
              "  }\n",
              "\n",
              "  .colab-df-spinner {\n",
              "    border: 2px solid var(--fill-color);\n",
              "    border-color: transparent;\n",
              "    border-bottom-color: var(--fill-color);\n",
              "    animation:\n",
              "      spin 1s steps(1) infinite;\n",
              "  }\n",
              "\n",
              "  @keyframes spin {\n",
              "    0% {\n",
              "      border-color: transparent;\n",
              "      border-bottom-color: var(--fill-color);\n",
              "      border-left-color: var(--fill-color);\n",
              "    }\n",
              "    20% {\n",
              "      border-color: transparent;\n",
              "      border-left-color: var(--fill-color);\n",
              "      border-top-color: var(--fill-color);\n",
              "    }\n",
              "    30% {\n",
              "      border-color: transparent;\n",
              "      border-left-color: var(--fill-color);\n",
              "      border-top-color: var(--fill-color);\n",
              "      border-right-color: var(--fill-color);\n",
              "    }\n",
              "    40% {\n",
              "      border-color: transparent;\n",
              "      border-right-color: var(--fill-color);\n",
              "      border-top-color: var(--fill-color);\n",
              "    }\n",
              "    60% {\n",
              "      border-color: transparent;\n",
              "      border-right-color: var(--fill-color);\n",
              "    }\n",
              "    80% {\n",
              "      border-color: transparent;\n",
              "      border-right-color: var(--fill-color);\n",
              "      border-bottom-color: var(--fill-color);\n",
              "    }\n",
              "    90% {\n",
              "      border-color: transparent;\n",
              "      border-bottom-color: var(--fill-color);\n",
              "    }\n",
              "  }\n",
              "</style>\n",
              "\n",
              "  <script>\n",
              "    async function quickchart(key) {\n",
              "      const quickchartButtonEl =\n",
              "        document.querySelector('#' + key + ' button');\n",
              "      quickchartButtonEl.disabled = true;  // To prevent multiple clicks.\n",
              "      quickchartButtonEl.classList.add('colab-df-spinner');\n",
              "      try {\n",
              "        const charts = await google.colab.kernel.invokeFunction(\n",
              "            'suggestCharts', [key], {});\n",
              "      } catch (error) {\n",
              "        console.error('Error during call to suggestCharts:', error);\n",
              "      }\n",
              "      quickchartButtonEl.classList.remove('colab-df-spinner');\n",
              "      quickchartButtonEl.classList.add('colab-df-quickchart-complete');\n",
              "    }\n",
              "    (() => {\n",
              "      let quickchartButtonEl =\n",
              "        document.querySelector('#df-718f43c7-0bf6-4771-be84-f6c7d3a8e890 button');\n",
              "      quickchartButtonEl.style.display =\n",
              "        google.colab.kernel.accessAllowed ? 'block' : 'none';\n",
              "    })();\n",
              "  </script>\n",
              "</div>\n",
              "\n",
              "    </div>\n",
              "  </div>\n"
            ],
            "application/vnd.google.colaboratory.intrinsic+json": {
              "type": "dataframe",
              "variable_name": "data",
              "summary": "{\n  \"name\": \"data\",\n  \"rows\": 13200,\n  \"fields\": [\n    {\n      \"column\": \"Temperature\",\n      \"properties\": {\n        \"dtype\": \"number\",\n        \"std\": 17.386326582360788,\n        \"min\": -25.0,\n        \"max\": 109.0,\n        \"num_unique_values\": 126,\n        \"samples\": [\n          80.0,\n          4.0,\n          88.0\n        ],\n        \"semantic_type\": \"\",\n        \"description\": \"\"\n      }\n    },\n    {\n      \"column\": \"Humidity\",\n      \"properties\": {\n        \"dtype\": \"number\",\n        \"std\": 20,\n        \"min\": 20,\n        \"max\": 109,\n        \"num_unique_values\": 90,\n        \"samples\": [\n          84,\n          72,\n          38\n        ],\n        \"semantic_type\": \"\",\n        \"description\": \"\"\n      }\n    },\n    {\n      \"column\": \"Wind Speed\",\n      \"properties\": {\n        \"dtype\": \"number\",\n        \"std\": 6.908704141531295,\n        \"min\": 0.0,\n        \"max\": 48.5,\n        \"num_unique_values\": 97,\n        \"samples\": [\n          26.5,\n          14.5,\n          47.5\n        ],\n        \"semantic_type\": \"\",\n        \"description\": \"\"\n      }\n    },\n    {\n      \"column\": \"Precipitation (%)\",\n      \"properties\": {\n        \"dtype\": \"number\",\n        \"std\": 31.946540769981375,\n        \"min\": 0.0,\n        \"max\": 109.0,\n        \"num_unique_values\": 110,\n        \"samples\": [\n          51.0,\n          8.0,\n          26.0\n        ],\n        \"semantic_type\": \"\",\n        \"description\": \"\"\n      }\n    },\n    {\n      \"column\": \"Cloud Cover\",\n      \"properties\": {\n        \"dtype\": \"category\",\n        \"num_unique_values\": 4,\n        \"samples\": [\n          \"clear\",\n          \"cloudy\",\n          \"partly cloudy\"\n        ],\n        \"semantic_type\": \"\",\n        \"description\": \"\"\n      }\n    },\n    {\n      \"column\": \"Atmospheric Pressure\",\n      \"properties\": {\n        \"dtype\": \"number\",\n        \"std\": 37.199588697503295,\n        \"min\": 800.12,\n        \"max\": 1199.21,\n        \"num_unique_values\": 5456,\n        \"samples\": [\n          939.13,\n          985.08,\n          987.72\n        ],\n        \"semantic_type\": \"\",\n        \"description\": \"\"\n      }\n    },\n    {\n      \"column\": \"UV Index\",\n      \"properties\": {\n        \"dtype\": \"number\",\n        \"std\": 3,\n        \"min\": 0,\n        \"max\": 14,\n        \"num_unique_values\": 15,\n        \"samples\": [\n          4,\n          10,\n          2\n        ],\n        \"semantic_type\": \"\",\n        \"description\": \"\"\n      }\n    },\n    {\n      \"column\": \"Season\",\n      \"properties\": {\n        \"dtype\": \"category\",\n        \"num_unique_values\": 4,\n        \"samples\": [\n          \"Spring\",\n          \"Autumn\",\n          \"Winter\"\n        ],\n        \"semantic_type\": \"\",\n        \"description\": \"\"\n      }\n    },\n    {\n      \"column\": \"Visibility (km)\",\n      \"properties\": {\n        \"dtype\": \"number\",\n        \"std\": 3.371498910353949,\n        \"min\": 0.0,\n        \"max\": 20.0,\n        \"num_unique_values\": 41,\n        \"samples\": [\n          13.0,\n          9.5,\n          1.5\n        ],\n        \"semantic_type\": \"\",\n        \"description\": \"\"\n      }\n    },\n    {\n      \"column\": \"Location\",\n      \"properties\": {\n        \"dtype\": \"category\",\n        \"num_unique_values\": 3,\n        \"samples\": [\n          \"inland\",\n          \"mountain\",\n          \"coastal\"\n        ],\n        \"semantic_type\": \"\",\n        \"description\": \"\"\n      }\n    },\n    {\n      \"column\": \"Weather Type\",\n      \"properties\": {\n        \"dtype\": \"category\",\n        \"num_unique_values\": 4,\n        \"samples\": [\n          \"Cloudy\",\n          \"Snowy\",\n          \"Rainy\"\n        ],\n        \"semantic_type\": \"\",\n        \"description\": \"\"\n      }\n    }\n  ]\n}"
            }
          },
          "metadata": {},
          "execution_count": 3
        }
      ]
    },
    {
      "cell_type": "code",
      "source": [
        "data.shape"
      ],
      "metadata": {
        "colab": {
          "base_uri": "https://localhost:8080/"
        },
        "id": "zrdUC_pqez_F",
        "outputId": "e2c1ac8c-21bb-4a07-d0d2-334e1cb45590"
      },
      "execution_count": null,
      "outputs": [
        {
          "output_type": "execute_result",
          "data": {
            "text/plain": [
              "(13200, 11)"
            ]
          },
          "metadata": {},
          "execution_count": 4
        }
      ]
    },
    {
      "cell_type": "code",
      "source": [
        "data.describe()"
      ],
      "metadata": {
        "colab": {
          "base_uri": "https://localhost:8080/",
          "height": 300
        },
        "id": "nW3FCUgse1vQ",
        "outputId": "116138e1-a158-4fb7-ef64-28810ffa6546"
      },
      "execution_count": null,
      "outputs": [
        {
          "output_type": "execute_result",
          "data": {
            "text/plain": [
              "        Temperature      Humidity    Wind Speed  Precipitation (%)  \\\n",
              "count  13200.000000  13200.000000  13200.000000       13200.000000   \n",
              "mean      19.127576     68.710833      9.832197          53.644394   \n",
              "std       17.386327     20.194248      6.908704          31.946541   \n",
              "min      -25.000000     20.000000      0.000000           0.000000   \n",
              "25%        4.000000     57.000000      5.000000          19.000000   \n",
              "50%       21.000000     70.000000      9.000000          58.000000   \n",
              "75%       31.000000     84.000000     13.500000          82.000000   \n",
              "max      109.000000    109.000000     48.500000         109.000000   \n",
              "\n",
              "       Atmospheric Pressure      UV Index  Visibility (km)  \n",
              "count          13200.000000  13200.000000     13200.000000  \n",
              "mean            1005.827896      4.005758         5.462917  \n",
              "std               37.199589      3.856600         3.371499  \n",
              "min              800.120000      0.000000         0.000000  \n",
              "25%              994.800000      1.000000         3.000000  \n",
              "50%             1007.650000      3.000000         5.000000  \n",
              "75%             1016.772500      7.000000         7.500000  \n",
              "max             1199.210000     14.000000        20.000000  "
            ],
            "text/html": [
              "\n",
              "  <div id=\"df-279723ba-b2bb-4d27-a23d-b933370c8bb1\" class=\"colab-df-container\">\n",
              "    <div>\n",
              "<style scoped>\n",
              "    .dataframe tbody tr th:only-of-type {\n",
              "        vertical-align: middle;\n",
              "    }\n",
              "\n",
              "    .dataframe tbody tr th {\n",
              "        vertical-align: top;\n",
              "    }\n",
              "\n",
              "    .dataframe thead th {\n",
              "        text-align: right;\n",
              "    }\n",
              "</style>\n",
              "<table border=\"1\" class=\"dataframe\">\n",
              "  <thead>\n",
              "    <tr style=\"text-align: right;\">\n",
              "      <th></th>\n",
              "      <th>Temperature</th>\n",
              "      <th>Humidity</th>\n",
              "      <th>Wind Speed</th>\n",
              "      <th>Precipitation (%)</th>\n",
              "      <th>Atmospheric Pressure</th>\n",
              "      <th>UV Index</th>\n",
              "      <th>Visibility (km)</th>\n",
              "    </tr>\n",
              "  </thead>\n",
              "  <tbody>\n",
              "    <tr>\n",
              "      <th>count</th>\n",
              "      <td>13200.000000</td>\n",
              "      <td>13200.000000</td>\n",
              "      <td>13200.000000</td>\n",
              "      <td>13200.000000</td>\n",
              "      <td>13200.000000</td>\n",
              "      <td>13200.000000</td>\n",
              "      <td>13200.000000</td>\n",
              "    </tr>\n",
              "    <tr>\n",
              "      <th>mean</th>\n",
              "      <td>19.127576</td>\n",
              "      <td>68.710833</td>\n",
              "      <td>9.832197</td>\n",
              "      <td>53.644394</td>\n",
              "      <td>1005.827896</td>\n",
              "      <td>4.005758</td>\n",
              "      <td>5.462917</td>\n",
              "    </tr>\n",
              "    <tr>\n",
              "      <th>std</th>\n",
              "      <td>17.386327</td>\n",
              "      <td>20.194248</td>\n",
              "      <td>6.908704</td>\n",
              "      <td>31.946541</td>\n",
              "      <td>37.199589</td>\n",
              "      <td>3.856600</td>\n",
              "      <td>3.371499</td>\n",
              "    </tr>\n",
              "    <tr>\n",
              "      <th>min</th>\n",
              "      <td>-25.000000</td>\n",
              "      <td>20.000000</td>\n",
              "      <td>0.000000</td>\n",
              "      <td>0.000000</td>\n",
              "      <td>800.120000</td>\n",
              "      <td>0.000000</td>\n",
              "      <td>0.000000</td>\n",
              "    </tr>\n",
              "    <tr>\n",
              "      <th>25%</th>\n",
              "      <td>4.000000</td>\n",
              "      <td>57.000000</td>\n",
              "      <td>5.000000</td>\n",
              "      <td>19.000000</td>\n",
              "      <td>994.800000</td>\n",
              "      <td>1.000000</td>\n",
              "      <td>3.000000</td>\n",
              "    </tr>\n",
              "    <tr>\n",
              "      <th>50%</th>\n",
              "      <td>21.000000</td>\n",
              "      <td>70.000000</td>\n",
              "      <td>9.000000</td>\n",
              "      <td>58.000000</td>\n",
              "      <td>1007.650000</td>\n",
              "      <td>3.000000</td>\n",
              "      <td>5.000000</td>\n",
              "    </tr>\n",
              "    <tr>\n",
              "      <th>75%</th>\n",
              "      <td>31.000000</td>\n",
              "      <td>84.000000</td>\n",
              "      <td>13.500000</td>\n",
              "      <td>82.000000</td>\n",
              "      <td>1016.772500</td>\n",
              "      <td>7.000000</td>\n",
              "      <td>7.500000</td>\n",
              "    </tr>\n",
              "    <tr>\n",
              "      <th>max</th>\n",
              "      <td>109.000000</td>\n",
              "      <td>109.000000</td>\n",
              "      <td>48.500000</td>\n",
              "      <td>109.000000</td>\n",
              "      <td>1199.210000</td>\n",
              "      <td>14.000000</td>\n",
              "      <td>20.000000</td>\n",
              "    </tr>\n",
              "  </tbody>\n",
              "</table>\n",
              "</div>\n",
              "    <div class=\"colab-df-buttons\">\n",
              "\n",
              "  <div class=\"colab-df-container\">\n",
              "    <button class=\"colab-df-convert\" onclick=\"convertToInteractive('df-279723ba-b2bb-4d27-a23d-b933370c8bb1')\"\n",
              "            title=\"Convert this dataframe to an interactive table.\"\n",
              "            style=\"display:none;\">\n",
              "\n",
              "  <svg xmlns=\"http://www.w3.org/2000/svg\" height=\"24px\" viewBox=\"0 -960 960 960\">\n",
              "    <path d=\"M120-120v-720h720v720H120Zm60-500h600v-160H180v160Zm220 220h160v-160H400v160Zm0 220h160v-160H400v160ZM180-400h160v-160H180v160Zm440 0h160v-160H620v160ZM180-180h160v-160H180v160Zm440 0h160v-160H620v160Z\"/>\n",
              "  </svg>\n",
              "    </button>\n",
              "\n",
              "  <style>\n",
              "    .colab-df-container {\n",
              "      display:flex;\n",
              "      gap: 12px;\n",
              "    }\n",
              "\n",
              "    .colab-df-convert {\n",
              "      background-color: #E8F0FE;\n",
              "      border: none;\n",
              "      border-radius: 50%;\n",
              "      cursor: pointer;\n",
              "      display: none;\n",
              "      fill: #1967D2;\n",
              "      height: 32px;\n",
              "      padding: 0 0 0 0;\n",
              "      width: 32px;\n",
              "    }\n",
              "\n",
              "    .colab-df-convert:hover {\n",
              "      background-color: #E2EBFA;\n",
              "      box-shadow: 0px 1px 2px rgba(60, 64, 67, 0.3), 0px 1px 3px 1px rgba(60, 64, 67, 0.15);\n",
              "      fill: #174EA6;\n",
              "    }\n",
              "\n",
              "    .colab-df-buttons div {\n",
              "      margin-bottom: 4px;\n",
              "    }\n",
              "\n",
              "    [theme=dark] .colab-df-convert {\n",
              "      background-color: #3B4455;\n",
              "      fill: #D2E3FC;\n",
              "    }\n",
              "\n",
              "    [theme=dark] .colab-df-convert:hover {\n",
              "      background-color: #434B5C;\n",
              "      box-shadow: 0px 1px 3px 1px rgba(0, 0, 0, 0.15);\n",
              "      filter: drop-shadow(0px 1px 2px rgba(0, 0, 0, 0.3));\n",
              "      fill: #FFFFFF;\n",
              "    }\n",
              "  </style>\n",
              "\n",
              "    <script>\n",
              "      const buttonEl =\n",
              "        document.querySelector('#df-279723ba-b2bb-4d27-a23d-b933370c8bb1 button.colab-df-convert');\n",
              "      buttonEl.style.display =\n",
              "        google.colab.kernel.accessAllowed ? 'block' : 'none';\n",
              "\n",
              "      async function convertToInteractive(key) {\n",
              "        const element = document.querySelector('#df-279723ba-b2bb-4d27-a23d-b933370c8bb1');\n",
              "        const dataTable =\n",
              "          await google.colab.kernel.invokeFunction('convertToInteractive',\n",
              "                                                    [key], {});\n",
              "        if (!dataTable) return;\n",
              "\n",
              "        const docLinkHtml = 'Like what you see? Visit the ' +\n",
              "          '<a target=\"_blank\" href=https://colab.research.google.com/notebooks/data_table.ipynb>data table notebook</a>'\n",
              "          + ' to learn more about interactive tables.';\n",
              "        element.innerHTML = '';\n",
              "        dataTable['output_type'] = 'display_data';\n",
              "        await google.colab.output.renderOutput(dataTable, element);\n",
              "        const docLink = document.createElement('div');\n",
              "        docLink.innerHTML = docLinkHtml;\n",
              "        element.appendChild(docLink);\n",
              "      }\n",
              "    </script>\n",
              "  </div>\n",
              "\n",
              "\n",
              "<div id=\"df-dc1e79a6-105f-46c4-911b-0f261536d62b\">\n",
              "  <button class=\"colab-df-quickchart\" onclick=\"quickchart('df-dc1e79a6-105f-46c4-911b-0f261536d62b')\"\n",
              "            title=\"Suggest charts\"\n",
              "            style=\"display:none;\">\n",
              "\n",
              "<svg xmlns=\"http://www.w3.org/2000/svg\" height=\"24px\"viewBox=\"0 0 24 24\"\n",
              "     width=\"24px\">\n",
              "    <g>\n",
              "        <path d=\"M19 3H5c-1.1 0-2 .9-2 2v14c0 1.1.9 2 2 2h14c1.1 0 2-.9 2-2V5c0-1.1-.9-2-2-2zM9 17H7v-7h2v7zm4 0h-2V7h2v10zm4 0h-2v-4h2v4z\"/>\n",
              "    </g>\n",
              "</svg>\n",
              "  </button>\n",
              "\n",
              "<style>\n",
              "  .colab-df-quickchart {\n",
              "      --bg-color: #E8F0FE;\n",
              "      --fill-color: #1967D2;\n",
              "      --hover-bg-color: #E2EBFA;\n",
              "      --hover-fill-color: #174EA6;\n",
              "      --disabled-fill-color: #AAA;\n",
              "      --disabled-bg-color: #DDD;\n",
              "  }\n",
              "\n",
              "  [theme=dark] .colab-df-quickchart {\n",
              "      --bg-color: #3B4455;\n",
              "      --fill-color: #D2E3FC;\n",
              "      --hover-bg-color: #434B5C;\n",
              "      --hover-fill-color: #FFFFFF;\n",
              "      --disabled-bg-color: #3B4455;\n",
              "      --disabled-fill-color: #666;\n",
              "  }\n",
              "\n",
              "  .colab-df-quickchart {\n",
              "    background-color: var(--bg-color);\n",
              "    border: none;\n",
              "    border-radius: 50%;\n",
              "    cursor: pointer;\n",
              "    display: none;\n",
              "    fill: var(--fill-color);\n",
              "    height: 32px;\n",
              "    padding: 0;\n",
              "    width: 32px;\n",
              "  }\n",
              "\n",
              "  .colab-df-quickchart:hover {\n",
              "    background-color: var(--hover-bg-color);\n",
              "    box-shadow: 0 1px 2px rgba(60, 64, 67, 0.3), 0 1px 3px 1px rgba(60, 64, 67, 0.15);\n",
              "    fill: var(--button-hover-fill-color);\n",
              "  }\n",
              "\n",
              "  .colab-df-quickchart-complete:disabled,\n",
              "  .colab-df-quickchart-complete:disabled:hover {\n",
              "    background-color: var(--disabled-bg-color);\n",
              "    fill: var(--disabled-fill-color);\n",
              "    box-shadow: none;\n",
              "  }\n",
              "\n",
              "  .colab-df-spinner {\n",
              "    border: 2px solid var(--fill-color);\n",
              "    border-color: transparent;\n",
              "    border-bottom-color: var(--fill-color);\n",
              "    animation:\n",
              "      spin 1s steps(1) infinite;\n",
              "  }\n",
              "\n",
              "  @keyframes spin {\n",
              "    0% {\n",
              "      border-color: transparent;\n",
              "      border-bottom-color: var(--fill-color);\n",
              "      border-left-color: var(--fill-color);\n",
              "    }\n",
              "    20% {\n",
              "      border-color: transparent;\n",
              "      border-left-color: var(--fill-color);\n",
              "      border-top-color: var(--fill-color);\n",
              "    }\n",
              "    30% {\n",
              "      border-color: transparent;\n",
              "      border-left-color: var(--fill-color);\n",
              "      border-top-color: var(--fill-color);\n",
              "      border-right-color: var(--fill-color);\n",
              "    }\n",
              "    40% {\n",
              "      border-color: transparent;\n",
              "      border-right-color: var(--fill-color);\n",
              "      border-top-color: var(--fill-color);\n",
              "    }\n",
              "    60% {\n",
              "      border-color: transparent;\n",
              "      border-right-color: var(--fill-color);\n",
              "    }\n",
              "    80% {\n",
              "      border-color: transparent;\n",
              "      border-right-color: var(--fill-color);\n",
              "      border-bottom-color: var(--fill-color);\n",
              "    }\n",
              "    90% {\n",
              "      border-color: transparent;\n",
              "      border-bottom-color: var(--fill-color);\n",
              "    }\n",
              "  }\n",
              "</style>\n",
              "\n",
              "  <script>\n",
              "    async function quickchart(key) {\n",
              "      const quickchartButtonEl =\n",
              "        document.querySelector('#' + key + ' button');\n",
              "      quickchartButtonEl.disabled = true;  // To prevent multiple clicks.\n",
              "      quickchartButtonEl.classList.add('colab-df-spinner');\n",
              "      try {\n",
              "        const charts = await google.colab.kernel.invokeFunction(\n",
              "            'suggestCharts', [key], {});\n",
              "      } catch (error) {\n",
              "        console.error('Error during call to suggestCharts:', error);\n",
              "      }\n",
              "      quickchartButtonEl.classList.remove('colab-df-spinner');\n",
              "      quickchartButtonEl.classList.add('colab-df-quickchart-complete');\n",
              "    }\n",
              "    (() => {\n",
              "      let quickchartButtonEl =\n",
              "        document.querySelector('#df-dc1e79a6-105f-46c4-911b-0f261536d62b button');\n",
              "      quickchartButtonEl.style.display =\n",
              "        google.colab.kernel.accessAllowed ? 'block' : 'none';\n",
              "    })();\n",
              "  </script>\n",
              "</div>\n",
              "\n",
              "    </div>\n",
              "  </div>\n"
            ],
            "application/vnd.google.colaboratory.intrinsic+json": {
              "type": "dataframe",
              "summary": "{\n  \"name\": \"data\",\n  \"rows\": 8,\n  \"fields\": [\n    {\n      \"column\": \"Temperature\",\n      \"properties\": {\n        \"dtype\": \"number\",\n        \"std\": 4658.1449653279315,\n        \"min\": -25.0,\n        \"max\": 13200.0,\n        \"num_unique_values\": 8,\n        \"samples\": [\n          19.12757575757576,\n          21.0,\n          13200.0\n        ],\n        \"semantic_type\": \"\",\n        \"description\": \"\"\n      }\n    },\n    {\n      \"column\": \"Humidity\",\n      \"properties\": {\n        \"dtype\": \"number\",\n        \"std\": 4645.3391890838175,\n        \"min\": 20.0,\n        \"max\": 13200.0,\n        \"num_unique_values\": 8,\n        \"samples\": [\n          68.71083333333333,\n          70.0,\n          13200.0\n        ],\n        \"semantic_type\": \"\",\n        \"description\": \"\"\n      }\n    },\n    {\n      \"column\": \"Wind Speed\",\n      \"properties\": {\n        \"dtype\": \"number\",\n        \"std\": 4662.244475101186,\n        \"min\": 0.0,\n        \"max\": 13200.0,\n        \"num_unique_values\": 8,\n        \"samples\": [\n          9.83219696969697,\n          9.0,\n          13200.0\n        ],\n        \"semantic_type\": \"\",\n        \"description\": \"\"\n      }\n    },\n    {\n      \"column\": \"Precipitation (%)\",\n      \"properties\": {\n        \"dtype\": \"number\",\n        \"std\": 4649.1742722965455,\n        \"min\": 0.0,\n        \"max\": 13200.0,\n        \"num_unique_values\": 8,\n        \"samples\": [\n          53.644393939393936,\n          58.0,\n          13200.0\n        ],\n        \"semantic_type\": \"\",\n        \"description\": \"\"\n      }\n    },\n    {\n      \"column\": \"Atmospheric Pressure\",\n      \"properties\": {\n        \"dtype\": \"number\",\n        \"std\": 4375.1591668119445,\n        \"min\": 37.199588697503295,\n        \"max\": 13200.0,\n        \"num_unique_values\": 8,\n        \"samples\": [\n          1005.8278962121212,\n          1007.65,\n          13200.0\n        ],\n        \"semantic_type\": \"\",\n        \"description\": \"\"\n      }\n    },\n    {\n      \"column\": \"UV Index\",\n      \"properties\": {\n        \"dtype\": \"number\",\n        \"std\": 4665.246971665612,\n        \"min\": 0.0,\n        \"max\": 13200.0,\n        \"num_unique_values\": 8,\n        \"samples\": [\n          4.005757575757576,\n          3.0,\n          13200.0\n        ],\n        \"semantic_type\": \"\",\n        \"description\": \"\"\n      }\n    },\n    {\n      \"column\": \"Visibility (km)\",\n      \"properties\": {\n        \"dtype\": \"number\",\n        \"std\": 4664.669368110344,\n        \"min\": 0.0,\n        \"max\": 13200.0,\n        \"num_unique_values\": 8,\n        \"samples\": [\n          5.462916666666667,\n          5.0,\n          13200.0\n        ],\n        \"semantic_type\": \"\",\n        \"description\": \"\"\n      }\n    }\n  ]\n}"
            }
          },
          "metadata": {},
          "execution_count": 5
        }
      ]
    },
    {
      "cell_type": "markdown",
      "source": [
        "*This show there are no null value in our data. So, no imputation is required.*"
      ],
      "metadata": {
        "id": "Cmxykex6tQvv"
      }
    },
    {
      "cell_type": "code",
      "source": [
        "data.info()"
      ],
      "metadata": {
        "colab": {
          "base_uri": "https://localhost:8080/"
        },
        "id": "6ZnAnkN5e5R4",
        "outputId": "42bd64b8-fc7d-429d-ea20-991e5137c087"
      },
      "execution_count": null,
      "outputs": [
        {
          "output_type": "stream",
          "name": "stdout",
          "text": [
            "<class 'pandas.core.frame.DataFrame'>\n",
            "RangeIndex: 13200 entries, 0 to 13199\n",
            "Data columns (total 11 columns):\n",
            " #   Column                Non-Null Count  Dtype  \n",
            "---  ------                --------------  -----  \n",
            " 0   Temperature           13200 non-null  float64\n",
            " 1   Humidity              13200 non-null  int64  \n",
            " 2   Wind Speed            13200 non-null  float64\n",
            " 3   Precipitation (%)     13200 non-null  float64\n",
            " 4   Cloud Cover           13200 non-null  object \n",
            " 5   Atmospheric Pressure  13200 non-null  float64\n",
            " 6   UV Index              13200 non-null  int64  \n",
            " 7   Season                13200 non-null  object \n",
            " 8   Visibility (km)       13200 non-null  float64\n",
            " 9   Location              13200 non-null  object \n",
            " 10  Weather Type          13200 non-null  object \n",
            "dtypes: float64(5), int64(2), object(4)\n",
            "memory usage: 1.1+ MB\n"
          ]
        }
      ]
    },
    {
      "cell_type": "markdown",
      "source": [
        "***2. Splitting the data into 75% Training and 25% Testing.***"
      ],
      "metadata": {
        "id": "O4zKlMDctf18"
      }
    },
    {
      "cell_type": "code",
      "source": [
        "from sklearn.model_selection import train_test_split\n",
        "\n",
        "traindata, testdata = train_test_split(data, test_size=0.25) #test_size=0.25 means that 25% of data will be for testing, 75% for training\n",
        "traindata.shape, testdata.shape"
      ],
      "metadata": {
        "colab": {
          "base_uri": "https://localhost:8080/"
        },
        "id": "JVqOTvdkfFAY",
        "outputId": "1da15ddc-3e7b-49c5-d9b7-c1a21402aad2"
      },
      "execution_count": null,
      "outputs": [
        {
          "output_type": "execute_result",
          "data": {
            "text/plain": [
              "((9900, 11), (3300, 11))"
            ]
          },
          "metadata": {},
          "execution_count": 7
        }
      ]
    },
    {
      "cell_type": "markdown",
      "source": [
        "***3. VISUALIZING NECESSARY COLUMNS IN THE DATA***"
      ],
      "metadata": {
        "id": "VYFFHmaIuZRU"
      }
    },
    {
      "cell_type": "code",
      "source": [
        "from matplotlib import pyplot as plt\n",
        "\n",
        "traindata.hist(bins=20, figsize=(20,15))\n",
        "plt.show()"
      ],
      "metadata": {
        "colab": {
          "base_uri": "https://localhost:8080/",
          "height": 858
        },
        "id": "kJoJOLZGfad0",
        "outputId": "e66e3b0a-1198-4e58-ac89-db3338fbea6c"
      },
      "execution_count": null,
      "outputs": [
        {
          "output_type": "display_data",
          "data": {
            "text/plain": [
              "<Figure size 2000x1500 with 9 Axes>"
            ],
            "image/png": "[encoded data removed]"
          },
          "metadata": {}
        }
      ]
    },
    {
      "cell_type": "code",
      "source": [
        "num_cols = [column for column in data.columns if (traindata[column].dtypes == np.int64) or (traindata[column].dtypes == np.float64)]\n",
        "num_cols"
      ],
      "metadata": {
        "colab": {
          "base_uri": "https://localhost:8080/"
        },
        "id": "_AG88zVZimHF",
        "outputId": "4d5d831f-64dd-4927-9ede-09936d31e01b"
      },
      "execution_count": null,
      "outputs": [
        {
          "output_type": "execute_result",
          "data": {
            "text/plain": [
              "['Temperature',\n",
              " 'Humidity',\n",
              " 'Wind Speed',\n",
              " 'Precipitation (%)',\n",
              " 'Atmospheric Pressure',\n",
              " 'UV Index',\n",
              " 'Visibility (km)']"
            ]
          },
          "metadata": {},
          "execution_count": 9
        }
      ]
    },
    {
      "cell_type": "code",
      "source": [
        "traindata[num_cols].boxplot(grid=False, figsize=(15,5), rot=30)\n",
        "plt.show()"
      ],
      "metadata": {
        "colab": {
          "base_uri": "https://localhost:8080/",
          "height": 472
        },
        "id": "7mFpq25imTy2",
        "outputId": "34a76868-1398-42ca-eac9-1af53892cfc5"
      },
      "execution_count": null,
      "outputs": [
        {
          "output_type": "display_data",
          "data": {
            "text/plain": [
              "<Figure size 1500x500 with 1 Axes>"
            ],
            "image/png": "[encoded data removed]"
          },
          "metadata": {}
        }
      ]
    },
    {
      "cell_type": "code",
      "source": [
        "cat_cols = [column for column in traindata.columns if traindata[column].dtypes == object]\n",
        "cat_cols"
      ],
      "metadata": {
        "colab": {
          "base_uri": "https://localhost:8080/"
        },
        "id": "SSBHTz6emX3v",
        "outputId": "cfb6d853-9a1d-4c96-ab2e-e87186723006"
      },
      "execution_count": null,
      "outputs": [
        {
          "output_type": "execute_result",
          "data": {
            "text/plain": [
              "['Cloud Cover', 'Season', 'Location', 'Weather Type']"
            ]
          },
          "metadata": {},
          "execution_count": 11
        }
      ]
    },
    {
      "cell_type": "code",
      "source": [
        "for col in cat_cols:\n",
        "    freq_table = traindata[col].value_counts()\n",
        "    plt.figure(figsize = (8,len(freq_table)*0.2)) #a bit formatting so that chart look better\n",
        "    freq_table.plot.barh(title='Bar chart for frequencies of ' + col)\n",
        "    plt.show()\n",
        "    print()"
      ],
      "metadata": {
        "colab": {
          "base_uri": "https://localhost:8080/",
          "height": 579
        },
        "id": "TgzlKdS4mlDH",
        "outputId": "f8869197-369b-4334-93a8-0cc34777511e"
      },
      "execution_count": null,
      "outputs": [
        {
          "output_type": "display_data",
          "data": {
            "text/plain": [
              "<Figure size 800x80 with 1 Axes>"
            ],
            "image/png": "[encoded data removed]"
          },
          "metadata": {}
        },
        {
          "output_type": "stream",
          "name": "stdout",
          "text": [
            "\n"
          ]
        },
        {
          "output_type": "display_data",
          "data": {
            "text/plain": [
              "<Figure size 800x80 with 1 Axes>"
            ],
            "image/png": "[encoded data removed]"
          },
          "metadata": {}
        },
        {
          "output_type": "stream",
          "name": "stdout",
          "text": [
            "\n"
          ]
        },
        {
          "output_type": "display_data",
          "data": {
            "text/plain": [
              "<Figure size 800x60 with 1 Axes>"
            ],
            "image/png": "[encoded data removed]"
          },
          "metadata": {}
        },
        {
          "output_type": "stream",
          "name": "stdout",
          "text": [
            "\n"
          ]
        },
        {
          "output_type": "display_data",
          "data": {
            "text/plain": [
              "<Figure size 800x80 with 1 Axes>"
            ],
            "image/png": "[encoded data removed]"
          },
          "metadata": {}
        },
        {
          "output_type": "stream",
          "name": "stdout",
          "text": [
            "\n"
          ]
        }
      ]
    },
    {
      "cell_type": "markdown",
      "source": [
        "*Columns of the Dataset*"
      ],
      "metadata": {
        "id": "HVYj5A4euqme"
      }
    },
    {
      "cell_type": "code",
      "source": [
        "num_cols = ['Temperature', 'Precipitation (%)', 'Atmospheric Pressure', 'Visibility (km)']\n",
        "log_cols = ['Humidity', 'Wind Speed', 'UV Index']\n",
        "cat_cols = ['Cloud Cover', 'Season', 'Location']\n",
        "target = 'Weather Type'"
      ],
      "metadata": {
        "id": "O_TnNlH8msBj"
      },
      "execution_count": null,
      "outputs": []
    },
    {
      "cell_type": "markdown",
      "source": [
        "***VISUALIZING FEATURES AFTER LOG TRANSFORMATION (LOG COLS)***"
      ],
      "metadata": {
        "id": "oygfzDmKhKUX"
      }
    },
    {
      "cell_type": "markdown",
      "source": [
        "a. Humidity Feature"
      ],
      "metadata": {
        "id": "IpQEc7R6hVZB"
      }
    },
    {
      "cell_type": "code",
      "source": [
        "log_Humidity = np.log(traindata['Humidity'])\n",
        "plt.hist(log_Humidity)\n",
        "plt.show()"
      ],
      "metadata": {
        "colab": {
          "base_uri": "https://localhost:8080/",
          "height": 430
        },
        "id": "QXRtxeJ17qMl",
        "outputId": "c09a73c2-13e4-476c-95da-98f78041e90e"
      },
      "execution_count": null,
      "outputs": [
        {
          "output_type": "display_data",
          "data": {
            "text/plain": [
              "<Figure size 640x480 with 1 Axes>"
            ],
            "image/png": "[encoded data removed]"
          },
          "metadata": {}
        }
      ]
    },
    {
      "cell_type": "markdown",
      "source": [
        "b. Wind Speed"
      ],
      "metadata": {
        "id": "iNImE_c3hclo"
      }
    },
    {
      "cell_type": "code",
      "source": [
        "log_WindS = np.log(traindata['Wind Speed'] + 1)     # to get rid of log(0), adding 1\n",
        "plt.hist(log_WindS)\n",
        "\n",
        "plt.show()"
      ],
      "metadata": {
        "colab": {
          "base_uri": "https://localhost:8080/",
          "height": 430
        },
        "id": "7uOvjQcn9bbv",
        "outputId": "b066d30e-caff-43bf-c5d9-c25c6a5cedd2"
      },
      "execution_count": null,
      "outputs": [
        {
          "output_type": "display_data",
          "data": {
            "text/plain": [
              "<Figure size 640x480 with 1 Axes>"
            ],
            "image/png": "[encoded data removed]"
          },
          "metadata": {}
        }
      ]
    },
    {
      "cell_type": "markdown",
      "source": [
        "c. UV Index"
      ],
      "metadata": {
        "id": "d-DTDjf_hfpO"
      }
    },
    {
      "cell_type": "code",
      "source": [
        "log_UV = np.log(traindata['UV Index'] + 1)     # to get rid of log(0), adding 1\n",
        "plt.hist(log_UV)\n",
        "plt.show()"
      ],
      "metadata": {
        "colab": {
          "base_uri": "https://localhost:8080/",
          "height": 430
        },
        "id": "PkZt6B-L-zxh",
        "outputId": "9ca88430-2c74-4929-ac32-60a6827f26e2"
      },
      "execution_count": null,
      "outputs": [
        {
          "output_type": "display_data",
          "data": {
            "text/plain": [
              "<Figure size 640x480 with 1 Axes>"
            ],
            "image/png": "[encoded data removed]"
          },
          "metadata": {}
        }
      ]
    },
    {
      "cell_type": "markdown",
      "source": [
        "***4. PROCESSING PIPELINE***"
      ],
      "metadata": {
        "id": "4AKuLgJmuzSp"
      }
    },
    {
      "cell_type": "code",
      "source": [
        "#processing pipeline\n",
        "from sklearn.preprocessing import OneHotEncoder, FunctionTransformer\n",
        "from sklearn.compose import ColumnTransformer\n",
        "from sklearn.impute import SimpleImputer\n",
        "from sklearn.preprocessing import StandardScaler\n",
        "from sklearn.pipeline import Pipeline\n",
        "import numpy as np\n",
        "\n",
        "num_pipeline = Pipeline([                           #now we need a small pipeline for numeric columns since it has two steps\n",
        "    #('impute', SimpleImputer(strategy='median')),   #this step will impute missing values using column medians\n",
        "    ('standardize', StandardScaler())               #this step will scale all numeric columns\n",
        "])\n",
        "\n",
        "def log_transformation(x):\n",
        "    return np.log(x+0.1)\n",
        "\n",
        "log_pipeline = Pipeline([                                        #now we need a small pipeline for numeric columns since it has two steps\n",
        "    #('impute', SimpleImputer(strategy='median')),                #this step will impute missing values using column medians\n",
        "    ('log transform', FunctionTransformer(log_transformation)), #this include a log transformation into the pipeline\n",
        "    ('standardize', StandardScaler())                            #this step will scale all numeric columns\n",
        "])\n",
        "\n",
        "processing_pipeline = ColumnTransformer([                                                      #this transformer merges the processed numeric columns and class columns\n",
        "    ('numeric', num_pipeline, num_cols),                                                       #numeric columns\n",
        "    ('log', log_pipeline, log_cols),                                                           #log columns\n",
        "    ('class', OneHotEncoder(max_categories=5, handle_unknown='infrequent_if_exist'), cat_cols) #encoder to transform class columns to numeric, this will automatically handle missing data\n",
        "  ])"
      ],
      "metadata": {
        "id": "2pt7yexAn1t1"
      },
      "execution_count": null,
      "outputs": []
    },
    {
      "cell_type": "code",
      "source": [
        "processing_pipeline"
      ],
      "metadata": {
        "colab": {
          "base_uri": "https://localhost:8080/",
          "height": 151
        },
        "id": "SE2Vl3bGn3KH",
        "outputId": "f5275993-f430-4ce3-9e32-ef4ba5f34c4a"
      },
      "execution_count": null,
      "outputs": [
        {
          "output_type": "execute_result",
          "data": {
            "text/plain": [
              "ColumnTransformer(transformers=[('numeric',\n",
              "                                 Pipeline(steps=[('standardize',\n",
              "                                                  StandardScaler())]),\n",
              "                                 ['Temperature', 'Precipitation (%)',\n",
              "                                  'Atmospheric Pressure', 'Visibility (km)']),\n",
              "                                ('log',\n",
              "                                 Pipeline(steps=[('log transform',\n",
              "                                                  FunctionTransformer(func=<function log_transformation at 0x7b8e9638f6d0>)),\n",
              "                                                 ('standardize',\n",
              "                                                  StandardScaler())]),\n",
              "                                 ['Humidity', 'Wind Speed', 'UV Index']),\n",
              "                                ('class',\n",
              "                                 OneHotEncoder(handle_unknown='infrequent_if_exist',\n",
              "                                               max_categories=5),\n",
              "                                 ['Cloud Cover', 'Season', 'Location'])])"
            ],
            "text/html": [
              "<style>#sk-container-id-1 {color: black;background-color: white;}#sk-container-id-1 pre{padding: 0;}#sk-container-id-1 div.sk-toggleable {background-color: white;}#sk-container-id-1 label.sk-toggleable__label {cursor: pointer;display: block;width: 100%;margin-bottom: 0;padding: 0.3em;box-sizing: border-box;text-align: center;}#sk-container-id-1 label.sk-toggleable__label-arrow:before {content: \"▸\";float: left;margin-right: 0.25em;color: #696969;}#sk-container-id-1 label.sk-toggleable__label-arrow:hover:before {color: black;}#sk-container-id-1 div.sk-estimator:hover label.sk-toggleable__label-arrow:before {color: black;}#sk-container-id-1 div.sk-toggleable__content {max-height: 0;max-width: 0;overflow: hidden;text-align: left;background-color: #f0f8ff;}#sk-container-id-1 div.sk-toggleable__content pre {margin: 0.2em;color: black;border-radius: 0.25em;background-color: #f0f8ff;}#sk-container-id-1 input.sk-toggleable__control:checked~div.sk-toggleable__content {max-height: 200px;max-width: 100%;overflow: auto;}#sk-container-id-1 input.sk-toggleable__control:checked~label.sk-toggleable__label-arrow:before {content: \"▾\";}#sk-container-id-1 div.sk-estimator input.sk-toggleable__control:checked~label.sk-toggleable__label {background-color: #d4ebff;}#sk-container-id-1 div.sk-label input.sk-toggleable__control:checked~label.sk-toggleable__label {background-color: #d4ebff;}#sk-container-id-1 input.sk-hidden--visually {border: 0;clip: rect(1px 1px 1px 1px);clip: rect(1px, 1px, 1px, 1px);height: 1px;margin: -1px;overflow: hidden;padding: 0;position: absolute;width: 1px;}#sk-container-id-1 div.sk-estimator {font-family: monospace;background-color: #f0f8ff;border: 1px dotted black;border-radius: 0.25em;box-sizing: border-box;margin-bottom: 0.5em;}#sk-container-id-1 div.sk-estimator:hover {background-color: #d4ebff;}#sk-container-id-1 div.sk-parallel-item::after {content: \"\";width: 100%;border-bottom: 1px solid gray;flex-grow: 1;}#sk-container-id-1 div.sk-label:hover label.sk-toggleable__label {background-color: #d4ebff;}#sk-container-id-1 div.sk-serial::before {content: \"\";position: absolute;border-left: 1px solid gray;box-sizing: border-box;top: 0;bottom: 0;left: 50%;z-index: 0;}#sk-container-id-1 div.sk-serial {display: flex;flex-direction: column;align-items: center;background-color: white;padding-right: 0.2em;padding-left: 0.2em;position: relative;}#sk-container-id-1 div.sk-item {position: relative;z-index: 1;}#sk-container-id-1 div.sk-parallel {display: flex;align-items: stretch;justify-content: center;background-color: white;position: relative;}#sk-container-id-1 div.sk-item::before, #sk-container-id-1 div.sk-parallel-item::before {content: \"\";position: absolute;border-left: 1px solid gray;box-sizing: border-box;top: 0;bottom: 0;left: 50%;z-index: -1;}#sk-container-id-1 div.sk-parallel-item {display: flex;flex-direction: column;z-index: 1;position: relative;background-color: white;}#sk-container-id-1 div.sk-parallel-item:first-child::after {align-self: flex-end;width: 50%;}#sk-container-id-1 div.sk-parallel-item:last-child::after {align-self: flex-start;width: 50%;}#sk-container-id-1 div.sk-parallel-item:only-child::after {width: 0;}#sk-container-id-1 div.sk-dashed-wrapped {border: 1px dashed gray;margin: 0 0.4em 0.5em 0.4em;box-sizing: border-box;padding-bottom: 0.4em;background-color: white;}#sk-container-id-1 div.sk-label label {font-family: monospace;font-weight: bold;display: inline-block;line-height: 1.2em;}#sk-container-id-1 div.sk-label-container {text-align: center;}#sk-container-id-1 div.sk-container {/* jupyter's `normalize.less` sets `[hidden] { display: none; }` but bootstrap.min.css set `[hidden] { display: none !important; }` so we also need the `!important` here to be able to override the default hidden behavior on the sphinx rendered scikit-learn.org. See: https://github.com/scikit-learn/scikit-learn/issues/21755 */display: inline-block !important;position: relative;}#sk-container-id-1 div.sk-text-repr-fallback {display: none;}</style><div id=\"sk-container-id-1\" class=\"sk-top-container\"><div class=\"sk-text-repr-fallback\"><pre>ColumnTransformer(transformers=[(&#x27;numeric&#x27;,\n",
              "                                 Pipeline(steps=[(&#x27;standardize&#x27;,\n",
              "                                                  StandardScaler())]),\n",
              "                                 [&#x27;Temperature&#x27;, &#x27;Precipitation (%)&#x27;,\n",
              "                                  &#x27;Atmospheric Pressure&#x27;, &#x27;Visibility (km)&#x27;]),\n",
              "                                (&#x27;log&#x27;,\n",
              "                                 Pipeline(steps=[(&#x27;log transform&#x27;,\n",
              "                                                  FunctionTransformer(func=&lt;function log_transformation at 0x7b8e9638f6d0&gt;)),\n",
              "                                                 (&#x27;standardize&#x27;,\n",
              "                                                  StandardScaler())]),\n",
              "                                 [&#x27;Humidity&#x27;, &#x27;Wind Speed&#x27;, &#x27;UV Index&#x27;]),\n",
              "                                (&#x27;class&#x27;,\n",
              "                                 OneHotEncoder(handle_unknown=&#x27;infrequent_if_exist&#x27;,\n",
              "                                               max_categories=5),\n",
              "                                 [&#x27;Cloud Cover&#x27;, &#x27;Season&#x27;, &#x27;Location&#x27;])])</pre><b>In a Jupyter environment, please rerun this cell to show the HTML representation or trust the notebook. <br />On GitHub, the HTML representation is unable to render, please try loading this page with nbviewer.org.</b></div><div class=\"sk-container\" hidden><div class=\"sk-item sk-dashed-wrapped\"><div class=\"sk-label-container\"><div class=\"sk-label sk-toggleable\"><input class=\"sk-toggleable__control sk-hidden--visually\" id=\"sk-estimator-id-1\" type=\"checkbox\" ><label for=\"sk-estimator-id-1\" class=\"sk-toggleable__label sk-toggleable__label-arrow\">ColumnTransformer</label><div class=\"sk-toggleable__content\"><pre>ColumnTransformer(transformers=[(&#x27;numeric&#x27;,\n",
              "                                 Pipeline(steps=[(&#x27;standardize&#x27;,\n",
              "                                                  StandardScaler())]),\n",
              "                                 [&#x27;Temperature&#x27;, &#x27;Precipitation (%)&#x27;,\n",
              "                                  &#x27;Atmospheric Pressure&#x27;, &#x27;Visibility (km)&#x27;]),\n",
              "                                (&#x27;log&#x27;,\n",
              "                                 Pipeline(steps=[(&#x27;log transform&#x27;,\n",
              "                                                  FunctionTransformer(func=&lt;function log_transformation at 0x7b8e9638f6d0&gt;)),\n",
              "                                                 (&#x27;standardize&#x27;,\n",
              "                                                  StandardScaler())]),\n",
              "                                 [&#x27;Humidity&#x27;, &#x27;Wind Speed&#x27;, &#x27;UV Index&#x27;]),\n",
              "                                (&#x27;class&#x27;,\n",
              "                                 OneHotEncoder(handle_unknown=&#x27;infrequent_if_exist&#x27;,\n",
              "                                               max_categories=5),\n",
              "                                 [&#x27;Cloud Cover&#x27;, &#x27;Season&#x27;, &#x27;Location&#x27;])])</pre></div></div></div><div class=\"sk-parallel\"><div class=\"sk-parallel-item\"><div class=\"sk-item\"><div class=\"sk-label-container\"><div class=\"sk-label sk-toggleable\"><input class=\"sk-toggleable__control sk-hidden--visually\" id=\"sk-estimator-id-2\" type=\"checkbox\" ><label for=\"sk-estimator-id-2\" class=\"sk-toggleable__label sk-toggleable__label-arrow\">numeric</label><div class=\"sk-toggleable__content\"><pre>[&#x27;Temperature&#x27;, &#x27;Precipitation (%)&#x27;, &#x27;Atmospheric Pressure&#x27;, &#x27;Visibility (km)&#x27;]</pre></div></div></div><div class=\"sk-serial\"><div class=\"sk-item\"><div class=\"sk-serial\"><div class=\"sk-item\"><div class=\"sk-estimator sk-toggleable\"><input class=\"sk-toggleable__control sk-hidden--visually\" id=\"sk-estimator-id-3\" type=\"checkbox\" ><label for=\"sk-estimator-id-3\" class=\"sk-toggleable__label sk-toggleable__label-arrow\">StandardScaler</label><div class=\"sk-toggleable__content\"><pre>StandardScaler()</pre></div></div></div></div></div></div></div></div><div class=\"sk-parallel-item\"><div class=\"sk-item\"><div class=\"sk-label-container\"><div class=\"sk-label sk-toggleable\"><input class=\"sk-toggleable__control sk-hidden--visually\" id=\"sk-estimator-id-4\" type=\"checkbox\" ><label for=\"sk-estimator-id-4\" class=\"sk-toggleable__label sk-toggleable__label-arrow\">log</label><div class=\"sk-toggleable__content\"><pre>[&#x27;Humidity&#x27;, &#x27;Wind Speed&#x27;, &#x27;UV Index&#x27;]</pre></div></div></div><div class=\"sk-serial\"><div class=\"sk-item\"><div class=\"sk-serial\"><div class=\"sk-item\"><div class=\"sk-estimator sk-toggleable\"><input class=\"sk-toggleable__control sk-hidden--visually\" id=\"sk-estimator-id-5\" type=\"checkbox\" ><label for=\"sk-estimator-id-5\" class=\"sk-toggleable__label sk-toggleable__label-arrow\">FunctionTransformer</label><div class=\"sk-toggleable__content\"><pre>FunctionTransformer(func=&lt;function log_transformation at 0x7b8e9638f6d0&gt;)</pre></div></div></div><div class=\"sk-item\"><div class=\"sk-estimator sk-toggleable\"><input class=\"sk-toggleable__control sk-hidden--visually\" id=\"sk-estimator-id-6\" type=\"checkbox\" ><label for=\"sk-estimator-id-6\" class=\"sk-toggleable__label sk-toggleable__label-arrow\">StandardScaler</label><div class=\"sk-toggleable__content\"><pre>StandardScaler()</pre></div></div></div></div></div></div></div></div><div class=\"sk-parallel-item\"><div class=\"sk-item\"><div class=\"sk-label-container\"><div class=\"sk-label sk-toggleable\"><input class=\"sk-toggleable__control sk-hidden--visually\" id=\"sk-estimator-id-7\" type=\"checkbox\" ><label for=\"sk-estimator-id-7\" class=\"sk-toggleable__label sk-toggleable__label-arrow\">class</label><div class=\"sk-toggleable__content\"><pre>[&#x27;Cloud Cover&#x27;, &#x27;Season&#x27;, &#x27;Location&#x27;]</pre></div></div></div><div class=\"sk-serial\"><div class=\"sk-item\"><div class=\"sk-estimator sk-toggleable\"><input class=\"sk-toggleable__control sk-hidden--visually\" id=\"sk-estimator-id-8\" type=\"checkbox\" ><label for=\"sk-estimator-id-8\" class=\"sk-toggleable__label sk-toggleable__label-arrow\">OneHotEncoder</label><div class=\"sk-toggleable__content\"><pre>OneHotEncoder(handle_unknown=&#x27;infrequent_if_exist&#x27;, max_categories=5)</pre></div></div></div></div></div></div></div></div></div></div>"
            ]
          },
          "metadata": {},
          "execution_count": 23
        }
      ]
    },
    {
      "cell_type": "markdown",
      "source": [
        "***5. DATA MODELLING***"
      ],
      "metadata": {
        "id": "rgvL-WgtvHOy"
      }
    },
    {
      "cell_type": "markdown",
      "source": [
        "***5.1 Training Decision Tree Model***"
      ],
      "metadata": {
        "id": "fh4_QekJvZRj"
      }
    },
    {
      "cell_type": "code",
      "source": [
        "from sklearn.tree import DecisionTreeClassifier\n",
        "\n",
        "tree_pipeline = Pipeline([\n",
        "    ('processing',processing_pipeline),\n",
        "    ('modeling',DecisionTreeClassifier())\n",
        "])\n",
        "\n",
        "tree_pipeline.fit(traindata, traindata[target])"
      ],
      "metadata": {
        "colab": {
          "base_uri": "https://localhost:8080/",
          "height": 225
        },
        "id": "bg_w38sdn5GS",
        "outputId": "51bfcc08-32f1-46c0-8dc2-786bc0f117fd"
      },
      "execution_count": null,
      "outputs": [
        {
          "output_type": "execute_result",
          "data": {
            "text/plain": [
              "Pipeline(steps=[('processing',\n",
              "                 ColumnTransformer(transformers=[('numeric',\n",
              "                                                  Pipeline(steps=[('standardize',\n",
              "                                                                   StandardScaler())]),\n",
              "                                                  ['Temperature',\n",
              "                                                   'Precipitation (%)',\n",
              "                                                   'Atmospheric Pressure',\n",
              "                                                   'Visibility (km)']),\n",
              "                                                 ('log',\n",
              "                                                  Pipeline(steps=[('log '\n",
              "                                                                   'transform',\n",
              "                                                                   FunctionTransformer(func=<function log_transformation at 0x7b8e9638f6d0>)),\n",
              "                                                                  ('standardize',\n",
              "                                                                   StandardScaler())]),\n",
              "                                                  ['Humidity', 'Wind Speed',\n",
              "                                                   'UV Index']),\n",
              "                                                 ('class',\n",
              "                                                  OneHotEncoder(handle_unknown='infrequent_if_exist',\n",
              "                                                                max_categories=5),\n",
              "                                                  ['Cloud Cover', 'Season',\n",
              "                                                   'Location'])])),\n",
              "                ('modeling', DecisionTreeClassifier())])"
            ],
            "text/html": [
              "<style>#sk-container-id-2 {color: black;background-color: white;}#sk-container-id-2 pre{padding: 0;}#sk-container-id-2 div.sk-toggleable {background-color: white;}#sk-container-id-2 label.sk-toggleable__label {cursor: pointer;display: block;width: 100%;margin-bottom: 0;padding: 0.3em;box-sizing: border-box;text-align: center;}#sk-container-id-2 label.sk-toggleable__label-arrow:before {content: \"▸\";float: left;margin-right: 0.25em;color: #696969;}#sk-container-id-2 label.sk-toggleable__label-arrow:hover:before {color: black;}#sk-container-id-2 div.sk-estimator:hover label.sk-toggleable__label-arrow:before {color: black;}#sk-container-id-2 div.sk-toggleable__content {max-height: 0;max-width: 0;overflow: hidden;text-align: left;background-color: #f0f8ff;}#sk-container-id-2 div.sk-toggleable__content pre {margin: 0.2em;color: black;border-radius: 0.25em;background-color: #f0f8ff;}#sk-container-id-2 input.sk-toggleable__control:checked~div.sk-toggleable__content {max-height: 200px;max-width: 100%;overflow: auto;}#sk-container-id-2 input.sk-toggleable__control:checked~label.sk-toggleable__label-arrow:before {content: \"▾\";}#sk-container-id-2 div.sk-estimator input.sk-toggleable__control:checked~label.sk-toggleable__label {background-color: #d4ebff;}#sk-container-id-2 div.sk-label input.sk-toggleable__control:checked~label.sk-toggleable__label {background-color: #d4ebff;}#sk-container-id-2 input.sk-hidden--visually {border: 0;clip: rect(1px 1px 1px 1px);clip: rect(1px, 1px, 1px, 1px);height: 1px;margin: -1px;overflow: hidden;padding: 0;position: absolute;width: 1px;}#sk-container-id-2 div.sk-estimator {font-family: monospace;background-color: #f0f8ff;border: 1px dotted black;border-radius: 0.25em;box-sizing: border-box;margin-bottom: 0.5em;}#sk-container-id-2 div.sk-estimator:hover {background-color: #d4ebff;}#sk-container-id-2 div.sk-parallel-item::after {content: \"\";width: 100%;border-bottom: 1px solid gray;flex-grow: 1;}#sk-container-id-2 div.sk-label:hover label.sk-toggleable__label {background-color: #d4ebff;}#sk-container-id-2 div.sk-serial::before {content: \"\";position: absolute;border-left: 1px solid gray;box-sizing: border-box;top: 0;bottom: 0;left: 50%;z-index: 0;}#sk-container-id-2 div.sk-serial {display: flex;flex-direction: column;align-items: center;background-color: white;padding-right: 0.2em;padding-left: 0.2em;position: relative;}#sk-container-id-2 div.sk-item {position: relative;z-index: 1;}#sk-container-id-2 div.sk-parallel {display: flex;align-items: stretch;justify-content: center;background-color: white;position: relative;}#sk-container-id-2 div.sk-item::before, #sk-container-id-2 div.sk-parallel-item::before {content: \"\";position: absolute;border-left: 1px solid gray;box-sizing: border-box;top: 0;bottom: 0;left: 50%;z-index: -1;}#sk-container-id-2 div.sk-parallel-item {display: flex;flex-direction: column;z-index: 1;position: relative;background-color: white;}#sk-container-id-2 div.sk-parallel-item:first-child::after {align-self: flex-end;width: 50%;}#sk-container-id-2 div.sk-parallel-item:last-child::after {align-self: flex-start;width: 50%;}#sk-container-id-2 div.sk-parallel-item:only-child::after {width: 0;}#sk-container-id-2 div.sk-dashed-wrapped {border: 1px dashed gray;margin: 0 0.4em 0.5em 0.4em;box-sizing: border-box;padding-bottom: 0.4em;background-color: white;}#sk-container-id-2 div.sk-label label {font-family: monospace;font-weight: bold;display: inline-block;line-height: 1.2em;}#sk-container-id-2 div.sk-label-container {text-align: center;}#sk-container-id-2 div.sk-container {/* jupyter's `normalize.less` sets `[hidden] { display: none; }` but bootstrap.min.css set `[hidden] { display: none !important; }` so we also need the `!important` here to be able to override the default hidden behavior on the sphinx rendered scikit-learn.org. See: https://github.com/scikit-learn/scikit-learn/issues/21755 */display: inline-block !important;position: relative;}#sk-container-id-2 div.sk-text-repr-fallback {display: none;}</style><div id=\"sk-container-id-2\" class=\"sk-top-container\"><div class=\"sk-text-repr-fallback\"><pre>Pipeline(steps=[(&#x27;processing&#x27;,\n",
              "                 ColumnTransformer(transformers=[(&#x27;numeric&#x27;,\n",
              "                                                  Pipeline(steps=[(&#x27;standardize&#x27;,\n",
              "                                                                   StandardScaler())]),\n",
              "                                                  [&#x27;Temperature&#x27;,\n",
              "                                                   &#x27;Precipitation (%)&#x27;,\n",
              "                                                   &#x27;Atmospheric Pressure&#x27;,\n",
              "                                                   &#x27;Visibility (km)&#x27;]),\n",
              "                                                 (&#x27;log&#x27;,\n",
              "                                                  Pipeline(steps=[(&#x27;log &#x27;\n",
              "                                                                   &#x27;transform&#x27;,\n",
              "                                                                   FunctionTransformer(func=&lt;function log_transformation at 0x7b8e9638f6d0&gt;)),\n",
              "                                                                  (&#x27;standardize&#x27;,\n",
              "                                                                   StandardScaler())]),\n",
              "                                                  [&#x27;Humidity&#x27;, &#x27;Wind Speed&#x27;,\n",
              "                                                   &#x27;UV Index&#x27;]),\n",
              "                                                 (&#x27;class&#x27;,\n",
              "                                                  OneHotEncoder(handle_unknown=&#x27;infrequent_if_exist&#x27;,\n",
              "                                                                max_categories=5),\n",
              "                                                  [&#x27;Cloud Cover&#x27;, &#x27;Season&#x27;,\n",
              "                                                   &#x27;Location&#x27;])])),\n",
              "                (&#x27;modeling&#x27;, DecisionTreeClassifier())])</pre><b>In a Jupyter environment, please rerun this cell to show the HTML representation or trust the notebook. <br />On GitHub, the HTML representation is unable to render, please try loading this page with nbviewer.org.</b></div><div class=\"sk-container\" hidden><div class=\"sk-item sk-dashed-wrapped\"><div class=\"sk-label-container\"><div class=\"sk-label sk-toggleable\"><input class=\"sk-toggleable__control sk-hidden--visually\" id=\"sk-estimator-id-9\" type=\"checkbox\" ><label for=\"sk-estimator-id-9\" class=\"sk-toggleable__label sk-toggleable__label-arrow\">Pipeline</label><div class=\"sk-toggleable__content\"><pre>Pipeline(steps=[(&#x27;processing&#x27;,\n",
              "                 ColumnTransformer(transformers=[(&#x27;numeric&#x27;,\n",
              "                                                  Pipeline(steps=[(&#x27;standardize&#x27;,\n",
              "                                                                   StandardScaler())]),\n",
              "                                                  [&#x27;Temperature&#x27;,\n",
              "                                                   &#x27;Precipitation (%)&#x27;,\n",
              "                                                   &#x27;Atmospheric Pressure&#x27;,\n",
              "                                                   &#x27;Visibility (km)&#x27;]),\n",
              "                                                 (&#x27;log&#x27;,\n",
              "                                                  Pipeline(steps=[(&#x27;log &#x27;\n",
              "                                                                   &#x27;transform&#x27;,\n",
              "                                                                   FunctionTransformer(func=&lt;function log_transformation at 0x7b8e9638f6d0&gt;)),\n",
              "                                                                  (&#x27;standardize&#x27;,\n",
              "                                                                   StandardScaler())]),\n",
              "                                                  [&#x27;Humidity&#x27;, &#x27;Wind Speed&#x27;,\n",
              "                                                   &#x27;UV Index&#x27;]),\n",
              "                                                 (&#x27;class&#x27;,\n",
              "                                                  OneHotEncoder(handle_unknown=&#x27;infrequent_if_exist&#x27;,\n",
              "                                                                max_categories=5),\n",
              "                                                  [&#x27;Cloud Cover&#x27;, &#x27;Season&#x27;,\n",
              "                                                   &#x27;Location&#x27;])])),\n",
              "                (&#x27;modeling&#x27;, DecisionTreeClassifier())])</pre></div></div></div><div class=\"sk-serial\"><div class=\"sk-item sk-dashed-wrapped\"><div class=\"sk-label-container\"><div class=\"sk-label sk-toggleable\"><input class=\"sk-toggleable__control sk-hidden--visually\" id=\"sk-estimator-id-10\" type=\"checkbox\" ><label for=\"sk-estimator-id-10\" class=\"sk-toggleable__label sk-toggleable__label-arrow\">processing: ColumnTransformer</label><div class=\"sk-toggleable__content\"><pre>ColumnTransformer(transformers=[(&#x27;numeric&#x27;,\n",
              "                                 Pipeline(steps=[(&#x27;standardize&#x27;,\n",
              "                                                  StandardScaler())]),\n",
              "                                 [&#x27;Temperature&#x27;, &#x27;Precipitation (%)&#x27;,\n",
              "                                  &#x27;Atmospheric Pressure&#x27;, &#x27;Visibility (km)&#x27;]),\n",
              "                                (&#x27;log&#x27;,\n",
              "                                 Pipeline(steps=[(&#x27;log transform&#x27;,\n",
              "                                                  FunctionTransformer(func=&lt;function log_transformation at 0x7b8e9638f6d0&gt;)),\n",
              "                                                 (&#x27;standardize&#x27;,\n",
              "                                                  StandardScaler())]),\n",
              "                                 [&#x27;Humidity&#x27;, &#x27;Wind Speed&#x27;, &#x27;UV Index&#x27;]),\n",
              "                                (&#x27;class&#x27;,\n",
              "                                 OneHotEncoder(handle_unknown=&#x27;infrequent_if_exist&#x27;,\n",
              "                                               max_categories=5),\n",
              "                                 [&#x27;Cloud Cover&#x27;, &#x27;Season&#x27;, &#x27;Location&#x27;])])</pre></div></div></div><div class=\"sk-parallel\"><div class=\"sk-parallel-item\"><div class=\"sk-item\"><div class=\"sk-label-container\"><div class=\"sk-label sk-toggleable\"><input class=\"sk-toggleable__control sk-hidden--visually\" id=\"sk-estimator-id-11\" type=\"checkbox\" ><label for=\"sk-estimator-id-11\" class=\"sk-toggleable__label sk-toggleable__label-arrow\">numeric</label><div class=\"sk-toggleable__content\"><pre>[&#x27;Temperature&#x27;, &#x27;Precipitation (%)&#x27;, &#x27;Atmospheric Pressure&#x27;, &#x27;Visibility (km)&#x27;]</pre></div></div></div><div class=\"sk-serial\"><div class=\"sk-item\"><div class=\"sk-serial\"><div class=\"sk-item\"><div class=\"sk-estimator sk-toggleable\"><input class=\"sk-toggleable__control sk-hidden--visually\" id=\"sk-estimator-id-12\" type=\"checkbox\" ><label for=\"sk-estimator-id-12\" class=\"sk-toggleable__label sk-toggleable__label-arrow\">StandardScaler</label><div class=\"sk-toggleable__content\"><pre>StandardScaler()</pre></div></div></div></div></div></div></div></div><div class=\"sk-parallel-item\"><div class=\"sk-item\"><div class=\"sk-label-container\"><div class=\"sk-label sk-toggleable\"><input class=\"sk-toggleable__control sk-hidden--visually\" id=\"sk-estimator-id-13\" type=\"checkbox\" ><label for=\"sk-estimator-id-13\" class=\"sk-toggleable__label sk-toggleable__label-arrow\">log</label><div class=\"sk-toggleable__content\"><pre>[&#x27;Humidity&#x27;, &#x27;Wind Speed&#x27;, &#x27;UV Index&#x27;]</pre></div></div></div><div class=\"sk-serial\"><div class=\"sk-item\"><div class=\"sk-serial\"><div class=\"sk-item\"><div class=\"sk-estimator sk-toggleable\"><input class=\"sk-toggleable__control sk-hidden--visually\" id=\"sk-estimator-id-14\" type=\"checkbox\" ><label for=\"sk-estimator-id-14\" class=\"sk-toggleable__label sk-toggleable__label-arrow\">FunctionTransformer</label><div class=\"sk-toggleable__content\"><pre>FunctionTransformer(func=&lt;function log_transformation at 0x7b8e9638f6d0&gt;)</pre></div></div></div><div class=\"sk-item\"><div class=\"sk-estimator sk-toggleable\"><input class=\"sk-toggleable__control sk-hidden--visually\" id=\"sk-estimator-id-15\" type=\"checkbox\" ><label for=\"sk-estimator-id-15\" class=\"sk-toggleable__label sk-toggleable__label-arrow\">StandardScaler</label><div class=\"sk-toggleable__content\"><pre>StandardScaler()</pre></div></div></div></div></div></div></div></div><div class=\"sk-parallel-item\"><div class=\"sk-item\"><div class=\"sk-label-container\"><div class=\"sk-label sk-toggleable\"><input class=\"sk-toggleable__control sk-hidden--visually\" id=\"sk-estimator-id-16\" type=\"checkbox\" ><label for=\"sk-estimator-id-16\" class=\"sk-toggleable__label sk-toggleable__label-arrow\">class</label><div class=\"sk-toggleable__content\"><pre>[&#x27;Cloud Cover&#x27;, &#x27;Season&#x27;, &#x27;Location&#x27;]</pre></div></div></div><div class=\"sk-serial\"><div class=\"sk-item\"><div class=\"sk-estimator sk-toggleable\"><input class=\"sk-toggleable__control sk-hidden--visually\" id=\"sk-estimator-id-17\" type=\"checkbox\" ><label for=\"sk-estimator-id-17\" class=\"sk-toggleable__label sk-toggleable__label-arrow\">OneHotEncoder</label><div class=\"sk-toggleable__content\"><pre>OneHotEncoder(handle_unknown=&#x27;infrequent_if_exist&#x27;, max_categories=5)</pre></div></div></div></div></div></div></div></div><div class=\"sk-item\"><div class=\"sk-estimator sk-toggleable\"><input class=\"sk-toggleable__control sk-hidden--visually\" id=\"sk-estimator-id-18\" type=\"checkbox\" ><label for=\"sk-estimator-id-18\" class=\"sk-toggleable__label sk-toggleable__label-arrow\">DecisionTreeClassifier</label><div class=\"sk-toggleable__content\"><pre>DecisionTreeClassifier()</pre></div></div></div></div></div></div></div>"
            ]
          },
          "metadata": {},
          "execution_count": 57
        }
      ]
    },
    {
      "cell_type": "markdown",
      "source": [
        "***Evaluation of Data Performance by Confusion Metrics (Accuracy, Precision, Recall and F1 Score)***"
      ],
      "metadata": {
        "id": "9W_aUeOfwgQg"
      }
    },
    {
      "cell_type": "markdown",
      "source": [
        "Accuracy Score"
      ],
      "metadata": {
        "id": "QhJZPkT002iQ"
      }
    },
    {
      "cell_type": "code",
      "source": [
        "from sklearn.metrics import accuracy_score\n",
        "tree_pred = tree_pipeline.predict(traindata)\n",
        "accuracy_score(traindata[target], tree_pred)"
      ],
      "metadata": {
        "colab": {
          "base_uri": "https://localhost:8080/"
        },
        "id": "h4zLVX50oCEZ",
        "outputId": "05f12a8b-fa07-44e1-b909-d218864834e0"
      },
      "execution_count": null,
      "outputs": [
        {
          "output_type": "execute_result",
          "data": {
            "text/plain": [
              "1.0"
            ]
          },
          "metadata": {},
          "execution_count": 58
        }
      ]
    },
    {
      "cell_type": "code",
      "source": [
        "tree_pred_test = tree_pipeline.predict(testdata)\n",
        "accuracy_score(testdata[target], tree_pred_test)"
      ],
      "metadata": {
        "colab": {
          "base_uri": "https://localhost:8080/"
        },
        "id": "PViq2GAGrKOu",
        "outputId": "26c72707-5666-4d5d-ae3e-efedd0a2f83b"
      },
      "execution_count": null,
      "outputs": [
        {
          "output_type": "execute_result",
          "data": {
            "text/plain": [
              "0.8993939393939394"
            ]
          },
          "metadata": {},
          "execution_count": 59
        }
      ]
    },
    {
      "cell_type": "markdown",
      "source": [
        "Precision Score"
      ],
      "metadata": {
        "id": "ZMaTFIs_05UR"
      }
    },
    {
      "cell_type": "code",
      "source": [
        "from sklearn.metrics import precision_score\n",
        "tree_pred = tree_pipeline.predict(traindata)\n",
        "precision_score(traindata[target], tree_pred, average='weighted')"
      ],
      "metadata": {
        "colab": {
          "base_uri": "https://localhost:8080/"
        },
        "id": "OqI5fv4wrM3Y",
        "outputId": "38cdda96-13ef-42e3-824c-3b9e9f018b0d"
      },
      "execution_count": null,
      "outputs": [
        {
          "output_type": "execute_result",
          "data": {
            "text/plain": [
              "1.0"
            ]
          },
          "metadata": {},
          "execution_count": 60
        }
      ]
    },
    {
      "cell_type": "code",
      "source": [
        "tree_pred_test = tree_pipeline.predict(testdata)\n",
        "precision_score(testdata[target], tree_pred_test, average='weighted')"
      ],
      "metadata": {
        "colab": {
          "base_uri": "https://localhost:8080/"
        },
        "id": "decdXiOyrPgA",
        "outputId": "150655df-b7a8-4118-bd91-010473dcdd67"
      },
      "execution_count": null,
      "outputs": [
        {
          "output_type": "execute_result",
          "data": {
            "text/plain": [
              "0.8993583176751799"
            ]
          },
          "metadata": {},
          "execution_count": 61
        }
      ]
    },
    {
      "cell_type": "markdown",
      "source": [
        "Recall Score"
      ],
      "metadata": {
        "id": "pSsPEQq409uy"
      }
    },
    {
      "cell_type": "code",
      "source": [
        "from sklearn.metrics import recall_score\n",
        "tree_pred = tree_pipeline.predict(traindata)\n",
        "recall_score(traindata[target], tree_pred, average='weighted')"
      ],
      "metadata": {
        "colab": {
          "base_uri": "https://localhost:8080/"
        },
        "id": "Rm6baCATxNYD",
        "outputId": "212d895a-0812-4a32-b864-5a94bc0abd17"
      },
      "execution_count": null,
      "outputs": [
        {
          "output_type": "execute_result",
          "data": {
            "text/plain": [
              "1.0"
            ]
          },
          "metadata": {},
          "execution_count": 62
        }
      ]
    },
    {
      "cell_type": "code",
      "source": [
        "tree_pred_test = tree_pipeline.predict(testdata)\n",
        "recall_score(testdata[target], tree_pred_test, average='weighted')"
      ],
      "metadata": {
        "id": "G3wjI_ToxNGq",
        "colab": {
          "base_uri": "https://localhost:8080/"
        },
        "outputId": "e0d0b832-133a-4f16-fbfb-6b6e8a81cffc"
      },
      "execution_count": null,
      "outputs": [
        {
          "output_type": "execute_result",
          "data": {
            "text/plain": [
              "0.8993939393939394"
            ]
          },
          "metadata": {},
          "execution_count": 63
        }
      ]
    },
    {
      "cell_type": "markdown",
      "source": [
        "F1 Score"
      ],
      "metadata": {
        "id": "niJCS4-t1AsR"
      }
    },
    {
      "cell_type": "code",
      "source": [
        "from sklearn.metrics import f1_score\n",
        "tree_pred = tree_pipeline.predict(traindata)\n",
        "f1_score(traindata[target], tree_pred, average='weighted')"
      ],
      "metadata": {
        "colab": {
          "base_uri": "https://localhost:8080/"
        },
        "id": "-yrdw-r_r1Uf",
        "outputId": "dabbf655-5f63-49a3-8867-e5094ba329ea"
      },
      "execution_count": null,
      "outputs": [
        {
          "output_type": "execute_result",
          "data": {
            "text/plain": [
              "1.0"
            ]
          },
          "metadata": {},
          "execution_count": 64
        }
      ]
    },
    {
      "cell_type": "code",
      "source": [
        "tree_pred_test = tree_pipeline.predict(testdata)\n",
        "f1_score(testdata[target], tree_pred_test, average='weighted')"
      ],
      "metadata": {
        "colab": {
          "base_uri": "https://localhost:8080/"
        },
        "id": "t3D7zJe0uNzE",
        "outputId": "b16d619a-eaee-4e55-dc62-4eb353146941"
      },
      "execution_count": null,
      "outputs": [
        {
          "output_type": "execute_result",
          "data": {
            "text/plain": [
              "0.8992522820342638"
            ]
          },
          "metadata": {},
          "execution_count": 65
        }
      ]
    },
    {
      "cell_type": "markdown",
      "source": [
        "***FINE TUNING THE DECISION TREE MODEL***"
      ],
      "metadata": {
        "id": "G3-Y_f1cxf3Y"
      }
    },
    {
      "cell_type": "code",
      "source": [
        "from sklearn.tree import DecisionTreeClassifier\n",
        "from sklearn.model_selection import GridSearchCV\n",
        "\n",
        "param_grid = [{\n",
        "    'max_depth': [2, 3, 4, 5],\n",
        "    'max_features' : [5, 10, 15, 20],\n",
        "    'min_samples_split' : [25, 50, 100, 200],\n",
        "    'min_samples_leaf' : [25, 50, 100, 200]\n",
        "}]\n",
        "\n",
        "tree = DecisionTreeClassifier()\n",
        "\n",
        "grid_search = GridSearchCV(tree, param_grid, cv=5, scoring='accuracy', return_train_score=True)\n",
        "\n",
        "tree_pipeline = Pipeline([\n",
        "    ('processing', processing_pipeline),\n",
        "    ('modeling tree', grid_search)\n",
        "])\n",
        "\n",
        "tree_pipeline.fit(traindata, traindata[target])"
      ],
      "metadata": {
        "colab": {
          "base_uri": "https://localhost:8080/",
          "height": 290
        },
        "id": "1vCLdrjSuTil",
        "outputId": "ae450fa4-b3b4-49d2-fe71-cd5bb6de6f58"
      },
      "execution_count": null,
      "outputs": [
        {
          "output_type": "execute_result",
          "data": {
            "text/plain": [
              "Pipeline(steps=[('processing',\n",
              "                 ColumnTransformer(transformers=[('numeric',\n",
              "                                                  Pipeline(steps=[('standardize',\n",
              "                                                                   StandardScaler())]),\n",
              "                                                  ['Temperature',\n",
              "                                                   'Precipitation (%)',\n",
              "                                                   'Atmospheric Pressure',\n",
              "                                                   'Visibility (km)']),\n",
              "                                                 ('log',\n",
              "                                                  Pipeline(steps=[('log '\n",
              "                                                                   'transform',\n",
              "                                                                   FunctionTransformer(func=<function log_transformation at 0x7b8e9638f6d0>)),\n",
              "                                                                  ('standardize',\n",
              "                                                                   StandardScaler())]),\n",
              "                                                  ['H...\n",
              "                                                  OneHotEncoder(handle_unknown='infrequent_if_exist',\n",
              "                                                                max_categories=5),\n",
              "                                                  ['Cloud Cover', 'Season',\n",
              "                                                   'Location'])])),\n",
              "                ('modeling tree',\n",
              "                 GridSearchCV(cv=5, estimator=DecisionTreeClassifier(),\n",
              "                              param_grid=[{'max_depth': [2, 3, 4, 5],\n",
              "                                           'max_features': [5, 10, 15, 20],\n",
              "                                           'min_samples_leaf': [25, 50, 100,\n",
              "                                                                200],\n",
              "                                           'min_samples_split': [25, 50, 100,\n",
              "                                                                 200]}],\n",
              "                              return_train_score=True, scoring='accuracy'))])"
            ],
            "text/html": [
              "<style>#sk-container-id-3 {color: black;background-color: white;}#sk-container-id-3 pre{padding: 0;}#sk-container-id-3 div.sk-toggleable {background-color: white;}#sk-container-id-3 label.sk-toggleable__label {cursor: pointer;display: block;width: 100%;margin-bottom: 0;padding: 0.3em;box-sizing: border-box;text-align: center;}#sk-container-id-3 label.sk-toggleable__label-arrow:before {content: \"▸\";float: left;margin-right: 0.25em;color: #696969;}#sk-container-id-3 label.sk-toggleable__label-arrow:hover:before {color: black;}#sk-container-id-3 div.sk-estimator:hover label.sk-toggleable__label-arrow:before {color: black;}#sk-container-id-3 div.sk-toggleable__content {max-height: 0;max-width: 0;overflow: hidden;text-align: left;background-color: #f0f8ff;}#sk-container-id-3 div.sk-toggleable__content pre {margin: 0.2em;color: black;border-radius: 0.25em;background-color: #f0f8ff;}#sk-container-id-3 input.sk-toggleable__control:checked~div.sk-toggleable__content {max-height: 200px;max-width: 100%;overflow: auto;}#sk-container-id-3 input.sk-toggleable__control:checked~label.sk-toggleable__label-arrow:before {content: \"▾\";}#sk-container-id-3 div.sk-estimator input.sk-toggleable__control:checked~label.sk-toggleable__label {background-color: #d4ebff;}#sk-container-id-3 div.sk-label input.sk-toggleable__control:checked~label.sk-toggleable__label {background-color: #d4ebff;}#sk-container-id-3 input.sk-hidden--visually {border: 0;clip: rect(1px 1px 1px 1px);clip: rect(1px, 1px, 1px, 1px);height: 1px;margin: -1px;overflow: hidden;padding: 0;position: absolute;width: 1px;}#sk-container-id-3 div.sk-estimator {font-family: monospace;background-color: #f0f8ff;border: 1px dotted black;border-radius: 0.25em;box-sizing: border-box;margin-bottom: 0.5em;}#sk-container-id-3 div.sk-estimator:hover {background-color: #d4ebff;}#sk-container-id-3 div.sk-parallel-item::after {content: \"\";width: 100%;border-bottom: 1px solid gray;flex-grow: 1;}#sk-container-id-3 div.sk-label:hover label.sk-toggleable__label {background-color: #d4ebff;}#sk-container-id-3 div.sk-serial::before {content: \"\";position: absolute;border-left: 1px solid gray;box-sizing: border-box;top: 0;bottom: 0;left: 50%;z-index: 0;}#sk-container-id-3 div.sk-serial {display: flex;flex-direction: column;align-items: center;background-color: white;padding-right: 0.2em;padding-left: 0.2em;position: relative;}#sk-container-id-3 div.sk-item {position: relative;z-index: 1;}#sk-container-id-3 div.sk-parallel {display: flex;align-items: stretch;justify-content: center;background-color: white;position: relative;}#sk-container-id-3 div.sk-item::before, #sk-container-id-3 div.sk-parallel-item::before {content: \"\";position: absolute;border-left: 1px solid gray;box-sizing: border-box;top: 0;bottom: 0;left: 50%;z-index: -1;}#sk-container-id-3 div.sk-parallel-item {display: flex;flex-direction: column;z-index: 1;position: relative;background-color: white;}#sk-container-id-3 div.sk-parallel-item:first-child::after {align-self: flex-end;width: 50%;}#sk-container-id-3 div.sk-parallel-item:last-child::after {align-self: flex-start;width: 50%;}#sk-container-id-3 div.sk-parallel-item:only-child::after {width: 0;}#sk-container-id-3 div.sk-dashed-wrapped {border: 1px dashed gray;margin: 0 0.4em 0.5em 0.4em;box-sizing: border-box;padding-bottom: 0.4em;background-color: white;}#sk-container-id-3 div.sk-label label {font-family: monospace;font-weight: bold;display: inline-block;line-height: 1.2em;}#sk-container-id-3 div.sk-label-container {text-align: center;}#sk-container-id-3 div.sk-container {/* jupyter's `normalize.less` sets `[hidden] { display: none; }` but bootstrap.min.css set `[hidden] { display: none !important; }` so we also need the `!important` here to be able to override the default hidden behavior on the sphinx rendered scikit-learn.org. See: https://github.com/scikit-learn/scikit-learn/issues/21755 */display: inline-block !important;position: relative;}#sk-container-id-3 div.sk-text-repr-fallback {display: none;}</style><div id=\"sk-container-id-3\" class=\"sk-top-container\"><div class=\"sk-text-repr-fallback\"><pre>Pipeline(steps=[(&#x27;processing&#x27;,\n",
              "                 ColumnTransformer(transformers=[(&#x27;numeric&#x27;,\n",
              "                                                  Pipeline(steps=[(&#x27;standardize&#x27;,\n",
              "                                                                   StandardScaler())]),\n",
              "                                                  [&#x27;Temperature&#x27;,\n",
              "                                                   &#x27;Precipitation (%)&#x27;,\n",
              "                                                   &#x27;Atmospheric Pressure&#x27;,\n",
              "                                                   &#x27;Visibility (km)&#x27;]),\n",
              "                                                 (&#x27;log&#x27;,\n",
              "                                                  Pipeline(steps=[(&#x27;log &#x27;\n",
              "                                                                   &#x27;transform&#x27;,\n",
              "                                                                   FunctionTransformer(func=&lt;function log_transformation at 0x7b8e9638f6d0&gt;)),\n",
              "                                                                  (&#x27;standardize&#x27;,\n",
              "                                                                   StandardScaler())]),\n",
              "                                                  [&#x27;H...\n",
              "                                                  OneHotEncoder(handle_unknown=&#x27;infrequent_if_exist&#x27;,\n",
              "                                                                max_categories=5),\n",
              "                                                  [&#x27;Cloud Cover&#x27;, &#x27;Season&#x27;,\n",
              "                                                   &#x27;Location&#x27;])])),\n",
              "                (&#x27;modeling tree&#x27;,\n",
              "                 GridSearchCV(cv=5, estimator=DecisionTreeClassifier(),\n",
              "                              param_grid=[{&#x27;max_depth&#x27;: [2, 3, 4, 5],\n",
              "                                           &#x27;max_features&#x27;: [5, 10, 15, 20],\n",
              "                                           &#x27;min_samples_leaf&#x27;: [25, 50, 100,\n",
              "                                                                200],\n",
              "                                           &#x27;min_samples_split&#x27;: [25, 50, 100,\n",
              "                                                                 200]}],\n",
              "                              return_train_score=True, scoring=&#x27;accuracy&#x27;))])</pre><b>In a Jupyter environment, please rerun this cell to show the HTML representation or trust the notebook. <br />On GitHub, the HTML representation is unable to render, please try loading this page with nbviewer.org.</b></div><div class=\"sk-container\" hidden><div class=\"sk-item sk-dashed-wrapped\"><div class=\"sk-label-container\"><div class=\"sk-label sk-toggleable\"><input class=\"sk-toggleable__control sk-hidden--visually\" id=\"sk-estimator-id-19\" type=\"checkbox\" ><label for=\"sk-estimator-id-19\" class=\"sk-toggleable__label sk-toggleable__label-arrow\">Pipeline</label><div class=\"sk-toggleable__content\"><pre>Pipeline(steps=[(&#x27;processing&#x27;,\n",
              "                 ColumnTransformer(transformers=[(&#x27;numeric&#x27;,\n",
              "                                                  Pipeline(steps=[(&#x27;standardize&#x27;,\n",
              "                                                                   StandardScaler())]),\n",
              "                                                  [&#x27;Temperature&#x27;,\n",
              "                                                   &#x27;Precipitation (%)&#x27;,\n",
              "                                                   &#x27;Atmospheric Pressure&#x27;,\n",
              "                                                   &#x27;Visibility (km)&#x27;]),\n",
              "                                                 (&#x27;log&#x27;,\n",
              "                                                  Pipeline(steps=[(&#x27;log &#x27;\n",
              "                                                                   &#x27;transform&#x27;,\n",
              "                                                                   FunctionTransformer(func=&lt;function log_transformation at 0x7b8e9638f6d0&gt;)),\n",
              "                                                                  (&#x27;standardize&#x27;,\n",
              "                                                                   StandardScaler())]),\n",
              "                                                  [&#x27;H...\n",
              "                                                  OneHotEncoder(handle_unknown=&#x27;infrequent_if_exist&#x27;,\n",
              "                                                                max_categories=5),\n",
              "                                                  [&#x27;Cloud Cover&#x27;, &#x27;Season&#x27;,\n",
              "                                                   &#x27;Location&#x27;])])),\n",
              "                (&#x27;modeling tree&#x27;,\n",
              "                 GridSearchCV(cv=5, estimator=DecisionTreeClassifier(),\n",
              "                              param_grid=[{&#x27;max_depth&#x27;: [2, 3, 4, 5],\n",
              "                                           &#x27;max_features&#x27;: [5, 10, 15, 20],\n",
              "                                           &#x27;min_samples_leaf&#x27;: [25, 50, 100,\n",
              "                                                                200],\n",
              "                                           &#x27;min_samples_split&#x27;: [25, 50, 100,\n",
              "                                                                 200]}],\n",
              "                              return_train_score=True, scoring=&#x27;accuracy&#x27;))])</pre></div></div></div><div class=\"sk-serial\"><div class=\"sk-item sk-dashed-wrapped\"><div class=\"sk-label-container\"><div class=\"sk-label sk-toggleable\"><input class=\"sk-toggleable__control sk-hidden--visually\" id=\"sk-estimator-id-20\" type=\"checkbox\" ><label for=\"sk-estimator-id-20\" class=\"sk-toggleable__label sk-toggleable__label-arrow\">processing: ColumnTransformer</label><div class=\"sk-toggleable__content\"><pre>ColumnTransformer(transformers=[(&#x27;numeric&#x27;,\n",
              "                                 Pipeline(steps=[(&#x27;standardize&#x27;,\n",
              "                                                  StandardScaler())]),\n",
              "                                 [&#x27;Temperature&#x27;, &#x27;Precipitation (%)&#x27;,\n",
              "                                  &#x27;Atmospheric Pressure&#x27;, &#x27;Visibility (km)&#x27;]),\n",
              "                                (&#x27;log&#x27;,\n",
              "                                 Pipeline(steps=[(&#x27;log transform&#x27;,\n",
              "                                                  FunctionTransformer(func=&lt;function log_transformation at 0x7b8e9638f6d0&gt;)),\n",
              "                                                 (&#x27;standardize&#x27;,\n",
              "                                                  StandardScaler())]),\n",
              "                                 [&#x27;Humidity&#x27;, &#x27;Wind Speed&#x27;, &#x27;UV Index&#x27;]),\n",
              "                                (&#x27;class&#x27;,\n",
              "                                 OneHotEncoder(handle_unknown=&#x27;infrequent_if_exist&#x27;,\n",
              "                                               max_categories=5),\n",
              "                                 [&#x27;Cloud Cover&#x27;, &#x27;Season&#x27;, &#x27;Location&#x27;])])</pre></div></div></div><div class=\"sk-parallel\"><div class=\"sk-parallel-item\"><div class=\"sk-item\"><div class=\"sk-label-container\"><div class=\"sk-label sk-toggleable\"><input class=\"sk-toggleable__control sk-hidden--visually\" id=\"sk-estimator-id-21\" type=\"checkbox\" ><label for=\"sk-estimator-id-21\" class=\"sk-toggleable__label sk-toggleable__label-arrow\">numeric</label><div class=\"sk-toggleable__content\"><pre>[&#x27;Temperature&#x27;, &#x27;Precipitation (%)&#x27;, &#x27;Atmospheric Pressure&#x27;, &#x27;Visibility (km)&#x27;]</pre></div></div></div><div class=\"sk-serial\"><div class=\"sk-item\"><div class=\"sk-serial\"><div class=\"sk-item\"><div class=\"sk-estimator sk-toggleable\"><input class=\"sk-toggleable__control sk-hidden--visually\" id=\"sk-estimator-id-22\" type=\"checkbox\" ><label for=\"sk-estimator-id-22\" class=\"sk-toggleable__label sk-toggleable__label-arrow\">StandardScaler</label><div class=\"sk-toggleable__content\"><pre>StandardScaler()</pre></div></div></div></div></div></div></div></div><div class=\"sk-parallel-item\"><div class=\"sk-item\"><div class=\"sk-label-container\"><div class=\"sk-label sk-toggleable\"><input class=\"sk-toggleable__control sk-hidden--visually\" id=\"sk-estimator-id-23\" type=\"checkbox\" ><label for=\"sk-estimator-id-23\" class=\"sk-toggleable__label sk-toggleable__label-arrow\">log</label><div class=\"sk-toggleable__content\"><pre>[&#x27;Humidity&#x27;, &#x27;Wind Speed&#x27;, &#x27;UV Index&#x27;]</pre></div></div></div><div class=\"sk-serial\"><div class=\"sk-item\"><div class=\"sk-serial\"><div class=\"sk-item\"><div class=\"sk-estimator sk-toggleable\"><input class=\"sk-toggleable__control sk-hidden--visually\" id=\"sk-estimator-id-24\" type=\"checkbox\" ><label for=\"sk-estimator-id-24\" class=\"sk-toggleable__label sk-toggleable__label-arrow\">FunctionTransformer</label><div class=\"sk-toggleable__content\"><pre>FunctionTransformer(func=&lt;function log_transformation at 0x7b8e9638f6d0&gt;)</pre></div></div></div><div class=\"sk-item\"><div class=\"sk-estimator sk-toggleable\"><input class=\"sk-toggleable__control sk-hidden--visually\" id=\"sk-estimator-id-25\" type=\"checkbox\" ><label for=\"sk-estimator-id-25\" class=\"sk-toggleable__label sk-toggleable__label-arrow\">StandardScaler</label><div class=\"sk-toggleable__content\"><pre>StandardScaler()</pre></div></div></div></div></div></div></div></div><div class=\"sk-parallel-item\"><div class=\"sk-item\"><div class=\"sk-label-container\"><div class=\"sk-label sk-toggleable\"><input class=\"sk-toggleable__control sk-hidden--visually\" id=\"sk-estimator-id-26\" type=\"checkbox\" ><label for=\"sk-estimator-id-26\" class=\"sk-toggleable__label sk-toggleable__label-arrow\">class</label><div class=\"sk-toggleable__content\"><pre>[&#x27;Cloud Cover&#x27;, &#x27;Season&#x27;, &#x27;Location&#x27;]</pre></div></div></div><div class=\"sk-serial\"><div class=\"sk-item\"><div class=\"sk-estimator sk-toggleable\"><input class=\"sk-toggleable__control sk-hidden--visually\" id=\"sk-estimator-id-27\" type=\"checkbox\" ><label for=\"sk-estimator-id-27\" class=\"sk-toggleable__label sk-toggleable__label-arrow\">OneHotEncoder</label><div class=\"sk-toggleable__content\"><pre>OneHotEncoder(handle_unknown=&#x27;infrequent_if_exist&#x27;, max_categories=5)</pre></div></div></div></div></div></div></div></div><div class=\"sk-item sk-dashed-wrapped\"><div class=\"sk-label-container\"><div class=\"sk-label sk-toggleable\"><input class=\"sk-toggleable__control sk-hidden--visually\" id=\"sk-estimator-id-28\" type=\"checkbox\" ><label for=\"sk-estimator-id-28\" class=\"sk-toggleable__label sk-toggleable__label-arrow\">modeling tree: GridSearchCV</label><div class=\"sk-toggleable__content\"><pre>GridSearchCV(cv=5, estimator=DecisionTreeClassifier(),\n",
              "             param_grid=[{&#x27;max_depth&#x27;: [2, 3, 4, 5],\n",
              "                          &#x27;max_features&#x27;: [5, 10, 15, 20],\n",
              "                          &#x27;min_samples_leaf&#x27;: [25, 50, 100, 200],\n",
              "                          &#x27;min_samples_split&#x27;: [25, 50, 100, 200]}],\n",
              "             return_train_score=True, scoring=&#x27;accuracy&#x27;)</pre></div></div></div><div class=\"sk-parallel\"><div class=\"sk-parallel-item\"><div class=\"sk-item\"><div class=\"sk-label-container\"><div class=\"sk-label sk-toggleable\"><input class=\"sk-toggleable__control sk-hidden--visually\" id=\"sk-estimator-id-29\" type=\"checkbox\" ><label for=\"sk-estimator-id-29\" class=\"sk-toggleable__label sk-toggleable__label-arrow\">estimator: DecisionTreeClassifier</label><div class=\"sk-toggleable__content\"><pre>DecisionTreeClassifier()</pre></div></div></div><div class=\"sk-serial\"><div class=\"sk-item\"><div class=\"sk-estimator sk-toggleable\"><input class=\"sk-toggleable__control sk-hidden--visually\" id=\"sk-estimator-id-30\" type=\"checkbox\" ><label for=\"sk-estimator-id-30\" class=\"sk-toggleable__label sk-toggleable__label-arrow\">DecisionTreeClassifier</label><div class=\"sk-toggleable__content\"><pre>DecisionTreeClassifier()</pre></div></div></div></div></div></div></div></div></div></div></div></div>"
            ]
          },
          "metadata": {},
          "execution_count": 66
        }
      ]
    },
    {
      "cell_type": "markdown",
      "source": [
        "***AFTER FINE TUNING, EVALUATING THE PERFORMANCE OF CONFUSION METRICS***"
      ],
      "metadata": {
        "id": "JRBrwADNxoFp"
      }
    },
    {
      "cell_type": "markdown",
      "source": [
        "Accuracy Score"
      ],
      "metadata": {
        "id": "0hqgTgP4xydF"
      }
    },
    {
      "cell_type": "code",
      "source": [
        "tree_pred = tree_pipeline.predict(traindata)\n",
        "accuracy_score(traindata[target], tree_pred)"
      ],
      "metadata": {
        "colab": {
          "base_uri": "https://localhost:8080/"
        },
        "id": "-DKQXiZmulOu",
        "outputId": "7364eec6-e2e6-47ef-afb6-00342875578f"
      },
      "execution_count": null,
      "outputs": [
        {
          "output_type": "execute_result",
          "data": {
            "text/plain": [
              "0.9085858585858586"
            ]
          },
          "metadata": {},
          "execution_count": 67
        }
      ]
    },
    {
      "cell_type": "code",
      "source": [
        "tree_pred_test = tree_pipeline.predict(testdata)\n",
        "accuracy_score(testdata[target], tree_pred_test)"
      ],
      "metadata": {
        "colab": {
          "base_uri": "https://localhost:8080/"
        },
        "id": "7uB8Dly3uo9y",
        "outputId": "d531f0ae-1531-445f-abcc-bf4ced68f7a9"
      },
      "execution_count": null,
      "outputs": [
        {
          "output_type": "execute_result",
          "data": {
            "text/plain": [
              "0.9048484848484849"
            ]
          },
          "metadata": {},
          "execution_count": 68
        }
      ]
    },
    {
      "cell_type": "markdown",
      "source": [
        "Precision Score"
      ],
      "metadata": {
        "id": "KZDdXdLBx2xz"
      }
    },
    {
      "cell_type": "code",
      "source": [
        "tree_pred = tree_pipeline.predict(traindata)\n",
        "precision_score(traindata[target], tree_pred, average='weighted')"
      ],
      "metadata": {
        "colab": {
          "base_uri": "https://localhost:8080/"
        },
        "id": "b9e8UhNEurv9",
        "outputId": "2aa6391c-57fa-4452-fd3c-6e97a0175e0d"
      },
      "execution_count": null,
      "outputs": [
        {
          "output_type": "execute_result",
          "data": {
            "text/plain": [
              "0.9124592085639888"
            ]
          },
          "metadata": {},
          "execution_count": 69
        }
      ]
    },
    {
      "cell_type": "code",
      "source": [
        "tree_pred_test = tree_pipeline.predict(testdata)\n",
        "precision_score(testdata[target], tree_pred_test, average='weighted')"
      ],
      "metadata": {
        "colab": {
          "base_uri": "https://localhost:8080/"
        },
        "id": "N8QWuNSFuvUc",
        "outputId": "2a1ba07d-3885-4868-cf69-6533a405e74e"
      },
      "execution_count": null,
      "outputs": [
        {
          "output_type": "execute_result",
          "data": {
            "text/plain": [
              "0.9080561774208135"
            ]
          },
          "metadata": {},
          "execution_count": 70
        }
      ]
    },
    {
      "cell_type": "markdown",
      "source": [
        "Recall Score"
      ],
      "metadata": {
        "id": "PV9OdxItyCVu"
      }
    },
    {
      "cell_type": "code",
      "source": [
        "tree_pred = tree_pipeline.predict(traindata)\n",
        "recall_score(traindata[target], tree_pred, average='weighted')"
      ],
      "metadata": {
        "id": "WAMNhQ0Ex7br",
        "colab": {
          "base_uri": "https://localhost:8080/"
        },
        "outputId": "a04ecc91-ca8d-42bb-8aff-36cbe53cba93"
      },
      "execution_count": null,
      "outputs": [
        {
          "output_type": "execute_result",
          "data": {
            "text/plain": [
              "0.9085858585858586"
            ]
          },
          "metadata": {},
          "execution_count": 71
        }
      ]
    },
    {
      "cell_type": "code",
      "source": [
        "tree_pred_test = tree_pipeline.predict(testdata)\n",
        "recall_score(testdata[target], tree_pred_test, average='weighted')"
      ],
      "metadata": {
        "id": "BMtSUfTAx7HJ",
        "colab": {
          "base_uri": "https://localhost:8080/"
        },
        "outputId": "b7dc1f09-b6d3-4294-cde0-bb094ff18217"
      },
      "execution_count": null,
      "outputs": [
        {
          "output_type": "execute_result",
          "data": {
            "text/plain": [
              "0.9048484848484849"
            ]
          },
          "metadata": {},
          "execution_count": 72
        }
      ]
    },
    {
      "cell_type": "markdown",
      "source": [
        "F1 Score"
      ],
      "metadata": {
        "id": "mNSN1Rq4yFaF"
      }
    },
    {
      "cell_type": "code",
      "source": [
        "tree_pred = tree_pipeline.predict(traindata)\n",
        "f1_score(traindata[target], tree_pred, average='weighted')"
      ],
      "metadata": {
        "colab": {
          "base_uri": "https://localhost:8080/"
        },
        "id": "FUZxeN0mu3uv",
        "outputId": "129acb02-fa50-458e-ae64-6659f58bfd1e"
      },
      "execution_count": null,
      "outputs": [
        {
          "output_type": "execute_result",
          "data": {
            "text/plain": [
              "0.9093797097699223"
            ]
          },
          "metadata": {},
          "execution_count": 73
        }
      ]
    },
    {
      "cell_type": "code",
      "source": [
        "tree_pred_test = tree_pipeline.predict(testdata)\n",
        "f1_score(testdata[target], tree_pred_test, average='weighted')"
      ],
      "metadata": {
        "colab": {
          "base_uri": "https://localhost:8080/"
        },
        "id": "uK_gVQzMu9n0",
        "outputId": "4af029f3-cfc2-436d-ecde-dac6a5f5c73b"
      },
      "execution_count": null,
      "outputs": [
        {
          "output_type": "execute_result",
          "data": {
            "text/plain": [
              "0.905673169259464"
            ]
          },
          "metadata": {},
          "execution_count": 74
        }
      ]
    },
    {
      "cell_type": "markdown",
      "source": [
        "***5.2 Training Random Forest Model***"
      ],
      "metadata": {
        "id": "ttRDMhi9yJG5"
      }
    },
    {
      "cell_type": "code",
      "source": [
        "from sklearn.ensemble import RandomForestClassifier\n",
        "\n",
        "forest_pipeline = Pipeline([\n",
        "    ('processing',processing_pipeline),\n",
        "    ('modeling',RandomForestClassifier(class_weight='balanced'))\n",
        "])\n",
        "\n",
        "forest_pipeline.fit(traindata, traindata[target])"
      ],
      "metadata": {
        "colab": {
          "base_uri": "https://localhost:8080/",
          "height": 225
        },
        "id": "GsNukoTyvFei",
        "outputId": "200bbf23-79e0-4737-d048-80b55e03c30f"
      },
      "execution_count": null,
      "outputs": [
        {
          "output_type": "execute_result",
          "data": {
            "text/plain": [
              "Pipeline(steps=[('processing',\n",
              "                 ColumnTransformer(transformers=[('numeric',\n",
              "                                                  Pipeline(steps=[('standardize',\n",
              "                                                                   StandardScaler())]),\n",
              "                                                  ['Temperature',\n",
              "                                                   'Precipitation (%)',\n",
              "                                                   'Atmospheric Pressure',\n",
              "                                                   'Visibility (km)']),\n",
              "                                                 ('log',\n",
              "                                                  Pipeline(steps=[('log '\n",
              "                                                                   'transform',\n",
              "                                                                   FunctionTransformer(func=<function log_transformation at 0x7b8e9638f6d0>)),\n",
              "                                                                  ('standardize',\n",
              "                                                                   StandardScaler())]),\n",
              "                                                  ['Humidity', 'Wind Speed',\n",
              "                                                   'UV Index']),\n",
              "                                                 ('class',\n",
              "                                                  OneHotEncoder(handle_unknown='infrequent_if_exist',\n",
              "                                                                max_categories=5),\n",
              "                                                  ['Cloud Cover', 'Season',\n",
              "                                                   'Location'])])),\n",
              "                ('modeling', RandomForestClassifier(class_weight='balanced'))])"
            ],
            "text/html": [
              "<style>#sk-container-id-4 {color: black;background-color: white;}#sk-container-id-4 pre{padding: 0;}#sk-container-id-4 div.sk-toggleable {background-color: white;}#sk-container-id-4 label.sk-toggleable__label {cursor: pointer;display: block;width: 100%;margin-bottom: 0;padding: 0.3em;box-sizing: border-box;text-align: center;}#sk-container-id-4 label.sk-toggleable__label-arrow:before {content: \"▸\";float: left;margin-right: 0.25em;color: #696969;}#sk-container-id-4 label.sk-toggleable__label-arrow:hover:before {color: black;}#sk-container-id-4 div.sk-estimator:hover label.sk-toggleable__label-arrow:before {color: black;}#sk-container-id-4 div.sk-toggleable__content {max-height: 0;max-width: 0;overflow: hidden;text-align: left;background-color: #f0f8ff;}#sk-container-id-4 div.sk-toggleable__content pre {margin: 0.2em;color: black;border-radius: 0.25em;background-color: #f0f8ff;}#sk-container-id-4 input.sk-toggleable__control:checked~div.sk-toggleable__content {max-height: 200px;max-width: 100%;overflow: auto;}#sk-container-id-4 input.sk-toggleable__control:checked~label.sk-toggleable__label-arrow:before {content: \"▾\";}#sk-container-id-4 div.sk-estimator input.sk-toggleable__control:checked~label.sk-toggleable__label {background-color: #d4ebff;}#sk-container-id-4 div.sk-label input.sk-toggleable__control:checked~label.sk-toggleable__label {background-color: #d4ebff;}#sk-container-id-4 input.sk-hidden--visually {border: 0;clip: rect(1px 1px 1px 1px);clip: rect(1px, 1px, 1px, 1px);height: 1px;margin: -1px;overflow: hidden;padding: 0;position: absolute;width: 1px;}#sk-container-id-4 div.sk-estimator {font-family: monospace;background-color: #f0f8ff;border: 1px dotted black;border-radius: 0.25em;box-sizing: border-box;margin-bottom: 0.5em;}#sk-container-id-4 div.sk-estimator:hover {background-color: #d4ebff;}#sk-container-id-4 div.sk-parallel-item::after {content: \"\";width: 100%;border-bottom: 1px solid gray;flex-grow: 1;}#sk-container-id-4 div.sk-label:hover label.sk-toggleable__label {background-color: #d4ebff;}#sk-container-id-4 div.sk-serial::before {content: \"\";position: absolute;border-left: 1px solid gray;box-sizing: border-box;top: 0;bottom: 0;left: 50%;z-index: 0;}#sk-container-id-4 div.sk-serial {display: flex;flex-direction: column;align-items: center;background-color: white;padding-right: 0.2em;padding-left: 0.2em;position: relative;}#sk-container-id-4 div.sk-item {position: relative;z-index: 1;}#sk-container-id-4 div.sk-parallel {display: flex;align-items: stretch;justify-content: center;background-color: white;position: relative;}#sk-container-id-4 div.sk-item::before, #sk-container-id-4 div.sk-parallel-item::before {content: \"\";position: absolute;border-left: 1px solid gray;box-sizing: border-box;top: 0;bottom: 0;left: 50%;z-index: -1;}#sk-container-id-4 div.sk-parallel-item {display: flex;flex-direction: column;z-index: 1;position: relative;background-color: white;}#sk-container-id-4 div.sk-parallel-item:first-child::after {align-self: flex-end;width: 50%;}#sk-container-id-4 div.sk-parallel-item:last-child::after {align-self: flex-start;width: 50%;}#sk-container-id-4 div.sk-parallel-item:only-child::after {width: 0;}#sk-container-id-4 div.sk-dashed-wrapped {border: 1px dashed gray;margin: 0 0.4em 0.5em 0.4em;box-sizing: border-box;padding-bottom: 0.4em;background-color: white;}#sk-container-id-4 div.sk-label label {font-family: monospace;font-weight: bold;display: inline-block;line-height: 1.2em;}#sk-container-id-4 div.sk-label-container {text-align: center;}#sk-container-id-4 div.sk-container {/* jupyter's `normalize.less` sets `[hidden] { display: none; }` but bootstrap.min.css set `[hidden] { display: none !important; }` so we also need the `!important` here to be able to override the default hidden behavior on the sphinx rendered scikit-learn.org. See: https://github.com/scikit-learn/scikit-learn/issues/21755 */display: inline-block !important;position: relative;}#sk-container-id-4 div.sk-text-repr-fallback {display: none;}</style><div id=\"sk-container-id-4\" class=\"sk-top-container\"><div class=\"sk-text-repr-fallback\"><pre>Pipeline(steps=[(&#x27;processing&#x27;,\n",
              "                 ColumnTransformer(transformers=[(&#x27;numeric&#x27;,\n",
              "                                                  Pipeline(steps=[(&#x27;standardize&#x27;,\n",
              "                                                                   StandardScaler())]),\n",
              "                                                  [&#x27;Temperature&#x27;,\n",
              "                                                   &#x27;Precipitation (%)&#x27;,\n",
              "                                                   &#x27;Atmospheric Pressure&#x27;,\n",
              "                                                   &#x27;Visibility (km)&#x27;]),\n",
              "                                                 (&#x27;log&#x27;,\n",
              "                                                  Pipeline(steps=[(&#x27;log &#x27;\n",
              "                                                                   &#x27;transform&#x27;,\n",
              "                                                                   FunctionTransformer(func=&lt;function log_transformation at 0x7b8e9638f6d0&gt;)),\n",
              "                                                                  (&#x27;standardize&#x27;,\n",
              "                                                                   StandardScaler())]),\n",
              "                                                  [&#x27;Humidity&#x27;, &#x27;Wind Speed&#x27;,\n",
              "                                                   &#x27;UV Index&#x27;]),\n",
              "                                                 (&#x27;class&#x27;,\n",
              "                                                  OneHotEncoder(handle_unknown=&#x27;infrequent_if_exist&#x27;,\n",
              "                                                                max_categories=5),\n",
              "                                                  [&#x27;Cloud Cover&#x27;, &#x27;Season&#x27;,\n",
              "                                                   &#x27;Location&#x27;])])),\n",
              "                (&#x27;modeling&#x27;, RandomForestClassifier(class_weight=&#x27;balanced&#x27;))])</pre><b>In a Jupyter environment, please rerun this cell to show the HTML representation or trust the notebook. <br />On GitHub, the HTML representation is unable to render, please try loading this page with nbviewer.org.</b></div><div class=\"sk-container\" hidden><div class=\"sk-item sk-dashed-wrapped\"><div class=\"sk-label-container\"><div class=\"sk-label sk-toggleable\"><input class=\"sk-toggleable__control sk-hidden--visually\" id=\"sk-estimator-id-31\" type=\"checkbox\" ><label for=\"sk-estimator-id-31\" class=\"sk-toggleable__label sk-toggleable__label-arrow\">Pipeline</label><div class=\"sk-toggleable__content\"><pre>Pipeline(steps=[(&#x27;processing&#x27;,\n",
              "                 ColumnTransformer(transformers=[(&#x27;numeric&#x27;,\n",
              "                                                  Pipeline(steps=[(&#x27;standardize&#x27;,\n",
              "                                                                   StandardScaler())]),\n",
              "                                                  [&#x27;Temperature&#x27;,\n",
              "                                                   &#x27;Precipitation (%)&#x27;,\n",
              "                                                   &#x27;Atmospheric Pressure&#x27;,\n",
              "                                                   &#x27;Visibility (km)&#x27;]),\n",
              "                                                 (&#x27;log&#x27;,\n",
              "                                                  Pipeline(steps=[(&#x27;log &#x27;\n",
              "                                                                   &#x27;transform&#x27;,\n",
              "                                                                   FunctionTransformer(func=&lt;function log_transformation at 0x7b8e9638f6d0&gt;)),\n",
              "                                                                  (&#x27;standardize&#x27;,\n",
              "                                                                   StandardScaler())]),\n",
              "                                                  [&#x27;Humidity&#x27;, &#x27;Wind Speed&#x27;,\n",
              "                                                   &#x27;UV Index&#x27;]),\n",
              "                                                 (&#x27;class&#x27;,\n",
              "                                                  OneHotEncoder(handle_unknown=&#x27;infrequent_if_exist&#x27;,\n",
              "                                                                max_categories=5),\n",
              "                                                  [&#x27;Cloud Cover&#x27;, &#x27;Season&#x27;,\n",
              "                                                   &#x27;Location&#x27;])])),\n",
              "                (&#x27;modeling&#x27;, RandomForestClassifier(class_weight=&#x27;balanced&#x27;))])</pre></div></div></div><div class=\"sk-serial\"><div class=\"sk-item sk-dashed-wrapped\"><div class=\"sk-label-container\"><div class=\"sk-label sk-toggleable\"><input class=\"sk-toggleable__control sk-hidden--visually\" id=\"sk-estimator-id-32\" type=\"checkbox\" ><label for=\"sk-estimator-id-32\" class=\"sk-toggleable__label sk-toggleable__label-arrow\">processing: ColumnTransformer</label><div class=\"sk-toggleable__content\"><pre>ColumnTransformer(transformers=[(&#x27;numeric&#x27;,\n",
              "                                 Pipeline(steps=[(&#x27;standardize&#x27;,\n",
              "                                                  StandardScaler())]),\n",
              "                                 [&#x27;Temperature&#x27;, &#x27;Precipitation (%)&#x27;,\n",
              "                                  &#x27;Atmospheric Pressure&#x27;, &#x27;Visibility (km)&#x27;]),\n",
              "                                (&#x27;log&#x27;,\n",
              "                                 Pipeline(steps=[(&#x27;log transform&#x27;,\n",
              "                                                  FunctionTransformer(func=&lt;function log_transformation at 0x7b8e9638f6d0&gt;)),\n",
              "                                                 (&#x27;standardize&#x27;,\n",
              "                                                  StandardScaler())]),\n",
              "                                 [&#x27;Humidity&#x27;, &#x27;Wind Speed&#x27;, &#x27;UV Index&#x27;]),\n",
              "                                (&#x27;class&#x27;,\n",
              "                                 OneHotEncoder(handle_unknown=&#x27;infrequent_if_exist&#x27;,\n",
              "                                               max_categories=5),\n",
              "                                 [&#x27;Cloud Cover&#x27;, &#x27;Season&#x27;, &#x27;Location&#x27;])])</pre></div></div></div><div class=\"sk-parallel\"><div class=\"sk-parallel-item\"><div class=\"sk-item\"><div class=\"sk-label-container\"><div class=\"sk-label sk-toggleable\"><input class=\"sk-toggleable__control sk-hidden--visually\" id=\"sk-estimator-id-33\" type=\"checkbox\" ><label for=\"sk-estimator-id-33\" class=\"sk-toggleable__label sk-toggleable__label-arrow\">numeric</label><div class=\"sk-toggleable__content\"><pre>[&#x27;Temperature&#x27;, &#x27;Precipitation (%)&#x27;, &#x27;Atmospheric Pressure&#x27;, &#x27;Visibility (km)&#x27;]</pre></div></div></div><div class=\"sk-serial\"><div class=\"sk-item\"><div class=\"sk-serial\"><div class=\"sk-item\"><div class=\"sk-estimator sk-toggleable\"><input class=\"sk-toggleable__control sk-hidden--visually\" id=\"sk-estimator-id-34\" type=\"checkbox\" ><label for=\"sk-estimator-id-34\" class=\"sk-toggleable__label sk-toggleable__label-arrow\">StandardScaler</label><div class=\"sk-toggleable__content\"><pre>StandardScaler()</pre></div></div></div></div></div></div></div></div><div class=\"sk-parallel-item\"><div class=\"sk-item\"><div class=\"sk-label-container\"><div class=\"sk-label sk-toggleable\"><input class=\"sk-toggleable__control sk-hidden--visually\" id=\"sk-estimator-id-35\" type=\"checkbox\" ><label for=\"sk-estimator-id-35\" class=\"sk-toggleable__label sk-toggleable__label-arrow\">log</label><div class=\"sk-toggleable__content\"><pre>[&#x27;Humidity&#x27;, &#x27;Wind Speed&#x27;, &#x27;UV Index&#x27;]</pre></div></div></div><div class=\"sk-serial\"><div class=\"sk-item\"><div class=\"sk-serial\"><div class=\"sk-item\"><div class=\"sk-estimator sk-toggleable\"><input class=\"sk-toggleable__control sk-hidden--visually\" id=\"sk-estimator-id-36\" type=\"checkbox\" ><label for=\"sk-estimator-id-36\" class=\"sk-toggleable__label sk-toggleable__label-arrow\">FunctionTransformer</label><div class=\"sk-toggleable__content\"><pre>FunctionTransformer(func=&lt;function log_transformation at 0x7b8e9638f6d0&gt;)</pre></div></div></div><div class=\"sk-item\"><div class=\"sk-estimator sk-toggleable\"><input class=\"sk-toggleable__control sk-hidden--visually\" id=\"sk-estimator-id-37\" type=\"checkbox\" ><label for=\"sk-estimator-id-37\" class=\"sk-toggleable__label sk-toggleable__label-arrow\">StandardScaler</label><div class=\"sk-toggleable__content\"><pre>StandardScaler()</pre></div></div></div></div></div></div></div></div><div class=\"sk-parallel-item\"><div class=\"sk-item\"><div class=\"sk-label-container\"><div class=\"sk-label sk-toggleable\"><input class=\"sk-toggleable__control sk-hidden--visually\" id=\"sk-estimator-id-38\" type=\"checkbox\" ><label for=\"sk-estimator-id-38\" class=\"sk-toggleable__label sk-toggleable__label-arrow\">class</label><div class=\"sk-toggleable__content\"><pre>[&#x27;Cloud Cover&#x27;, &#x27;Season&#x27;, &#x27;Location&#x27;]</pre></div></div></div><div class=\"sk-serial\"><div class=\"sk-item\"><div class=\"sk-estimator sk-toggleable\"><input class=\"sk-toggleable__control sk-hidden--visually\" id=\"sk-estimator-id-39\" type=\"checkbox\" ><label for=\"sk-estimator-id-39\" class=\"sk-toggleable__label sk-toggleable__label-arrow\">OneHotEncoder</label><div class=\"sk-toggleable__content\"><pre>OneHotEncoder(handle_unknown=&#x27;infrequent_if_exist&#x27;, max_categories=5)</pre></div></div></div></div></div></div></div></div><div class=\"sk-item\"><div class=\"sk-estimator sk-toggleable\"><input class=\"sk-toggleable__control sk-hidden--visually\" id=\"sk-estimator-id-40\" type=\"checkbox\" ><label for=\"sk-estimator-id-40\" class=\"sk-toggleable__label sk-toggleable__label-arrow\">RandomForestClassifier</label><div class=\"sk-toggleable__content\"><pre>RandomForestClassifier(class_weight=&#x27;balanced&#x27;)</pre></div></div></div></div></div></div></div>"
            ]
          },
          "metadata": {},
          "execution_count": 75
        }
      ]
    },
    {
      "cell_type": "markdown",
      "source": [
        "***Evaluation of Data Performance by Confusion Metrics (Accuracy, Precision, Recall and F1 Score)***"
      ],
      "metadata": {
        "id": "UeSBPEUVymvx"
      }
    },
    {
      "cell_type": "markdown",
      "source": [
        "Accuracy Score"
      ],
      "metadata": {
        "id": "n2yJY2TkyqAF"
      }
    },
    {
      "cell_type": "code",
      "source": [
        "forest_pred = forest_pipeline.predict(traindata)\n",
        "accuracy_score(traindata[target], forest_pred)"
      ],
      "metadata": {
        "colab": {
          "base_uri": "https://localhost:8080/"
        },
        "id": "yDE1nAvZvaV3",
        "outputId": "f96eef7b-a331-464b-d6ff-7dc14a20a72e"
      },
      "execution_count": null,
      "outputs": [
        {
          "output_type": "execute_result",
          "data": {
            "text/plain": [
              "1.0"
            ]
          },
          "metadata": {},
          "execution_count": 76
        }
      ]
    },
    {
      "cell_type": "code",
      "source": [
        "forest_pred_test = forest_pipeline.predict(testdata)\n",
        "accuracy_score(testdata[target], forest_pred_test)"
      ],
      "metadata": {
        "id": "2lBNaOOTvgTx",
        "colab": {
          "base_uri": "https://localhost:8080/"
        },
        "outputId": "f904639d-863a-4e57-b5b0-cd0da4335fc7"
      },
      "execution_count": null,
      "outputs": [
        {
          "output_type": "execute_result",
          "data": {
            "text/plain": [
              "0.9136363636363637"
            ]
          },
          "metadata": {},
          "execution_count": 77
        }
      ]
    },
    {
      "cell_type": "markdown",
      "source": [
        "Precision Score"
      ],
      "metadata": {
        "id": "qCl5vrvFyuQE"
      }
    },
    {
      "cell_type": "code",
      "source": [
        "forest_pred = forest_pipeline.predict(traindata)\n",
        "precision_score(traindata[target], forest_pred, average='weighted')"
      ],
      "metadata": {
        "colab": {
          "base_uri": "https://localhost:8080/"
        },
        "id": "uL8IBiVrviTh",
        "outputId": "ebc18d5a-4479-4060-da27-9d5c3a39d121"
      },
      "execution_count": null,
      "outputs": [
        {
          "output_type": "execute_result",
          "data": {
            "text/plain": [
              "1.0"
            ]
          },
          "metadata": {},
          "execution_count": 78
        }
      ]
    },
    {
      "cell_type": "code",
      "source": [
        "forest_pred = forest_pipeline.predict(testdata)\n",
        "precision_score(testdata[target], forest_pred, average='weighted')"
      ],
      "metadata": {
        "colab": {
          "base_uri": "https://localhost:8080/"
        },
        "id": "pXYpG-e6voOJ",
        "outputId": "f28b3422-011b-474b-fe62-835d5068bc45"
      },
      "execution_count": null,
      "outputs": [
        {
          "output_type": "execute_result",
          "data": {
            "text/plain": [
              "0.9140326296883865"
            ]
          },
          "metadata": {},
          "execution_count": 79
        }
      ]
    },
    {
      "cell_type": "markdown",
      "source": [
        "Recall Score"
      ],
      "metadata": {
        "id": "ylezmdfs1Ne-"
      }
    },
    {
      "cell_type": "code",
      "source": [
        "forest_pred = forest_pipeline.predict(traindata)\n",
        "recall_score(traindata[target], forest_pred, average='weighted')"
      ],
      "metadata": {
        "id": "AzHXujrS1HJB",
        "colab": {
          "base_uri": "https://localhost:8080/"
        },
        "outputId": "2dce3551-6703-492b-ad38-6209665ea770"
      },
      "execution_count": null,
      "outputs": [
        {
          "output_type": "execute_result",
          "data": {
            "text/plain": [
              "1.0"
            ]
          },
          "metadata": {},
          "execution_count": 80
        }
      ]
    },
    {
      "cell_type": "code",
      "source": [
        "forest_pred = forest_pipeline.predict(testdata)\n",
        "recall_score(testdata[target], forest_pred, average='weighted')"
      ],
      "metadata": {
        "id": "jFEjxSKD1G5Z",
        "colab": {
          "base_uri": "https://localhost:8080/"
        },
        "outputId": "12103694-b4c7-47ee-af67-24cfe38980ca"
      },
      "execution_count": null,
      "outputs": [
        {
          "output_type": "execute_result",
          "data": {
            "text/plain": [
              "0.9136363636363637"
            ]
          },
          "metadata": {},
          "execution_count": 81
        }
      ]
    },
    {
      "cell_type": "markdown",
      "source": [
        "F1 Score"
      ],
      "metadata": {
        "id": "Wlc4EsvB1QO4"
      }
    },
    {
      "cell_type": "code",
      "source": [
        "forest_pred = forest_pipeline.predict(traindata)\n",
        "f1_score(traindata[target], forest_pred, average='weighted')"
      ],
      "metadata": {
        "colab": {
          "base_uri": "https://localhost:8080/"
        },
        "id": "jiVSZ_bpvtTJ",
        "outputId": "1876ca03-5b3c-4751-ce43-535fa48594b1"
      },
      "execution_count": null,
      "outputs": [
        {
          "output_type": "execute_result",
          "data": {
            "text/plain": [
              "1.0"
            ]
          },
          "metadata": {},
          "execution_count": 82
        }
      ]
    },
    {
      "cell_type": "code",
      "source": [
        "forest_pred_test = forest_pipeline.predict(testdata)\n",
        "f1_score(testdata[target], forest_pred_test, average='weighted')"
      ],
      "metadata": {
        "colab": {
          "base_uri": "https://localhost:8080/"
        },
        "id": "rzKdEypGv0TI",
        "outputId": "8c9327a8-b399-4447-e8db-ad947edb2e84"
      },
      "execution_count": null,
      "outputs": [
        {
          "output_type": "execute_result",
          "data": {
            "text/plain": [
              "0.9137337815014716"
            ]
          },
          "metadata": {},
          "execution_count": 83
        }
      ]
    },
    {
      "cell_type": "markdown",
      "source": [
        "***FINE TUNING THE RANDOM FOREST MODEL***"
      ],
      "metadata": {
        "id": "wubZl6St1amv"
      }
    },
    {
      "cell_type": "code",
      "source": [
        "from sklearn.ensemble import RandomForestClassifier\n",
        "from sklearn.model_selection import GridSearchCV\n",
        "\n",
        "param_grid = [{\n",
        "    'max_depth': [2, 3, 4, 5],\n",
        "    'max_features' : [5, 10, 15, 20],\n",
        "    'min_samples_split' : [25, 50, 100, 200],\n",
        "    'min_samples_leaf' : [25, 50, 100, 200],\n",
        "    'n_estimators': [5, 10, 20, 50]\n",
        "}]\n",
        "\n",
        "forest = RandomForestClassifier()\n",
        "\n",
        "grid_search = GridSearchCV(forest, param_grid, cv=5, scoring='accuracy', return_train_score=True)\n",
        "\n",
        "forest_pipeline = Pipeline([\n",
        "    ('processing', processing_pipeline),\n",
        "    ('modeling forest', grid_search)\n",
        "])\n",
        "\n",
        "forest_pipeline.fit(traindata, traindata[target])"
      ],
      "metadata": {
        "colab": {
          "base_uri": "https://localhost:8080/",
          "height": 290
        },
        "id": "qVcit6-vv5Fe",
        "outputId": "d57ce98a-6cd5-452e-98a8-cfcd9e88ac82"
      },
      "execution_count": null,
      "outputs": [
        {
          "output_type": "execute_result",
          "data": {
            "text/plain": [
              "Pipeline(steps=[('processing',\n",
              "                 ColumnTransformer(transformers=[('numeric',\n",
              "                                                  Pipeline(steps=[('standardize',\n",
              "                                                                   StandardScaler())]),\n",
              "                                                  ['Temperature',\n",
              "                                                   'Precipitation (%)',\n",
              "                                                   'Atmospheric Pressure',\n",
              "                                                   'Visibility (km)']),\n",
              "                                                 ('log',\n",
              "                                                  Pipeline(steps=[('log '\n",
              "                                                                   'transform',\n",
              "                                                                   FunctionTransformer(func=<function log_transformation at 0x7b8e9638f6d0>)),\n",
              "                                                                  ('standardize',\n",
              "                                                                   StandardScaler())]),\n",
              "                                                  ['H...\n",
              "                                                  OneHotEncoder(handle_unknown='infrequent_if_exist',\n",
              "                                                                max_categories=5),\n",
              "                                                  ['Cloud Cover', 'Season',\n",
              "                                                   'Location'])])),\n",
              "                ('modeling forest',\n",
              "                 GridSearchCV(cv=5, estimator=RandomForestClassifier(),\n",
              "                              param_grid=[{'max_depth': [2, 3, 4, 5],\n",
              "                                           'max_features': [5, 10, 15, 20],\n",
              "                                           'min_samples_leaf': [25, 50, 100,\n",
              "                                                                200],\n",
              "                                           'min_samples_split': [25, 50, 100,\n",
              "                                                                 200],\n",
              "                                           'n_estimators': [5, 10, 20, 50]}],\n",
              "                              return_train_score=True, scoring='accuracy'))])"
            ],
            "text/html": [
              "<style>#sk-container-id-5 {color: black;background-color: white;}#sk-container-id-5 pre{padding: 0;}#sk-container-id-5 div.sk-toggleable {background-color: white;}#sk-container-id-5 label.sk-toggleable__label {cursor: pointer;display: block;width: 100%;margin-bottom: 0;padding: 0.3em;box-sizing: border-box;text-align: center;}#sk-container-id-5 label.sk-toggleable__label-arrow:before {content: \"▸\";float: left;margin-right: 0.25em;color: #696969;}#sk-container-id-5 label.sk-toggleable__label-arrow:hover:before {color: black;}#sk-container-id-5 div.sk-estimator:hover label.sk-toggleable__label-arrow:before {color: black;}#sk-container-id-5 div.sk-toggleable__content {max-height: 0;max-width: 0;overflow: hidden;text-align: left;background-color: #f0f8ff;}#sk-container-id-5 div.sk-toggleable__content pre {margin: 0.2em;color: black;border-radius: 0.25em;background-color: #f0f8ff;}#sk-container-id-5 input.sk-toggleable__control:checked~div.sk-toggleable__content {max-height: 200px;max-width: 100%;overflow: auto;}#sk-container-id-5 input.sk-toggleable__control:checked~label.sk-toggleable__label-arrow:before {content: \"▾\";}#sk-container-id-5 div.sk-estimator input.sk-toggleable__control:checked~label.sk-toggleable__label {background-color: #d4ebff;}#sk-container-id-5 div.sk-label input.sk-toggleable__control:checked~label.sk-toggleable__label {background-color: #d4ebff;}#sk-container-id-5 input.sk-hidden--visually {border: 0;clip: rect(1px 1px 1px 1px);clip: rect(1px, 1px, 1px, 1px);height: 1px;margin: -1px;overflow: hidden;padding: 0;position: absolute;width: 1px;}#sk-container-id-5 div.sk-estimator {font-family: monospace;background-color: #f0f8ff;border: 1px dotted black;border-radius: 0.25em;box-sizing: border-box;margin-bottom: 0.5em;}#sk-container-id-5 div.sk-estimator:hover {background-color: #d4ebff;}#sk-container-id-5 div.sk-parallel-item::after {content: \"\";width: 100%;border-bottom: 1px solid gray;flex-grow: 1;}#sk-container-id-5 div.sk-label:hover label.sk-toggleable__label {background-color: #d4ebff;}#sk-container-id-5 div.sk-serial::before {content: \"\";position: absolute;border-left: 1px solid gray;box-sizing: border-box;top: 0;bottom: 0;left: 50%;z-index: 0;}#sk-container-id-5 div.sk-serial {display: flex;flex-direction: column;align-items: center;background-color: white;padding-right: 0.2em;padding-left: 0.2em;position: relative;}#sk-container-id-5 div.sk-item {position: relative;z-index: 1;}#sk-container-id-5 div.sk-parallel {display: flex;align-items: stretch;justify-content: center;background-color: white;position: relative;}#sk-container-id-5 div.sk-item::before, #sk-container-id-5 div.sk-parallel-item::before {content: \"\";position: absolute;border-left: 1px solid gray;box-sizing: border-box;top: 0;bottom: 0;left: 50%;z-index: -1;}#sk-container-id-5 div.sk-parallel-item {display: flex;flex-direction: column;z-index: 1;position: relative;background-color: white;}#sk-container-id-5 div.sk-parallel-item:first-child::after {align-self: flex-end;width: 50%;}#sk-container-id-5 div.sk-parallel-item:last-child::after {align-self: flex-start;width: 50%;}#sk-container-id-5 div.sk-parallel-item:only-child::after {width: 0;}#sk-container-id-5 div.sk-dashed-wrapped {border: 1px dashed gray;margin: 0 0.4em 0.5em 0.4em;box-sizing: border-box;padding-bottom: 0.4em;background-color: white;}#sk-container-id-5 div.sk-label label {font-family: monospace;font-weight: bold;display: inline-block;line-height: 1.2em;}#sk-container-id-5 div.sk-label-container {text-align: center;}#sk-container-id-5 div.sk-container {/* jupyter's `normalize.less` sets `[hidden] { display: none; }` but bootstrap.min.css set `[hidden] { display: none !important; }` so we also need the `!important` here to be able to override the default hidden behavior on the sphinx rendered scikit-learn.org. See: https://github.com/scikit-learn/scikit-learn/issues/21755 */display: inline-block !important;position: relative;}#sk-container-id-5 div.sk-text-repr-fallback {display: none;}</style><div id=\"sk-container-id-5\" class=\"sk-top-container\"><div class=\"sk-text-repr-fallback\"><pre>Pipeline(steps=[(&#x27;processing&#x27;,\n",
              "                 ColumnTransformer(transformers=[(&#x27;numeric&#x27;,\n",
              "                                                  Pipeline(steps=[(&#x27;standardize&#x27;,\n",
              "                                                                   StandardScaler())]),\n",
              "                                                  [&#x27;Temperature&#x27;,\n",
              "                                                   &#x27;Precipitation (%)&#x27;,\n",
              "                                                   &#x27;Atmospheric Pressure&#x27;,\n",
              "                                                   &#x27;Visibility (km)&#x27;]),\n",
              "                                                 (&#x27;log&#x27;,\n",
              "                                                  Pipeline(steps=[(&#x27;log &#x27;\n",
              "                                                                   &#x27;transform&#x27;,\n",
              "                                                                   FunctionTransformer(func=&lt;function log_transformation at 0x7b8e9638f6d0&gt;)),\n",
              "                                                                  (&#x27;standardize&#x27;,\n",
              "                                                                   StandardScaler())]),\n",
              "                                                  [&#x27;H...\n",
              "                                                  OneHotEncoder(handle_unknown=&#x27;infrequent_if_exist&#x27;,\n",
              "                                                                max_categories=5),\n",
              "                                                  [&#x27;Cloud Cover&#x27;, &#x27;Season&#x27;,\n",
              "                                                   &#x27;Location&#x27;])])),\n",
              "                (&#x27;modeling forest&#x27;,\n",
              "                 GridSearchCV(cv=5, estimator=RandomForestClassifier(),\n",
              "                              param_grid=[{&#x27;max_depth&#x27;: [2, 3, 4, 5],\n",
              "                                           &#x27;max_features&#x27;: [5, 10, 15, 20],\n",
              "                                           &#x27;min_samples_leaf&#x27;: [25, 50, 100,\n",
              "                                                                200],\n",
              "                                           &#x27;min_samples_split&#x27;: [25, 50, 100,\n",
              "                                                                 200],\n",
              "                                           &#x27;n_estimators&#x27;: [5, 10, 20, 50]}],\n",
              "                              return_train_score=True, scoring=&#x27;accuracy&#x27;))])</pre><b>In a Jupyter environment, please rerun this cell to show the HTML representation or trust the notebook. <br />On GitHub, the HTML representation is unable to render, please try loading this page with nbviewer.org.</b></div><div class=\"sk-container\" hidden><div class=\"sk-item sk-dashed-wrapped\"><div class=\"sk-label-container\"><div class=\"sk-label sk-toggleable\"><input class=\"sk-toggleable__control sk-hidden--visually\" id=\"sk-estimator-id-41\" type=\"checkbox\" ><label for=\"sk-estimator-id-41\" class=\"sk-toggleable__label sk-toggleable__label-arrow\">Pipeline</label><div class=\"sk-toggleable__content\"><pre>Pipeline(steps=[(&#x27;processing&#x27;,\n",
              "                 ColumnTransformer(transformers=[(&#x27;numeric&#x27;,\n",
              "                                                  Pipeline(steps=[(&#x27;standardize&#x27;,\n",
              "                                                                   StandardScaler())]),\n",
              "                                                  [&#x27;Temperature&#x27;,\n",
              "                                                   &#x27;Precipitation (%)&#x27;,\n",
              "                                                   &#x27;Atmospheric Pressure&#x27;,\n",
              "                                                   &#x27;Visibility (km)&#x27;]),\n",
              "                                                 (&#x27;log&#x27;,\n",
              "                                                  Pipeline(steps=[(&#x27;log &#x27;\n",
              "                                                                   &#x27;transform&#x27;,\n",
              "                                                                   FunctionTransformer(func=&lt;function log_transformation at 0x7b8e9638f6d0&gt;)),\n",
              "                                                                  (&#x27;standardize&#x27;,\n",
              "                                                                   StandardScaler())]),\n",
              "                                                  [&#x27;H...\n",
              "                                                  OneHotEncoder(handle_unknown=&#x27;infrequent_if_exist&#x27;,\n",
              "                                                                max_categories=5),\n",
              "                                                  [&#x27;Cloud Cover&#x27;, &#x27;Season&#x27;,\n",
              "                                                   &#x27;Location&#x27;])])),\n",
              "                (&#x27;modeling forest&#x27;,\n",
              "                 GridSearchCV(cv=5, estimator=RandomForestClassifier(),\n",
              "                              param_grid=[{&#x27;max_depth&#x27;: [2, 3, 4, 5],\n",
              "                                           &#x27;max_features&#x27;: [5, 10, 15, 20],\n",
              "                                           &#x27;min_samples_leaf&#x27;: [25, 50, 100,\n",
              "                                                                200],\n",
              "                                           &#x27;min_samples_split&#x27;: [25, 50, 100,\n",
              "                                                                 200],\n",
              "                                           &#x27;n_estimators&#x27;: [5, 10, 20, 50]}],\n",
              "                              return_train_score=True, scoring=&#x27;accuracy&#x27;))])</pre></div></div></div><div class=\"sk-serial\"><div class=\"sk-item sk-dashed-wrapped\"><div class=\"sk-label-container\"><div class=\"sk-label sk-toggleable\"><input class=\"sk-toggleable__control sk-hidden--visually\" id=\"sk-estimator-id-42\" type=\"checkbox\" ><label for=\"sk-estimator-id-42\" class=\"sk-toggleable__label sk-toggleable__label-arrow\">processing: ColumnTransformer</label><div class=\"sk-toggleable__content\"><pre>ColumnTransformer(transformers=[(&#x27;numeric&#x27;,\n",
              "                                 Pipeline(steps=[(&#x27;standardize&#x27;,\n",
              "                                                  StandardScaler())]),\n",
              "                                 [&#x27;Temperature&#x27;, &#x27;Precipitation (%)&#x27;,\n",
              "                                  &#x27;Atmospheric Pressure&#x27;, &#x27;Visibility (km)&#x27;]),\n",
              "                                (&#x27;log&#x27;,\n",
              "                                 Pipeline(steps=[(&#x27;log transform&#x27;,\n",
              "                                                  FunctionTransformer(func=&lt;function log_transformation at 0x7b8e9638f6d0&gt;)),\n",
              "                                                 (&#x27;standardize&#x27;,\n",
              "                                                  StandardScaler())]),\n",
              "                                 [&#x27;Humidity&#x27;, &#x27;Wind Speed&#x27;, &#x27;UV Index&#x27;]),\n",
              "                                (&#x27;class&#x27;,\n",
              "                                 OneHotEncoder(handle_unknown=&#x27;infrequent_if_exist&#x27;,\n",
              "                                               max_categories=5),\n",
              "                                 [&#x27;Cloud Cover&#x27;, &#x27;Season&#x27;, &#x27;Location&#x27;])])</pre></div></div></div><div class=\"sk-parallel\"><div class=\"sk-parallel-item\"><div class=\"sk-item\"><div class=\"sk-label-container\"><div class=\"sk-label sk-toggleable\"><input class=\"sk-toggleable__control sk-hidden--visually\" id=\"sk-estimator-id-43\" type=\"checkbox\" ><label for=\"sk-estimator-id-43\" class=\"sk-toggleable__label sk-toggleable__label-arrow\">numeric</label><div class=\"sk-toggleable__content\"><pre>[&#x27;Temperature&#x27;, &#x27;Precipitation (%)&#x27;, &#x27;Atmospheric Pressure&#x27;, &#x27;Visibility (km)&#x27;]</pre></div></div></div><div class=\"sk-serial\"><div class=\"sk-item\"><div class=\"sk-serial\"><div class=\"sk-item\"><div class=\"sk-estimator sk-toggleable\"><input class=\"sk-toggleable__control sk-hidden--visually\" id=\"sk-estimator-id-44\" type=\"checkbox\" ><label for=\"sk-estimator-id-44\" class=\"sk-toggleable__label sk-toggleable__label-arrow\">StandardScaler</label><div class=\"sk-toggleable__content\"><pre>StandardScaler()</pre></div></div></div></div></div></div></div></div><div class=\"sk-parallel-item\"><div class=\"sk-item\"><div class=\"sk-label-container\"><div class=\"sk-label sk-toggleable\"><input class=\"sk-toggleable__control sk-hidden--visually\" id=\"sk-estimator-id-45\" type=\"checkbox\" ><label for=\"sk-estimator-id-45\" class=\"sk-toggleable__label sk-toggleable__label-arrow\">log</label><div class=\"sk-toggleable__content\"><pre>[&#x27;Humidity&#x27;, &#x27;Wind Speed&#x27;, &#x27;UV Index&#x27;]</pre></div></div></div><div class=\"sk-serial\"><div class=\"sk-item\"><div class=\"sk-serial\"><div class=\"sk-item\"><div class=\"sk-estimator sk-toggleable\"><input class=\"sk-toggleable__control sk-hidden--visually\" id=\"sk-estimator-id-46\" type=\"checkbox\" ><label for=\"sk-estimator-id-46\" class=\"sk-toggleable__label sk-toggleable__label-arrow\">FunctionTransformer</label><div class=\"sk-toggleable__content\"><pre>FunctionTransformer(func=&lt;function log_transformation at 0x7b8e9638f6d0&gt;)</pre></div></div></div><div class=\"sk-item\"><div class=\"sk-estimator sk-toggleable\"><input class=\"sk-toggleable__control sk-hidden--visually\" id=\"sk-estimator-id-47\" type=\"checkbox\" ><label for=\"sk-estimator-id-47\" class=\"sk-toggleable__label sk-toggleable__label-arrow\">StandardScaler</label><div class=\"sk-toggleable__content\"><pre>StandardScaler()</pre></div></div></div></div></div></div></div></div><div class=\"sk-parallel-item\"><div class=\"sk-item\"><div class=\"sk-label-container\"><div class=\"sk-label sk-toggleable\"><input class=\"sk-toggleable__control sk-hidden--visually\" id=\"sk-estimator-id-48\" type=\"checkbox\" ><label for=\"sk-estimator-id-48\" class=\"sk-toggleable__label sk-toggleable__label-arrow\">class</label><div class=\"sk-toggleable__content\"><pre>[&#x27;Cloud Cover&#x27;, &#x27;Season&#x27;, &#x27;Location&#x27;]</pre></div></div></div><div class=\"sk-serial\"><div class=\"sk-item\"><div class=\"sk-estimator sk-toggleable\"><input class=\"sk-toggleable__control sk-hidden--visually\" id=\"sk-estimator-id-49\" type=\"checkbox\" ><label for=\"sk-estimator-id-49\" class=\"sk-toggleable__label sk-toggleable__label-arrow\">OneHotEncoder</label><div class=\"sk-toggleable__content\"><pre>OneHotEncoder(handle_unknown=&#x27;infrequent_if_exist&#x27;, max_categories=5)</pre></div></div></div></div></div></div></div></div><div class=\"sk-item sk-dashed-wrapped\"><div class=\"sk-label-container\"><div class=\"sk-label sk-toggleable\"><input class=\"sk-toggleable__control sk-hidden--visually\" id=\"sk-estimator-id-50\" type=\"checkbox\" ><label for=\"sk-estimator-id-50\" class=\"sk-toggleable__label sk-toggleable__label-arrow\">modeling forest: GridSearchCV</label><div class=\"sk-toggleable__content\"><pre>GridSearchCV(cv=5, estimator=RandomForestClassifier(),\n",
              "             param_grid=[{&#x27;max_depth&#x27;: [2, 3, 4, 5],\n",
              "                          &#x27;max_features&#x27;: [5, 10, 15, 20],\n",
              "                          &#x27;min_samples_leaf&#x27;: [25, 50, 100, 200],\n",
              "                          &#x27;min_samples_split&#x27;: [25, 50, 100, 200],\n",
              "                          &#x27;n_estimators&#x27;: [5, 10, 20, 50]}],\n",
              "             return_train_score=True, scoring=&#x27;accuracy&#x27;)</pre></div></div></div><div class=\"sk-parallel\"><div class=\"sk-parallel-item\"><div class=\"sk-item\"><div class=\"sk-label-container\"><div class=\"sk-label sk-toggleable\"><input class=\"sk-toggleable__control sk-hidden--visually\" id=\"sk-estimator-id-51\" type=\"checkbox\" ><label for=\"sk-estimator-id-51\" class=\"sk-toggleable__label sk-toggleable__label-arrow\">estimator: RandomForestClassifier</label><div class=\"sk-toggleable__content\"><pre>RandomForestClassifier()</pre></div></div></div><div class=\"sk-serial\"><div class=\"sk-item\"><div class=\"sk-estimator sk-toggleable\"><input class=\"sk-toggleable__control sk-hidden--visually\" id=\"sk-estimator-id-52\" type=\"checkbox\" ><label for=\"sk-estimator-id-52\" class=\"sk-toggleable__label sk-toggleable__label-arrow\">RandomForestClassifier</label><div class=\"sk-toggleable__content\"><pre>RandomForestClassifier()</pre></div></div></div></div></div></div></div></div></div></div></div></div>"
            ]
          },
          "metadata": {},
          "execution_count": 85
        }
      ]
    },
    {
      "cell_type": "markdown",
      "source": [
        "***AFTER FINE TUNING, EVALUATING THE PERFORMANCE OF CONFUSION METRICS***"
      ],
      "metadata": {
        "id": "2rTWrmcd1hJd"
      }
    },
    {
      "cell_type": "markdown",
      "source": [
        "Accuracy Score"
      ],
      "metadata": {
        "id": "WCZvv5VN1rCY"
      }
    },
    {
      "cell_type": "code",
      "source": [
        "forest_pred = forest_pipeline.predict(traindata)\n",
        "accuracy_score(traindata[target], forest_pred)"
      ],
      "metadata": {
        "id": "2eOd-ekAwBtM",
        "colab": {
          "base_uri": "https://localhost:8080/"
        },
        "outputId": "100cda9f-ccfe-4c7d-fe64-bde9c52d6885"
      },
      "execution_count": null,
      "outputs": [
        {
          "output_type": "execute_result",
          "data": {
            "text/plain": [
              "0.9114141414141415"
            ]
          },
          "metadata": {},
          "execution_count": 86
        }
      ]
    },
    {
      "cell_type": "code",
      "source": [
        "forest_pred_test = forest_pipeline.predict(testdata)\n",
        "accuracy_score(testdata[target], forest_pred_test)"
      ],
      "metadata": {
        "colab": {
          "base_uri": "https://localhost:8080/"
        },
        "id": "bxTfGAMS7mfM",
        "outputId": "d1b76c77-0a48-4ca7-9281-f1fc59dbbc2b"
      },
      "execution_count": null,
      "outputs": [
        {
          "output_type": "execute_result",
          "data": {
            "text/plain": [
              "0.91"
            ]
          },
          "metadata": {},
          "execution_count": 87
        }
      ]
    },
    {
      "cell_type": "markdown",
      "source": [
        "Precision Score"
      ],
      "metadata": {
        "id": "H1-SokgI1t79"
      }
    },
    {
      "cell_type": "code",
      "source": [
        "forest_pred = forest_pipeline.predict(traindata)\n",
        "precision_score(traindata[target], forest_pred, average='weighted')"
      ],
      "metadata": {
        "colab": {
          "base_uri": "https://localhost:8080/"
        },
        "id": "4vkqSktA7pUo",
        "outputId": "067c9da0-2a6a-49c5-c596-11497133ff23"
      },
      "execution_count": null,
      "outputs": [
        {
          "output_type": "execute_result",
          "data": {
            "text/plain": [
              "0.9125991314948049"
            ]
          },
          "metadata": {},
          "execution_count": 88
        }
      ]
    },
    {
      "cell_type": "code",
      "source": [
        "forest_pred_test = forest_pipeline.predict(testdata)\n",
        "precision_score(testdata[target], forest_pred_test, average='weighted')"
      ],
      "metadata": {
        "colab": {
          "base_uri": "https://localhost:8080/"
        },
        "id": "3zuiv0iT7uxz",
        "outputId": "cd4518b9-4434-440d-9146-c17674a3935e"
      },
      "execution_count": null,
      "outputs": [
        {
          "output_type": "execute_result",
          "data": {
            "text/plain": [
              "0.9108757131975902"
            ]
          },
          "metadata": {},
          "execution_count": 89
        }
      ]
    },
    {
      "cell_type": "markdown",
      "source": [
        "Recall Score"
      ],
      "metadata": {
        "id": "O_bibyu81xsb"
      }
    },
    {
      "cell_type": "code",
      "source": [
        "forest_pred = forest_pipeline.predict(traindata)\n",
        "recall_score(traindata[target], forest_pred, average='weighted')"
      ],
      "metadata": {
        "id": "PTZ1JGGi1xW2",
        "colab": {
          "base_uri": "https://localhost:8080/"
        },
        "outputId": "a7a26f9e-369a-4206-dca8-a0ee7b53bc33"
      },
      "execution_count": null,
      "outputs": [
        {
          "output_type": "execute_result",
          "data": {
            "text/plain": [
              "0.9114141414141415"
            ]
          },
          "metadata": {},
          "execution_count": 90
        }
      ]
    },
    {
      "cell_type": "code",
      "source": [
        "forest_pred_test = forest_pipeline.predict(testdata)\n",
        "recall_score(testdata[target], forest_pred_test, average='weighted')"
      ],
      "metadata": {
        "id": "pmz9-N6P1xJY",
        "colab": {
          "base_uri": "https://localhost:8080/"
        },
        "outputId": "de05282c-05e1-4f67-e2da-8ef61492246f"
      },
      "execution_count": null,
      "outputs": [
        {
          "output_type": "execute_result",
          "data": {
            "text/plain": [
              "0.91"
            ]
          },
          "metadata": {},
          "execution_count": 91
        }
      ]
    },
    {
      "cell_type": "markdown",
      "source": [
        "F1 Score"
      ],
      "metadata": {
        "id": "HDbnoQc617wK"
      }
    },
    {
      "cell_type": "code",
      "source": [
        "forest_pred = forest_pipeline.predict(traindata)\n",
        "f1_score(traindata[target], forest_pred, average='weighted')"
      ],
      "metadata": {
        "colab": {
          "base_uri": "https://localhost:8080/"
        },
        "id": "HXtqiatR73Vh",
        "outputId": "6b8d0067-6a46-41ac-b55a-4ddb5027838f"
      },
      "execution_count": null,
      "outputs": [
        {
          "output_type": "execute_result",
          "data": {
            "text/plain": [
              "0.911648759667083"
            ]
          },
          "metadata": {},
          "execution_count": 92
        }
      ]
    },
    {
      "cell_type": "code",
      "source": [
        "forest_pred_test = forest_pipeline.predict(testdata)\n",
        "f1_score(testdata[target], forest_pred_test, average='weighted')"
      ],
      "metadata": {
        "colab": {
          "base_uri": "https://localhost:8080/"
        },
        "id": "0_t1VnAZ780K",
        "outputId": "2f27eabc-db4b-43df-e500-a3760faecb61"
      },
      "execution_count": null,
      "outputs": [
        {
          "output_type": "execute_result",
          "data": {
            "text/plain": [
              "0.9100341300748992"
            ]
          },
          "metadata": {},
          "execution_count": 93
        }
      ]
    },
    {
      "cell_type": "markdown",
      "source": [
        "***5.3 Training Logistic Regression Model***"
      ],
      "metadata": {
        "id": "8AwBvqXZE60D"
      }
    },
    {
      "cell_type": "code",
      "source": [
        "from sklearn.linear_model import LogisticRegression\n",
        "\n",
        "logistic_pipeline = Pipeline([\n",
        "    ('processing',processing_pipeline),\n",
        "    ('modeling',LogisticRegression(max_iter=1000))\n",
        "])\n",
        "\n",
        "\n",
        "logistic_pipeline.fit(traindata, traindata[target])"
      ],
      "metadata": {
        "colab": {
          "base_uri": "https://localhost:8080/",
          "height": 225
        },
        "id": "37i2Cv2t8BkY",
        "outputId": "efb163b9-ec3d-438b-bcde-b17d3e037875"
      },
      "execution_count": null,
      "outputs": [
        {
          "output_type": "execute_result",
          "data": {
            "text/plain": [
              "Pipeline(steps=[('processing',\n",
              "                 ColumnTransformer(transformers=[('numeric',\n",
              "                                                  Pipeline(steps=[('standardize',\n",
              "                                                                   StandardScaler())]),\n",
              "                                                  ['Temperature',\n",
              "                                                   'Precipitation (%)',\n",
              "                                                   'Atmospheric Pressure',\n",
              "                                                   'Visibility (km)']),\n",
              "                                                 ('log',\n",
              "                                                  Pipeline(steps=[('log '\n",
              "                                                                   'transform',\n",
              "                                                                   FunctionTransformer(func=<function log_transformation at 0x7b8e9638f6d0>)),\n",
              "                                                                  ('standardize',\n",
              "                                                                   StandardScaler())]),\n",
              "                                                  ['Humidity', 'Wind Speed',\n",
              "                                                   'UV Index']),\n",
              "                                                 ('class',\n",
              "                                                  OneHotEncoder(handle_unknown='infrequent_if_exist',\n",
              "                                                                max_categories=5),\n",
              "                                                  ['Cloud Cover', 'Season',\n",
              "                                                   'Location'])])),\n",
              "                ('modeling', LogisticRegression(max_iter=1000))])"
            ],
            "text/html": [
              "<style>#sk-container-id-6 {color: black;background-color: white;}#sk-container-id-6 pre{padding: 0;}#sk-container-id-6 div.sk-toggleable {background-color: white;}#sk-container-id-6 label.sk-toggleable__label {cursor: pointer;display: block;width: 100%;margin-bottom: 0;padding: 0.3em;box-sizing: border-box;text-align: center;}#sk-container-id-6 label.sk-toggleable__label-arrow:before {content: \"▸\";float: left;margin-right: 0.25em;color: #696969;}#sk-container-id-6 label.sk-toggleable__label-arrow:hover:before {color: black;}#sk-container-id-6 div.sk-estimator:hover label.sk-toggleable__label-arrow:before {color: black;}#sk-container-id-6 div.sk-toggleable__content {max-height: 0;max-width: 0;overflow: hidden;text-align: left;background-color: #f0f8ff;}#sk-container-id-6 div.sk-toggleable__content pre {margin: 0.2em;color: black;border-radius: 0.25em;background-color: #f0f8ff;}#sk-container-id-6 input.sk-toggleable__control:checked~div.sk-toggleable__content {max-height: 200px;max-width: 100%;overflow: auto;}#sk-container-id-6 input.sk-toggleable__control:checked~label.sk-toggleable__label-arrow:before {content: \"▾\";}#sk-container-id-6 div.sk-estimator input.sk-toggleable__control:checked~label.sk-toggleable__label {background-color: #d4ebff;}#sk-container-id-6 div.sk-label input.sk-toggleable__control:checked~label.sk-toggleable__label {background-color: #d4ebff;}#sk-container-id-6 input.sk-hidden--visually {border: 0;clip: rect(1px 1px 1px 1px);clip: rect(1px, 1px, 1px, 1px);height: 1px;margin: -1px;overflow: hidden;padding: 0;position: absolute;width: 1px;}#sk-container-id-6 div.sk-estimator {font-family: monospace;background-color: #f0f8ff;border: 1px dotted black;border-radius: 0.25em;box-sizing: border-box;margin-bottom: 0.5em;}#sk-container-id-6 div.sk-estimator:hover {background-color: #d4ebff;}#sk-container-id-6 div.sk-parallel-item::after {content: \"\";width: 100%;border-bottom: 1px solid gray;flex-grow: 1;}#sk-container-id-6 div.sk-label:hover label.sk-toggleable__label {background-color: #d4ebff;}#sk-container-id-6 div.sk-serial::before {content: \"\";position: absolute;border-left: 1px solid gray;box-sizing: border-box;top: 0;bottom: 0;left: 50%;z-index: 0;}#sk-container-id-6 div.sk-serial {display: flex;flex-direction: column;align-items: center;background-color: white;padding-right: 0.2em;padding-left: 0.2em;position: relative;}#sk-container-id-6 div.sk-item {position: relative;z-index: 1;}#sk-container-id-6 div.sk-parallel {display: flex;align-items: stretch;justify-content: center;background-color: white;position: relative;}#sk-container-id-6 div.sk-item::before, #sk-container-id-6 div.sk-parallel-item::before {content: \"\";position: absolute;border-left: 1px solid gray;box-sizing: border-box;top: 0;bottom: 0;left: 50%;z-index: -1;}#sk-container-id-6 div.sk-parallel-item {display: flex;flex-direction: column;z-index: 1;position: relative;background-color: white;}#sk-container-id-6 div.sk-parallel-item:first-child::after {align-self: flex-end;width: 50%;}#sk-container-id-6 div.sk-parallel-item:last-child::after {align-self: flex-start;width: 50%;}#sk-container-id-6 div.sk-parallel-item:only-child::after {width: 0;}#sk-container-id-6 div.sk-dashed-wrapped {border: 1px dashed gray;margin: 0 0.4em 0.5em 0.4em;box-sizing: border-box;padding-bottom: 0.4em;background-color: white;}#sk-container-id-6 div.sk-label label {font-family: monospace;font-weight: bold;display: inline-block;line-height: 1.2em;}#sk-container-id-6 div.sk-label-container {text-align: center;}#sk-container-id-6 div.sk-container {/* jupyter's `normalize.less` sets `[hidden] { display: none; }` but bootstrap.min.css set `[hidden] { display: none !important; }` so we also need the `!important` here to be able to override the default hidden behavior on the sphinx rendered scikit-learn.org. See: https://github.com/scikit-learn/scikit-learn/issues/21755 */display: inline-block !important;position: relative;}#sk-container-id-6 div.sk-text-repr-fallback {display: none;}</style><div id=\"sk-container-id-6\" class=\"sk-top-container\"><div class=\"sk-text-repr-fallback\"><pre>Pipeline(steps=[(&#x27;processing&#x27;,\n",
              "                 ColumnTransformer(transformers=[(&#x27;numeric&#x27;,\n",
              "                                                  Pipeline(steps=[(&#x27;standardize&#x27;,\n",
              "                                                                   StandardScaler())]),\n",
              "                                                  [&#x27;Temperature&#x27;,\n",
              "                                                   &#x27;Precipitation (%)&#x27;,\n",
              "                                                   &#x27;Atmospheric Pressure&#x27;,\n",
              "                                                   &#x27;Visibility (km)&#x27;]),\n",
              "                                                 (&#x27;log&#x27;,\n",
              "                                                  Pipeline(steps=[(&#x27;log &#x27;\n",
              "                                                                   &#x27;transform&#x27;,\n",
              "                                                                   FunctionTransformer(func=&lt;function log_transformation at 0x7b8e9638f6d0&gt;)),\n",
              "                                                                  (&#x27;standardize&#x27;,\n",
              "                                                                   StandardScaler())]),\n",
              "                                                  [&#x27;Humidity&#x27;, &#x27;Wind Speed&#x27;,\n",
              "                                                   &#x27;UV Index&#x27;]),\n",
              "                                                 (&#x27;class&#x27;,\n",
              "                                                  OneHotEncoder(handle_unknown=&#x27;infrequent_if_exist&#x27;,\n",
              "                                                                max_categories=5),\n",
              "                                                  [&#x27;Cloud Cover&#x27;, &#x27;Season&#x27;,\n",
              "                                                   &#x27;Location&#x27;])])),\n",
              "                (&#x27;modeling&#x27;, LogisticRegression(max_iter=1000))])</pre><b>In a Jupyter environment, please rerun this cell to show the HTML representation or trust the notebook. <br />On GitHub, the HTML representation is unable to render, please try loading this page with nbviewer.org.</b></div><div class=\"sk-container\" hidden><div class=\"sk-item sk-dashed-wrapped\"><div class=\"sk-label-container\"><div class=\"sk-label sk-toggleable\"><input class=\"sk-toggleable__control sk-hidden--visually\" id=\"sk-estimator-id-53\" type=\"checkbox\" ><label for=\"sk-estimator-id-53\" class=\"sk-toggleable__label sk-toggleable__label-arrow\">Pipeline</label><div class=\"sk-toggleable__content\"><pre>Pipeline(steps=[(&#x27;processing&#x27;,\n",
              "                 ColumnTransformer(transformers=[(&#x27;numeric&#x27;,\n",
              "                                                  Pipeline(steps=[(&#x27;standardize&#x27;,\n",
              "                                                                   StandardScaler())]),\n",
              "                                                  [&#x27;Temperature&#x27;,\n",
              "                                                   &#x27;Precipitation (%)&#x27;,\n",
              "                                                   &#x27;Atmospheric Pressure&#x27;,\n",
              "                                                   &#x27;Visibility (km)&#x27;]),\n",
              "                                                 (&#x27;log&#x27;,\n",
              "                                                  Pipeline(steps=[(&#x27;log &#x27;\n",
              "                                                                   &#x27;transform&#x27;,\n",
              "                                                                   FunctionTransformer(func=&lt;function log_transformation at 0x7b8e9638f6d0&gt;)),\n",
              "                                                                  (&#x27;standardize&#x27;,\n",
              "                                                                   StandardScaler())]),\n",
              "                                                  [&#x27;Humidity&#x27;, &#x27;Wind Speed&#x27;,\n",
              "                                                   &#x27;UV Index&#x27;]),\n",
              "                                                 (&#x27;class&#x27;,\n",
              "                                                  OneHotEncoder(handle_unknown=&#x27;infrequent_if_exist&#x27;,\n",
              "                                                                max_categories=5),\n",
              "                                                  [&#x27;Cloud Cover&#x27;, &#x27;Season&#x27;,\n",
              "                                                   &#x27;Location&#x27;])])),\n",
              "                (&#x27;modeling&#x27;, LogisticRegression(max_iter=1000))])</pre></div></div></div><div class=\"sk-serial\"><div class=\"sk-item sk-dashed-wrapped\"><div class=\"sk-label-container\"><div class=\"sk-label sk-toggleable\"><input class=\"sk-toggleable__control sk-hidden--visually\" id=\"sk-estimator-id-54\" type=\"checkbox\" ><label for=\"sk-estimator-id-54\" class=\"sk-toggleable__label sk-toggleable__label-arrow\">processing: ColumnTransformer</label><div class=\"sk-toggleable__content\"><pre>ColumnTransformer(transformers=[(&#x27;numeric&#x27;,\n",
              "                                 Pipeline(steps=[(&#x27;standardize&#x27;,\n",
              "                                                  StandardScaler())]),\n",
              "                                 [&#x27;Temperature&#x27;, &#x27;Precipitation (%)&#x27;,\n",
              "                                  &#x27;Atmospheric Pressure&#x27;, &#x27;Visibility (km)&#x27;]),\n",
              "                                (&#x27;log&#x27;,\n",
              "                                 Pipeline(steps=[(&#x27;log transform&#x27;,\n",
              "                                                  FunctionTransformer(func=&lt;function log_transformation at 0x7b8e9638f6d0&gt;)),\n",
              "                                                 (&#x27;standardize&#x27;,\n",
              "                                                  StandardScaler())]),\n",
              "                                 [&#x27;Humidity&#x27;, &#x27;Wind Speed&#x27;, &#x27;UV Index&#x27;]),\n",
              "                                (&#x27;class&#x27;,\n",
              "                                 OneHotEncoder(handle_unknown=&#x27;infrequent_if_exist&#x27;,\n",
              "                                               max_categories=5),\n",
              "                                 [&#x27;Cloud Cover&#x27;, &#x27;Season&#x27;, &#x27;Location&#x27;])])</pre></div></div></div><div class=\"sk-parallel\"><div class=\"sk-parallel-item\"><div class=\"sk-item\"><div class=\"sk-label-container\"><div class=\"sk-label sk-toggleable\"><input class=\"sk-toggleable__control sk-hidden--visually\" id=\"sk-estimator-id-55\" type=\"checkbox\" ><label for=\"sk-estimator-id-55\" class=\"sk-toggleable__label sk-toggleable__label-arrow\">numeric</label><div class=\"sk-toggleable__content\"><pre>[&#x27;Temperature&#x27;, &#x27;Precipitation (%)&#x27;, &#x27;Atmospheric Pressure&#x27;, &#x27;Visibility (km)&#x27;]</pre></div></div></div><div class=\"sk-serial\"><div class=\"sk-item\"><div class=\"sk-serial\"><div class=\"sk-item\"><div class=\"sk-estimator sk-toggleable\"><input class=\"sk-toggleable__control sk-hidden--visually\" id=\"sk-estimator-id-56\" type=\"checkbox\" ><label for=\"sk-estimator-id-56\" class=\"sk-toggleable__label sk-toggleable__label-arrow\">StandardScaler</label><div class=\"sk-toggleable__content\"><pre>StandardScaler()</pre></div></div></div></div></div></div></div></div><div class=\"sk-parallel-item\"><div class=\"sk-item\"><div class=\"sk-label-container\"><div class=\"sk-label sk-toggleable\"><input class=\"sk-toggleable__control sk-hidden--visually\" id=\"sk-estimator-id-57\" type=\"checkbox\" ><label for=\"sk-estimator-id-57\" class=\"sk-toggleable__label sk-toggleable__label-arrow\">log</label><div class=\"sk-toggleable__content\"><pre>[&#x27;Humidity&#x27;, &#x27;Wind Speed&#x27;, &#x27;UV Index&#x27;]</pre></div></div></div><div class=\"sk-serial\"><div class=\"sk-item\"><div class=\"sk-serial\"><div class=\"sk-item\"><div class=\"sk-estimator sk-toggleable\"><input class=\"sk-toggleable__control sk-hidden--visually\" id=\"sk-estimator-id-58\" type=\"checkbox\" ><label for=\"sk-estimator-id-58\" class=\"sk-toggleable__label sk-toggleable__label-arrow\">FunctionTransformer</label><div class=\"sk-toggleable__content\"><pre>FunctionTransformer(func=&lt;function log_transformation at 0x7b8e9638f6d0&gt;)</pre></div></div></div><div class=\"sk-item\"><div class=\"sk-estimator sk-toggleable\"><input class=\"sk-toggleable__control sk-hidden--visually\" id=\"sk-estimator-id-59\" type=\"checkbox\" ><label for=\"sk-estimator-id-59\" class=\"sk-toggleable__label sk-toggleable__label-arrow\">StandardScaler</label><div class=\"sk-toggleable__content\"><pre>StandardScaler()</pre></div></div></div></div></div></div></div></div><div class=\"sk-parallel-item\"><div class=\"sk-item\"><div class=\"sk-label-container\"><div class=\"sk-label sk-toggleable\"><input class=\"sk-toggleable__control sk-hidden--visually\" id=\"sk-estimator-id-60\" type=\"checkbox\" ><label for=\"sk-estimator-id-60\" class=\"sk-toggleable__label sk-toggleable__label-arrow\">class</label><div class=\"sk-toggleable__content\"><pre>[&#x27;Cloud Cover&#x27;, &#x27;Season&#x27;, &#x27;Location&#x27;]</pre></div></div></div><div class=\"sk-serial\"><div class=\"sk-item\"><div class=\"sk-estimator sk-toggleable\"><input class=\"sk-toggleable__control sk-hidden--visually\" id=\"sk-estimator-id-61\" type=\"checkbox\" ><label for=\"sk-estimator-id-61\" class=\"sk-toggleable__label sk-toggleable__label-arrow\">OneHotEncoder</label><div class=\"sk-toggleable__content\"><pre>OneHotEncoder(handle_unknown=&#x27;infrequent_if_exist&#x27;, max_categories=5)</pre></div></div></div></div></div></div></div></div><div class=\"sk-item\"><div class=\"sk-estimator sk-toggleable\"><input class=\"sk-toggleable__control sk-hidden--visually\" id=\"sk-estimator-id-62\" type=\"checkbox\" ><label for=\"sk-estimator-id-62\" class=\"sk-toggleable__label sk-toggleable__label-arrow\">LogisticRegression</label><div class=\"sk-toggleable__content\"><pre>LogisticRegression(max_iter=1000)</pre></div></div></div></div></div></div></div>"
            ]
          },
          "metadata": {},
          "execution_count": 94
        }
      ]
    },
    {
      "cell_type": "markdown",
      "source": [
        "***Evaluation of Data Performance by Confusion Metrics (Accuracy, Precision, Recall and F1 Score)***"
      ],
      "metadata": {
        "id": "DtQsZC8zFLF8"
      }
    },
    {
      "cell_type": "markdown",
      "source": [
        "Accuracy Score"
      ],
      "metadata": {
        "id": "a5IIFpu0FNUA"
      }
    },
    {
      "cell_type": "code",
      "source": [
        "\n",
        "logistic_pred = logistic_pipeline.predict(traindata)\n",
        "accuracy_score(traindata[target], logistic_pred)"
      ],
      "metadata": {
        "id": "DConv0tz8J7C",
        "colab": {
          "base_uri": "https://localhost:8080/"
        },
        "outputId": "6cb64a3e-2b7a-463e-cd7c-e31179acd9ad"
      },
      "execution_count": null,
      "outputs": [
        {
          "output_type": "execute_result",
          "data": {
            "text/plain": [
              "0.8671717171717171"
            ]
          },
          "metadata": {},
          "execution_count": 95
        }
      ]
    },
    {
      "cell_type": "code",
      "source": [
        "logistic_pred_test = logistic_pipeline.predict(testdata)\n",
        "accuracy_score(testdata[target], logistic_pred_test)"
      ],
      "metadata": {
        "colab": {
          "base_uri": "https://localhost:8080/"
        },
        "id": "oSCL0Q2Bq-AI",
        "outputId": "32b3048c-1ef3-46ed-e1ac-14497f0dac19"
      },
      "execution_count": null,
      "outputs": [
        {
          "output_type": "execute_result",
          "data": {
            "text/plain": [
              "0.8745454545454545"
            ]
          },
          "metadata": {},
          "execution_count": 96
        }
      ]
    },
    {
      "cell_type": "markdown",
      "source": [
        "Precision Score"
      ],
      "metadata": {
        "id": "QefG_JtOFQJ4"
      }
    },
    {
      "cell_type": "code",
      "source": [
        "logistic_pred = logistic_pipeline.predict(traindata)\n",
        "precision_score(traindata[target], logistic_pred, average='weighted')"
      ],
      "metadata": {
        "colab": {
          "base_uri": "https://localhost:8080/"
        },
        "id": "B39bKJ9hrDva",
        "outputId": "2c249920-5422-4c91-f816-40c401509bc0"
      },
      "execution_count": null,
      "outputs": [
        {
          "output_type": "execute_result",
          "data": {
            "text/plain": [
              "0.8683786062985235"
            ]
          },
          "metadata": {},
          "execution_count": 97
        }
      ]
    },
    {
      "cell_type": "code",
      "source": [
        "logistic_pred_test = logistic_pipeline.predict(testdata)\n",
        "precision_score(testdata[target], logistic_pred_test, average='weighted')"
      ],
      "metadata": {
        "colab": {
          "base_uri": "https://localhost:8080/"
        },
        "id": "9fCUO5qhrKLk",
        "outputId": "22ada160-979e-487d-904a-2f0d38903c7e"
      },
      "execution_count": null,
      "outputs": [
        {
          "output_type": "execute_result",
          "data": {
            "text/plain": [
              "0.8761454732189993"
            ]
          },
          "metadata": {},
          "execution_count": 98
        }
      ]
    },
    {
      "cell_type": "markdown",
      "source": [
        "Recall Score"
      ],
      "metadata": {
        "id": "HNsqzQekFT7Z"
      }
    },
    {
      "cell_type": "code",
      "source": [
        "logistic_pred = logistic_pipeline.predict(traindata)\n",
        "recall_score(traindata[target], logistic_pred, average='weighted')"
      ],
      "metadata": {
        "colab": {
          "base_uri": "https://localhost:8080/"
        },
        "id": "NTyJjp6YFTk7",
        "outputId": "69f35197-2d03-4560-fa96-8f497700a835"
      },
      "execution_count": null,
      "outputs": [
        {
          "output_type": "execute_result",
          "data": {
            "text/plain": [
              "0.8671717171717171"
            ]
          },
          "metadata": {},
          "execution_count": 99
        }
      ]
    },
    {
      "cell_type": "code",
      "source": [
        "logistic_pred_test = logistic_pipeline.predict(testdata)\n",
        "recall_score(testdata[target], logistic_pred_test, average='weighted')"
      ],
      "metadata": {
        "colab": {
          "base_uri": "https://localhost:8080/"
        },
        "id": "um04G0VsFTak",
        "outputId": "02876b3e-ff0a-4b1a-cad5-ab8988fc0594"
      },
      "execution_count": null,
      "outputs": [
        {
          "output_type": "execute_result",
          "data": {
            "text/plain": [
              "0.8745454545454545"
            ]
          },
          "metadata": {},
          "execution_count": 100
        }
      ]
    },
    {
      "cell_type": "markdown",
      "source": [
        "F1 Score"
      ],
      "metadata": {
        "id": "1Io3smnWFWtW"
      }
    },
    {
      "cell_type": "code",
      "source": [
        "logistic_pred = logistic_pipeline.predict(traindata)\n",
        "f1_score(traindata[target], logistic_pred, average='weighted')"
      ],
      "metadata": {
        "colab": {
          "base_uri": "https://localhost:8080/"
        },
        "id": "qHzCzhZCrN5-",
        "outputId": "804545be-c7ba-4da2-981f-db2e73346368"
      },
      "execution_count": null,
      "outputs": [
        {
          "output_type": "execute_result",
          "data": {
            "text/plain": [
              "0.8673559865501905"
            ]
          },
          "metadata": {},
          "execution_count": 101
        }
      ]
    },
    {
      "cell_type": "code",
      "source": [
        "logistic_pred_test = logistic_pipeline.predict(testdata)\n",
        "f1_score(testdata[target], logistic_pred_test,average='weighted')"
      ],
      "metadata": {
        "colab": {
          "base_uri": "https://localhost:8080/"
        },
        "id": "9jRo-GW2rT3m",
        "outputId": "988b3926-4d13-4df6-d8c5-01da837455b6"
      },
      "execution_count": null,
      "outputs": [
        {
          "output_type": "execute_result",
          "data": {
            "text/plain": [
              "0.8746410735375398"
            ]
          },
          "metadata": {},
          "execution_count": 102
        }
      ]
    },
    {
      "cell_type": "markdown",
      "source": [
        "***FINE TUNING THE LOGISTIC REGRESSION MODEL***"
      ],
      "metadata": {
        "id": "X52QIOrcFgVv"
      }
    },
    {
      "cell_type": "code",
      "source": [
        "from sklearn.linear_model import LogisticRegression\n",
        "from sklearn.model_selection import GridSearchCV\n",
        "\n",
        "logistic = LogisticRegression(max_iter=10000)\n",
        "param_grid = [{'C': [0.001, 0.01, 0.1, 1, 10, 100]}]\n",
        "grid_search = GridSearchCV(logistic, param_grid, cv=5, scoring='accuracy', return_train_score=True)\n",
        "\n",
        "logistic_pipeline = Pipeline([\n",
        "    ('processing', processing_pipeline),\n",
        "    ('modeling', grid_search)\n",
        "])\n",
        "\n",
        "logistic_pipeline.fit(traindata, traindata[target])"
      ],
      "metadata": {
        "colab": {
          "base_uri": "https://localhost:8080/",
          "height": 290
        },
        "id": "OzE4Fub1rY_o",
        "outputId": "84477563-edfc-4517-9557-ea0b467c46c8"
      },
      "execution_count": null,
      "outputs": [
        {
          "output_type": "execute_result",
          "data": {
            "text/plain": [
              "Pipeline(steps=[('processing',\n",
              "                 ColumnTransformer(transformers=[('numeric',\n",
              "                                                  Pipeline(steps=[('standardize',\n",
              "                                                                   StandardScaler())]),\n",
              "                                                  ['Temperature',\n",
              "                                                   'Precipitation (%)',\n",
              "                                                   'Atmospheric Pressure',\n",
              "                                                   'Visibility (km)']),\n",
              "                                                 ('log',\n",
              "                                                  Pipeline(steps=[('log '\n",
              "                                                                   'transform',\n",
              "                                                                   FunctionTransformer(func=<function log_transformation at 0x7b8e9638f6d0>)),\n",
              "                                                                  ('standardize',\n",
              "                                                                   StandardScaler())]),\n",
              "                                                  ['Humidity', 'Wind Speed',\n",
              "                                                   'UV Index']),\n",
              "                                                 ('class',\n",
              "                                                  OneHotEncoder(handle_unknown='infrequent_if_exist',\n",
              "                                                                max_categories=5),\n",
              "                                                  ['Cloud Cover', 'Season',\n",
              "                                                   'Location'])])),\n",
              "                ('modeling',\n",
              "                 GridSearchCV(cv=5,\n",
              "                              estimator=LogisticRegression(max_iter=10000),\n",
              "                              param_grid=[{'C': [0.001, 0.01, 0.1, 1, 10,\n",
              "                                                 100]}],\n",
              "                              return_train_score=True, scoring='accuracy'))])"
            ],
            "text/html": [
              "<style>#sk-container-id-7 {color: black;background-color: white;}#sk-container-id-7 pre{padding: 0;}#sk-container-id-7 div.sk-toggleable {background-color: white;}#sk-container-id-7 label.sk-toggleable__label {cursor: pointer;display: block;width: 100%;margin-bottom: 0;padding: 0.3em;box-sizing: border-box;text-align: center;}#sk-container-id-7 label.sk-toggleable__label-arrow:before {content: \"▸\";float: left;margin-right: 0.25em;color: #696969;}#sk-container-id-7 label.sk-toggleable__label-arrow:hover:before {color: black;}#sk-container-id-7 div.sk-estimator:hover label.sk-toggleable__label-arrow:before {color: black;}#sk-container-id-7 div.sk-toggleable__content {max-height: 0;max-width: 0;overflow: hidden;text-align: left;background-color: #f0f8ff;}#sk-container-id-7 div.sk-toggleable__content pre {margin: 0.2em;color: black;border-radius: 0.25em;background-color: #f0f8ff;}#sk-container-id-7 input.sk-toggleable__control:checked~div.sk-toggleable__content {max-height: 200px;max-width: 100%;overflow: auto;}#sk-container-id-7 input.sk-toggleable__control:checked~label.sk-toggleable__label-arrow:before {content: \"▾\";}#sk-container-id-7 div.sk-estimator input.sk-toggleable__control:checked~label.sk-toggleable__label {background-color: #d4ebff;}#sk-container-id-7 div.sk-label input.sk-toggleable__control:checked~label.sk-toggleable__label {background-color: #d4ebff;}#sk-container-id-7 input.sk-hidden--visually {border: 0;clip: rect(1px 1px 1px 1px);clip: rect(1px, 1px, 1px, 1px);height: 1px;margin: -1px;overflow: hidden;padding: 0;position: absolute;width: 1px;}#sk-container-id-7 div.sk-estimator {font-family: monospace;background-color: #f0f8ff;border: 1px dotted black;border-radius: 0.25em;box-sizing: border-box;margin-bottom: 0.5em;}#sk-container-id-7 div.sk-estimator:hover {background-color: #d4ebff;}#sk-container-id-7 div.sk-parallel-item::after {content: \"\";width: 100%;border-bottom: 1px solid gray;flex-grow: 1;}#sk-container-id-7 div.sk-label:hover label.sk-toggleable__label {background-color: #d4ebff;}#sk-container-id-7 div.sk-serial::before {content: \"\";position: absolute;border-left: 1px solid gray;box-sizing: border-box;top: 0;bottom: 0;left: 50%;z-index: 0;}#sk-container-id-7 div.sk-serial {display: flex;flex-direction: column;align-items: center;background-color: white;padding-right: 0.2em;padding-left: 0.2em;position: relative;}#sk-container-id-7 div.sk-item {position: relative;z-index: 1;}#sk-container-id-7 div.sk-parallel {display: flex;align-items: stretch;justify-content: center;background-color: white;position: relative;}#sk-container-id-7 div.sk-item::before, #sk-container-id-7 div.sk-parallel-item::before {content: \"\";position: absolute;border-left: 1px solid gray;box-sizing: border-box;top: 0;bottom: 0;left: 50%;z-index: -1;}#sk-container-id-7 div.sk-parallel-item {display: flex;flex-direction: column;z-index: 1;position: relative;background-color: white;}#sk-container-id-7 div.sk-parallel-item:first-child::after {align-self: flex-end;width: 50%;}#sk-container-id-7 div.sk-parallel-item:last-child::after {align-self: flex-start;width: 50%;}#sk-container-id-7 div.sk-parallel-item:only-child::after {width: 0;}#sk-container-id-7 div.sk-dashed-wrapped {border: 1px dashed gray;margin: 0 0.4em 0.5em 0.4em;box-sizing: border-box;padding-bottom: 0.4em;background-color: white;}#sk-container-id-7 div.sk-label label {font-family: monospace;font-weight: bold;display: inline-block;line-height: 1.2em;}#sk-container-id-7 div.sk-label-container {text-align: center;}#sk-container-id-7 div.sk-container {/* jupyter's `normalize.less` sets `[hidden] { display: none; }` but bootstrap.min.css set `[hidden] { display: none !important; }` so we also need the `!important` here to be able to override the default hidden behavior on the sphinx rendered scikit-learn.org. See: https://github.com/scikit-learn/scikit-learn/issues/21755 */display: inline-block !important;position: relative;}#sk-container-id-7 div.sk-text-repr-fallback {display: none;}</style><div id=\"sk-container-id-7\" class=\"sk-top-container\"><div class=\"sk-text-repr-fallback\"><pre>Pipeline(steps=[(&#x27;processing&#x27;,\n",
              "                 ColumnTransformer(transformers=[(&#x27;numeric&#x27;,\n",
              "                                                  Pipeline(steps=[(&#x27;standardize&#x27;,\n",
              "                                                                   StandardScaler())]),\n",
              "                                                  [&#x27;Temperature&#x27;,\n",
              "                                                   &#x27;Precipitation (%)&#x27;,\n",
              "                                                   &#x27;Atmospheric Pressure&#x27;,\n",
              "                                                   &#x27;Visibility (km)&#x27;]),\n",
              "                                                 (&#x27;log&#x27;,\n",
              "                                                  Pipeline(steps=[(&#x27;log &#x27;\n",
              "                                                                   &#x27;transform&#x27;,\n",
              "                                                                   FunctionTransformer(func=&lt;function log_transformation at 0x7b8e9638f6d0&gt;)),\n",
              "                                                                  (&#x27;standardize&#x27;,\n",
              "                                                                   StandardScaler())]),\n",
              "                                                  [&#x27;Humidity&#x27;, &#x27;Wind Speed&#x27;,\n",
              "                                                   &#x27;UV Index&#x27;]),\n",
              "                                                 (&#x27;class&#x27;,\n",
              "                                                  OneHotEncoder(handle_unknown=&#x27;infrequent_if_exist&#x27;,\n",
              "                                                                max_categories=5),\n",
              "                                                  [&#x27;Cloud Cover&#x27;, &#x27;Season&#x27;,\n",
              "                                                   &#x27;Location&#x27;])])),\n",
              "                (&#x27;modeling&#x27;,\n",
              "                 GridSearchCV(cv=5,\n",
              "                              estimator=LogisticRegression(max_iter=10000),\n",
              "                              param_grid=[{&#x27;C&#x27;: [0.001, 0.01, 0.1, 1, 10,\n",
              "                                                 100]}],\n",
              "                              return_train_score=True, scoring=&#x27;accuracy&#x27;))])</pre><b>In a Jupyter environment, please rerun this cell to show the HTML representation or trust the notebook. <br />On GitHub, the HTML representation is unable to render, please try loading this page with nbviewer.org.</b></div><div class=\"sk-container\" hidden><div class=\"sk-item sk-dashed-wrapped\"><div class=\"sk-label-container\"><div class=\"sk-label sk-toggleable\"><input class=\"sk-toggleable__control sk-hidden--visually\" id=\"sk-estimator-id-63\" type=\"checkbox\" ><label for=\"sk-estimator-id-63\" class=\"sk-toggleable__label sk-toggleable__label-arrow\">Pipeline</label><div class=\"sk-toggleable__content\"><pre>Pipeline(steps=[(&#x27;processing&#x27;,\n",
              "                 ColumnTransformer(transformers=[(&#x27;numeric&#x27;,\n",
              "                                                  Pipeline(steps=[(&#x27;standardize&#x27;,\n",
              "                                                                   StandardScaler())]),\n",
              "                                                  [&#x27;Temperature&#x27;,\n",
              "                                                   &#x27;Precipitation (%)&#x27;,\n",
              "                                                   &#x27;Atmospheric Pressure&#x27;,\n",
              "                                                   &#x27;Visibility (km)&#x27;]),\n",
              "                                                 (&#x27;log&#x27;,\n",
              "                                                  Pipeline(steps=[(&#x27;log &#x27;\n",
              "                                                                   &#x27;transform&#x27;,\n",
              "                                                                   FunctionTransformer(func=&lt;function log_transformation at 0x7b8e9638f6d0&gt;)),\n",
              "                                                                  (&#x27;standardize&#x27;,\n",
              "                                                                   StandardScaler())]),\n",
              "                                                  [&#x27;Humidity&#x27;, &#x27;Wind Speed&#x27;,\n",
              "                                                   &#x27;UV Index&#x27;]),\n",
              "                                                 (&#x27;class&#x27;,\n",
              "                                                  OneHotEncoder(handle_unknown=&#x27;infrequent_if_exist&#x27;,\n",
              "                                                                max_categories=5),\n",
              "                                                  [&#x27;Cloud Cover&#x27;, &#x27;Season&#x27;,\n",
              "                                                   &#x27;Location&#x27;])])),\n",
              "                (&#x27;modeling&#x27;,\n",
              "                 GridSearchCV(cv=5,\n",
              "                              estimator=LogisticRegression(max_iter=10000),\n",
              "                              param_grid=[{&#x27;C&#x27;: [0.001, 0.01, 0.1, 1, 10,\n",
              "                                                 100]}],\n",
              "                              return_train_score=True, scoring=&#x27;accuracy&#x27;))])</pre></div></div></div><div class=\"sk-serial\"><div class=\"sk-item sk-dashed-wrapped\"><div class=\"sk-label-container\"><div class=\"sk-label sk-toggleable\"><input class=\"sk-toggleable__control sk-hidden--visually\" id=\"sk-estimator-id-64\" type=\"checkbox\" ><label for=\"sk-estimator-id-64\" class=\"sk-toggleable__label sk-toggleable__label-arrow\">processing: ColumnTransformer</label><div class=\"sk-toggleable__content\"><pre>ColumnTransformer(transformers=[(&#x27;numeric&#x27;,\n",
              "                                 Pipeline(steps=[(&#x27;standardize&#x27;,\n",
              "                                                  StandardScaler())]),\n",
              "                                 [&#x27;Temperature&#x27;, &#x27;Precipitation (%)&#x27;,\n",
              "                                  &#x27;Atmospheric Pressure&#x27;, &#x27;Visibility (km)&#x27;]),\n",
              "                                (&#x27;log&#x27;,\n",
              "                                 Pipeline(steps=[(&#x27;log transform&#x27;,\n",
              "                                                  FunctionTransformer(func=&lt;function log_transformation at 0x7b8e9638f6d0&gt;)),\n",
              "                                                 (&#x27;standardize&#x27;,\n",
              "                                                  StandardScaler())]),\n",
              "                                 [&#x27;Humidity&#x27;, &#x27;Wind Speed&#x27;, &#x27;UV Index&#x27;]),\n",
              "                                (&#x27;class&#x27;,\n",
              "                                 OneHotEncoder(handle_unknown=&#x27;infrequent_if_exist&#x27;,\n",
              "                                               max_categories=5),\n",
              "                                 [&#x27;Cloud Cover&#x27;, &#x27;Season&#x27;, &#x27;Location&#x27;])])</pre></div></div></div><div class=\"sk-parallel\"><div class=\"sk-parallel-item\"><div class=\"sk-item\"><div class=\"sk-label-container\"><div class=\"sk-label sk-toggleable\"><input class=\"sk-toggleable__control sk-hidden--visually\" id=\"sk-estimator-id-65\" type=\"checkbox\" ><label for=\"sk-estimator-id-65\" class=\"sk-toggleable__label sk-toggleable__label-arrow\">numeric</label><div class=\"sk-toggleable__content\"><pre>[&#x27;Temperature&#x27;, &#x27;Precipitation (%)&#x27;, &#x27;Atmospheric Pressure&#x27;, &#x27;Visibility (km)&#x27;]</pre></div></div></div><div class=\"sk-serial\"><div class=\"sk-item\"><div class=\"sk-serial\"><div class=\"sk-item\"><div class=\"sk-estimator sk-toggleable\"><input class=\"sk-toggleable__control sk-hidden--visually\" id=\"sk-estimator-id-66\" type=\"checkbox\" ><label for=\"sk-estimator-id-66\" class=\"sk-toggleable__label sk-toggleable__label-arrow\">StandardScaler</label><div class=\"sk-toggleable__content\"><pre>StandardScaler()</pre></div></div></div></div></div></div></div></div><div class=\"sk-parallel-item\"><div class=\"sk-item\"><div class=\"sk-label-container\"><div class=\"sk-label sk-toggleable\"><input class=\"sk-toggleable__control sk-hidden--visually\" id=\"sk-estimator-id-67\" type=\"checkbox\" ><label for=\"sk-estimator-id-67\" class=\"sk-toggleable__label sk-toggleable__label-arrow\">log</label><div class=\"sk-toggleable__content\"><pre>[&#x27;Humidity&#x27;, &#x27;Wind Speed&#x27;, &#x27;UV Index&#x27;]</pre></div></div></div><div class=\"sk-serial\"><div class=\"sk-item\"><div class=\"sk-serial\"><div class=\"sk-item\"><div class=\"sk-estimator sk-toggleable\"><input class=\"sk-toggleable__control sk-hidden--visually\" id=\"sk-estimator-id-68\" type=\"checkbox\" ><label for=\"sk-estimator-id-68\" class=\"sk-toggleable__label sk-toggleable__label-arrow\">FunctionTransformer</label><div class=\"sk-toggleable__content\"><pre>FunctionTransformer(func=&lt;function log_transformation at 0x7b8e9638f6d0&gt;)</pre></div></div></div><div class=\"sk-item\"><div class=\"sk-estimator sk-toggleable\"><input class=\"sk-toggleable__control sk-hidden--visually\" id=\"sk-estimator-id-69\" type=\"checkbox\" ><label for=\"sk-estimator-id-69\" class=\"sk-toggleable__label sk-toggleable__label-arrow\">StandardScaler</label><div class=\"sk-toggleable__content\"><pre>StandardScaler()</pre></div></div></div></div></div></div></div></div><div class=\"sk-parallel-item\"><div class=\"sk-item\"><div class=\"sk-label-container\"><div class=\"sk-label sk-toggleable\"><input class=\"sk-toggleable__control sk-hidden--visually\" id=\"sk-estimator-id-70\" type=\"checkbox\" ><label for=\"sk-estimator-id-70\" class=\"sk-toggleable__label sk-toggleable__label-arrow\">class</label><div class=\"sk-toggleable__content\"><pre>[&#x27;Cloud Cover&#x27;, &#x27;Season&#x27;, &#x27;Location&#x27;]</pre></div></div></div><div class=\"sk-serial\"><div class=\"sk-item\"><div class=\"sk-estimator sk-toggleable\"><input class=\"sk-toggleable__control sk-hidden--visually\" id=\"sk-estimator-id-71\" type=\"checkbox\" ><label for=\"sk-estimator-id-71\" class=\"sk-toggleable__label sk-toggleable__label-arrow\">OneHotEncoder</label><div class=\"sk-toggleable__content\"><pre>OneHotEncoder(handle_unknown=&#x27;infrequent_if_exist&#x27;, max_categories=5)</pre></div></div></div></div></div></div></div></div><div class=\"sk-item sk-dashed-wrapped\"><div class=\"sk-label-container\"><div class=\"sk-label sk-toggleable\"><input class=\"sk-toggleable__control sk-hidden--visually\" id=\"sk-estimator-id-72\" type=\"checkbox\" ><label for=\"sk-estimator-id-72\" class=\"sk-toggleable__label sk-toggleable__label-arrow\">modeling: GridSearchCV</label><div class=\"sk-toggleable__content\"><pre>GridSearchCV(cv=5, estimator=LogisticRegression(max_iter=10000),\n",
              "             param_grid=[{&#x27;C&#x27;: [0.001, 0.01, 0.1, 1, 10, 100]}],\n",
              "             return_train_score=True, scoring=&#x27;accuracy&#x27;)</pre></div></div></div><div class=\"sk-parallel\"><div class=\"sk-parallel-item\"><div class=\"sk-item\"><div class=\"sk-label-container\"><div class=\"sk-label sk-toggleable\"><input class=\"sk-toggleable__control sk-hidden--visually\" id=\"sk-estimator-id-73\" type=\"checkbox\" ><label for=\"sk-estimator-id-73\" class=\"sk-toggleable__label sk-toggleable__label-arrow\">estimator: LogisticRegression</label><div class=\"sk-toggleable__content\"><pre>LogisticRegression(max_iter=10000)</pre></div></div></div><div class=\"sk-serial\"><div class=\"sk-item\"><div class=\"sk-estimator sk-toggleable\"><input class=\"sk-toggleable__control sk-hidden--visually\" id=\"sk-estimator-id-74\" type=\"checkbox\" ><label for=\"sk-estimator-id-74\" class=\"sk-toggleable__label sk-toggleable__label-arrow\">LogisticRegression</label><div class=\"sk-toggleable__content\"><pre>LogisticRegression(max_iter=10000)</pre></div></div></div></div></div></div></div></div></div></div></div></div>"
            ]
          },
          "metadata": {},
          "execution_count": 103
        }
      ]
    },
    {
      "cell_type": "markdown",
      "source": [
        "***AFTER FINE TUNING, EVALUATING THE PERFORMANCE OF CONFUSION METRICS***"
      ],
      "metadata": {
        "id": "eN26AV02Fofa"
      }
    },
    {
      "cell_type": "markdown",
      "source": [
        "Accuracy Score"
      ],
      "metadata": {
        "id": "4GtxjPVGFwSX"
      }
    },
    {
      "cell_type": "code",
      "source": [
        "logistic_pred = logistic_pipeline.predict(traindata)\n",
        "accuracy_score(traindata[target], logistic_pred)"
      ],
      "metadata": {
        "colab": {
          "base_uri": "https://localhost:8080/"
        },
        "id": "pVsVaWYIreep",
        "outputId": "ee9f7032-39cf-485c-bd8e-beee079f0420"
      },
      "execution_count": null,
      "outputs": [
        {
          "output_type": "execute_result",
          "data": {
            "text/plain": [
              "0.8690909090909091"
            ]
          },
          "metadata": {},
          "execution_count": 104
        }
      ]
    },
    {
      "cell_type": "code",
      "source": [
        "logistic_pred_test = logistic_pipeline.predict(testdata)\n",
        "accuracy_score(testdata[target], logistic_pred_test)"
      ],
      "metadata": {
        "colab": {
          "base_uri": "https://localhost:8080/"
        },
        "id": "1vMq2SB9row7",
        "outputId": "9c2eb0b7-1620-499a-d3ef-7a1a4ea1d1d1"
      },
      "execution_count": null,
      "outputs": [
        {
          "output_type": "execute_result",
          "data": {
            "text/plain": [
              "0.8751515151515151"
            ]
          },
          "metadata": {},
          "execution_count": 105
        }
      ]
    },
    {
      "cell_type": "markdown",
      "source": [
        "Precision Score"
      ],
      "metadata": {
        "id": "Ml8IADMeFy9e"
      }
    },
    {
      "cell_type": "code",
      "source": [
        "logistic_pred = logistic_pipeline.predict(traindata)\n",
        "precision_score(traindata[target], logistic_pred, average='weighted')"
      ],
      "metadata": {
        "colab": {
          "base_uri": "https://localhost:8080/"
        },
        "id": "-HgTQ4sjrrBf",
        "outputId": "13fe8f7f-bb24-42aa-c53b-dc59f6b2ed01"
      },
      "execution_count": null,
      "outputs": [
        {
          "output_type": "execute_result",
          "data": {
            "text/plain": [
              "0.8700737463764063"
            ]
          },
          "metadata": {},
          "execution_count": 106
        }
      ]
    },
    {
      "cell_type": "code",
      "source": [
        "logistic_pred_test = logistic_pipeline.predict(testdata)\n",
        "precision_score(testdata[target], logistic_pred_test, average='weighted')"
      ],
      "metadata": {
        "colab": {
          "base_uri": "https://localhost:8080/"
        },
        "id": "LWElJkh9rwGo",
        "outputId": "9540b98c-aae3-403e-c052-7e93b2d95c26"
      },
      "execution_count": null,
      "outputs": [
        {
          "output_type": "execute_result",
          "data": {
            "text/plain": [
              "0.8765061208752537"
            ]
          },
          "metadata": {},
          "execution_count": 107
        }
      ]
    },
    {
      "cell_type": "markdown",
      "source": [
        "Recall Score"
      ],
      "metadata": {
        "id": "j6ipfbs4F3QB"
      }
    },
    {
      "cell_type": "code",
      "source": [
        "logistic_pred = logistic_pipeline.predict(traindata)\n",
        "recall_score(traindata[target], logistic_pred, average='weighted')"
      ],
      "metadata": {
        "colab": {
          "base_uri": "https://localhost:8080/"
        },
        "id": "3Lk-HYBUF3FB",
        "outputId": "1a60774d-6b65-48fa-9756-dca3149d4896"
      },
      "execution_count": null,
      "outputs": [
        {
          "output_type": "execute_result",
          "data": {
            "text/plain": [
              "0.8690909090909091"
            ]
          },
          "metadata": {},
          "execution_count": 108
        }
      ]
    },
    {
      "cell_type": "code",
      "source": [
        "logistic_pred_test = logistic_pipeline.predict(testdata)\n",
        "recall_score(testdata[target], logistic_pred_test, average='weighted')"
      ],
      "metadata": {
        "colab": {
          "base_uri": "https://localhost:8080/"
        },
        "id": "Ftho86zWF2-q",
        "outputId": "723d08c0-4b76-499c-fb8a-5a6cb42fc1bc"
      },
      "execution_count": null,
      "outputs": [
        {
          "output_type": "execute_result",
          "data": {
            "text/plain": [
              "0.8751515151515151"
            ]
          },
          "metadata": {},
          "execution_count": 109
        }
      ]
    },
    {
      "cell_type": "markdown",
      "source": [
        "F1 Score"
      ],
      "metadata": {
        "id": "6w4Rm1yWF-qk"
      }
    },
    {
      "cell_type": "code",
      "source": [
        "logistic_pred = logistic_pipeline.predict(traindata)\n",
        "f1_score(traindata[target], logistic_pred, average='weighted')"
      ],
      "metadata": {
        "colab": {
          "base_uri": "https://localhost:8080/"
        },
        "id": "LTeADOXer2io",
        "outputId": "1a0278de-e2c9-4783-d626-9dc642b8e4ac"
      },
      "execution_count": null,
      "outputs": [
        {
          "output_type": "execute_result",
          "data": {
            "text/plain": [
              "0.8692296946057371"
            ]
          },
          "metadata": {},
          "execution_count": 110
        }
      ]
    },
    {
      "cell_type": "code",
      "source": [
        "logistic_pred_test = logistic_pipeline.predict(testdata)\n",
        "f1_score(testdata[target], logistic_pred_test, average='weighted')"
      ],
      "metadata": {
        "colab": {
          "base_uri": "https://localhost:8080/"
        },
        "id": "OWJX_heUr8TL",
        "outputId": "99795ebf-080c-45fc-b18d-6655680bb504"
      },
      "execution_count": null,
      "outputs": [
        {
          "output_type": "execute_result",
          "data": {
            "text/plain": [
              "0.8751794523307347"
            ]
          },
          "metadata": {},
          "execution_count": 114
        }
      ]
    },
    {
      "cell_type": "markdown",
      "source": [
        "***5.4 Training the Gradient Boosting Model***"
      ],
      "metadata": {
        "id": "Mt0R8H6iGR5-"
      }
    },
    {
      "cell_type": "code",
      "source": [
        "from sklearn.ensemble import GradientBoostingClassifier\n",
        "\n",
        "gbc_pipeline = Pipeline([\n",
        "    ('processing',processing_pipeline),\n",
        "    ('modeling',GradientBoostingClassifier(n_estimators=300,\n",
        "                                learning_rate=0.05,\n",
        "                                random_state=100,\n",
        "                                max_features=5 ))\n",
        "])\n",
        "\n",
        "\n",
        "gbc_pipeline.fit(traindata, traindata[target])\n",
        "\n",
        "#gbc = GradientBoostingClassifier(n_estimators=300,\n",
        "                               # learning_rate=0.05,\n",
        "                               #  random_state=100,\n",
        "                               #  max_features=5 )'''"
      ],
      "metadata": {
        "colab": {
          "base_uri": "https://localhost:8080/",
          "height": 225
        },
        "id": "Vt1dSC4ar_1_",
        "outputId": "f9bca74c-dfc6-4fc6-c414-37a38063a204"
      },
      "execution_count": null,
      "outputs": [
        {
          "output_type": "execute_result",
          "data": {
            "text/plain": [
              "Pipeline(steps=[('processing',\n",
              "                 ColumnTransformer(transformers=[('numeric',\n",
              "                                                  Pipeline(steps=[('standardize',\n",
              "                                                                   StandardScaler())]),\n",
              "                                                  ['Temperature',\n",
              "                                                   'Precipitation (%)',\n",
              "                                                   'Atmospheric Pressure',\n",
              "                                                   'Visibility (km)']),\n",
              "                                                 ('log',\n",
              "                                                  Pipeline(steps=[('log '\n",
              "                                                                   'transform',\n",
              "                                                                   FunctionTransformer(func=<function log_transformation at 0x7b8e9638f6d0>)),\n",
              "                                                                  ('standardize',\n",
              "                                                                   StandardScaler())]),\n",
              "                                                  ['Humidity', 'Wind Speed',\n",
              "                                                   'UV Index']),\n",
              "                                                 ('class',\n",
              "                                                  OneHotEncoder(handle_unknown='infrequent_if_exist',\n",
              "                                                                max_categories=5),\n",
              "                                                  ['Cloud Cover', 'Season',\n",
              "                                                   'Location'])])),\n",
              "                ('modeling',\n",
              "                 GradientBoostingClassifier(learning_rate=0.05, max_features=5,\n",
              "                                            n_estimators=300,\n",
              "                                            random_state=100))])"
            ],
            "text/html": [
              "<style>#sk-container-id-9 {color: black;background-color: white;}#sk-container-id-9 pre{padding: 0;}#sk-container-id-9 div.sk-toggleable {background-color: white;}#sk-container-id-9 label.sk-toggleable__label {cursor: pointer;display: block;width: 100%;margin-bottom: 0;padding: 0.3em;box-sizing: border-box;text-align: center;}#sk-container-id-9 label.sk-toggleable__label-arrow:before {content: \"▸\";float: left;margin-right: 0.25em;color: #696969;}#sk-container-id-9 label.sk-toggleable__label-arrow:hover:before {color: black;}#sk-container-id-9 div.sk-estimator:hover label.sk-toggleable__label-arrow:before {color: black;}#sk-container-id-9 div.sk-toggleable__content {max-height: 0;max-width: 0;overflow: hidden;text-align: left;background-color: #f0f8ff;}#sk-container-id-9 div.sk-toggleable__content pre {margin: 0.2em;color: black;border-radius: 0.25em;background-color: #f0f8ff;}#sk-container-id-9 input.sk-toggleable__control:checked~div.sk-toggleable__content {max-height: 200px;max-width: 100%;overflow: auto;}#sk-container-id-9 input.sk-toggleable__control:checked~label.sk-toggleable__label-arrow:before {content: \"▾\";}#sk-container-id-9 div.sk-estimator input.sk-toggleable__control:checked~label.sk-toggleable__label {background-color: #d4ebff;}#sk-container-id-9 div.sk-label input.sk-toggleable__control:checked~label.sk-toggleable__label {background-color: #d4ebff;}#sk-container-id-9 input.sk-hidden--visually {border: 0;clip: rect(1px 1px 1px 1px);clip: rect(1px, 1px, 1px, 1px);height: 1px;margin: -1px;overflow: hidden;padding: 0;position: absolute;width: 1px;}#sk-container-id-9 div.sk-estimator {font-family: monospace;background-color: #f0f8ff;border: 1px dotted black;border-radius: 0.25em;box-sizing: border-box;margin-bottom: 0.5em;}#sk-container-id-9 div.sk-estimator:hover {background-color: #d4ebff;}#sk-container-id-9 div.sk-parallel-item::after {content: \"\";width: 100%;border-bottom: 1px solid gray;flex-grow: 1;}#sk-container-id-9 div.sk-label:hover label.sk-toggleable__label {background-color: #d4ebff;}#sk-container-id-9 div.sk-serial::before {content: \"\";position: absolute;border-left: 1px solid gray;box-sizing: border-box;top: 0;bottom: 0;left: 50%;z-index: 0;}#sk-container-id-9 div.sk-serial {display: flex;flex-direction: column;align-items: center;background-color: white;padding-right: 0.2em;padding-left: 0.2em;position: relative;}#sk-container-id-9 div.sk-item {position: relative;z-index: 1;}#sk-container-id-9 div.sk-parallel {display: flex;align-items: stretch;justify-content: center;background-color: white;position: relative;}#sk-container-id-9 div.sk-item::before, #sk-container-id-9 div.sk-parallel-item::before {content: \"\";position: absolute;border-left: 1px solid gray;box-sizing: border-box;top: 0;bottom: 0;left: 50%;z-index: -1;}#sk-container-id-9 div.sk-parallel-item {display: flex;flex-direction: column;z-index: 1;position: relative;background-color: white;}#sk-container-id-9 div.sk-parallel-item:first-child::after {align-self: flex-end;width: 50%;}#sk-container-id-9 div.sk-parallel-item:last-child::after {align-self: flex-start;width: 50%;}#sk-container-id-9 div.sk-parallel-item:only-child::after {width: 0;}#sk-container-id-9 div.sk-dashed-wrapped {border: 1px dashed gray;margin: 0 0.4em 0.5em 0.4em;box-sizing: border-box;padding-bottom: 0.4em;background-color: white;}#sk-container-id-9 div.sk-label label {font-family: monospace;font-weight: bold;display: inline-block;line-height: 1.2em;}#sk-container-id-9 div.sk-label-container {text-align: center;}#sk-container-id-9 div.sk-container {/* jupyter's `normalize.less` sets `[hidden] { display: none; }` but bootstrap.min.css set `[hidden] { display: none !important; }` so we also need the `!important` here to be able to override the default hidden behavior on the sphinx rendered scikit-learn.org. See: https://github.com/scikit-learn/scikit-learn/issues/21755 */display: inline-block !important;position: relative;}#sk-container-id-9 div.sk-text-repr-fallback {display: none;}</style><div id=\"sk-container-id-9\" class=\"sk-top-container\"><div class=\"sk-text-repr-fallback\"><pre>Pipeline(steps=[(&#x27;processing&#x27;,\n",
              "                 ColumnTransformer(transformers=[(&#x27;numeric&#x27;,\n",
              "                                                  Pipeline(steps=[(&#x27;standardize&#x27;,\n",
              "                                                                   StandardScaler())]),\n",
              "                                                  [&#x27;Temperature&#x27;,\n",
              "                                                   &#x27;Precipitation (%)&#x27;,\n",
              "                                                   &#x27;Atmospheric Pressure&#x27;,\n",
              "                                                   &#x27;Visibility (km)&#x27;]),\n",
              "                                                 (&#x27;log&#x27;,\n",
              "                                                  Pipeline(steps=[(&#x27;log &#x27;\n",
              "                                                                   &#x27;transform&#x27;,\n",
              "                                                                   FunctionTransformer(func=&lt;function log_transformation at 0x7b8e9638f6d0&gt;)),\n",
              "                                                                  (&#x27;standardize&#x27;,\n",
              "                                                                   StandardScaler())]),\n",
              "                                                  [&#x27;Humidity&#x27;, &#x27;Wind Speed&#x27;,\n",
              "                                                   &#x27;UV Index&#x27;]),\n",
              "                                                 (&#x27;class&#x27;,\n",
              "                                                  OneHotEncoder(handle_unknown=&#x27;infrequent_if_exist&#x27;,\n",
              "                                                                max_categories=5),\n",
              "                                                  [&#x27;Cloud Cover&#x27;, &#x27;Season&#x27;,\n",
              "                                                   &#x27;Location&#x27;])])),\n",
              "                (&#x27;modeling&#x27;,\n",
              "                 GradientBoostingClassifier(learning_rate=0.05, max_features=5,\n",
              "                                            n_estimators=300,\n",
              "                                            random_state=100))])</pre><b>In a Jupyter environment, please rerun this cell to show the HTML representation or trust the notebook. <br />On GitHub, the HTML representation is unable to render, please try loading this page with nbviewer.org.</b></div><div class=\"sk-container\" hidden><div class=\"sk-item sk-dashed-wrapped\"><div class=\"sk-label-container\"><div class=\"sk-label sk-toggleable\"><input class=\"sk-toggleable__control sk-hidden--visually\" id=\"sk-estimator-id-85\" type=\"checkbox\" ><label for=\"sk-estimator-id-85\" class=\"sk-toggleable__label sk-toggleable__label-arrow\">Pipeline</label><div class=\"sk-toggleable__content\"><pre>Pipeline(steps=[(&#x27;processing&#x27;,\n",
              "                 ColumnTransformer(transformers=[(&#x27;numeric&#x27;,\n",
              "                                                  Pipeline(steps=[(&#x27;standardize&#x27;,\n",
              "                                                                   StandardScaler())]),\n",
              "                                                  [&#x27;Temperature&#x27;,\n",
              "                                                   &#x27;Precipitation (%)&#x27;,\n",
              "                                                   &#x27;Atmospheric Pressure&#x27;,\n",
              "                                                   &#x27;Visibility (km)&#x27;]),\n",
              "                                                 (&#x27;log&#x27;,\n",
              "                                                  Pipeline(steps=[(&#x27;log &#x27;\n",
              "                                                                   &#x27;transform&#x27;,\n",
              "                                                                   FunctionTransformer(func=&lt;function log_transformation at 0x7b8e9638f6d0&gt;)),\n",
              "                                                                  (&#x27;standardize&#x27;,\n",
              "                                                                   StandardScaler())]),\n",
              "                                                  [&#x27;Humidity&#x27;, &#x27;Wind Speed&#x27;,\n",
              "                                                   &#x27;UV Index&#x27;]),\n",
              "                                                 (&#x27;class&#x27;,\n",
              "                                                  OneHotEncoder(handle_unknown=&#x27;infrequent_if_exist&#x27;,\n",
              "                                                                max_categories=5),\n",
              "                                                  [&#x27;Cloud Cover&#x27;, &#x27;Season&#x27;,\n",
              "                                                   &#x27;Location&#x27;])])),\n",
              "                (&#x27;modeling&#x27;,\n",
              "                 GradientBoostingClassifier(learning_rate=0.05, max_features=5,\n",
              "                                            n_estimators=300,\n",
              "                                            random_state=100))])</pre></div></div></div><div class=\"sk-serial\"><div class=\"sk-item sk-dashed-wrapped\"><div class=\"sk-label-container\"><div class=\"sk-label sk-toggleable\"><input class=\"sk-toggleable__control sk-hidden--visually\" id=\"sk-estimator-id-86\" type=\"checkbox\" ><label for=\"sk-estimator-id-86\" class=\"sk-toggleable__label sk-toggleable__label-arrow\">processing: ColumnTransformer</label><div class=\"sk-toggleable__content\"><pre>ColumnTransformer(transformers=[(&#x27;numeric&#x27;,\n",
              "                                 Pipeline(steps=[(&#x27;standardize&#x27;,\n",
              "                                                  StandardScaler())]),\n",
              "                                 [&#x27;Temperature&#x27;, &#x27;Precipitation (%)&#x27;,\n",
              "                                  &#x27;Atmospheric Pressure&#x27;, &#x27;Visibility (km)&#x27;]),\n",
              "                                (&#x27;log&#x27;,\n",
              "                                 Pipeline(steps=[(&#x27;log transform&#x27;,\n",
              "                                                  FunctionTransformer(func=&lt;function log_transformation at 0x7b8e9638f6d0&gt;)),\n",
              "                                                 (&#x27;standardize&#x27;,\n",
              "                                                  StandardScaler())]),\n",
              "                                 [&#x27;Humidity&#x27;, &#x27;Wind Speed&#x27;, &#x27;UV Index&#x27;]),\n",
              "                                (&#x27;class&#x27;,\n",
              "                                 OneHotEncoder(handle_unknown=&#x27;infrequent_if_exist&#x27;,\n",
              "                                               max_categories=5),\n",
              "                                 [&#x27;Cloud Cover&#x27;, &#x27;Season&#x27;, &#x27;Location&#x27;])])</pre></div></div></div><div class=\"sk-parallel\"><div class=\"sk-parallel-item\"><div class=\"sk-item\"><div class=\"sk-label-container\"><div class=\"sk-label sk-toggleable\"><input class=\"sk-toggleable__control sk-hidden--visually\" id=\"sk-estimator-id-87\" type=\"checkbox\" ><label for=\"sk-estimator-id-87\" class=\"sk-toggleable__label sk-toggleable__label-arrow\">numeric</label><div class=\"sk-toggleable__content\"><pre>[&#x27;Temperature&#x27;, &#x27;Precipitation (%)&#x27;, &#x27;Atmospheric Pressure&#x27;, &#x27;Visibility (km)&#x27;]</pre></div></div></div><div class=\"sk-serial\"><div class=\"sk-item\"><div class=\"sk-serial\"><div class=\"sk-item\"><div class=\"sk-estimator sk-toggleable\"><input class=\"sk-toggleable__control sk-hidden--visually\" id=\"sk-estimator-id-88\" type=\"checkbox\" ><label for=\"sk-estimator-id-88\" class=\"sk-toggleable__label sk-toggleable__label-arrow\">StandardScaler</label><div class=\"sk-toggleable__content\"><pre>StandardScaler()</pre></div></div></div></div></div></div></div></div><div class=\"sk-parallel-item\"><div class=\"sk-item\"><div class=\"sk-label-container\"><div class=\"sk-label sk-toggleable\"><input class=\"sk-toggleable__control sk-hidden--visually\" id=\"sk-estimator-id-89\" type=\"checkbox\" ><label for=\"sk-estimator-id-89\" class=\"sk-toggleable__label sk-toggleable__label-arrow\">log</label><div class=\"sk-toggleable__content\"><pre>[&#x27;Humidity&#x27;, &#x27;Wind Speed&#x27;, &#x27;UV Index&#x27;]</pre></div></div></div><div class=\"sk-serial\"><div class=\"sk-item\"><div class=\"sk-serial\"><div class=\"sk-item\"><div class=\"sk-estimator sk-toggleable\"><input class=\"sk-toggleable__control sk-hidden--visually\" id=\"sk-estimator-id-90\" type=\"checkbox\" ><label for=\"sk-estimator-id-90\" class=\"sk-toggleable__label sk-toggleable__label-arrow\">FunctionTransformer</label><div class=\"sk-toggleable__content\"><pre>FunctionTransformer(func=&lt;function log_transformation at 0x7b8e9638f6d0&gt;)</pre></div></div></div><div class=\"sk-item\"><div class=\"sk-estimator sk-toggleable\"><input class=\"sk-toggleable__control sk-hidden--visually\" id=\"sk-estimator-id-91\" type=\"checkbox\" ><label for=\"sk-estimator-id-91\" class=\"sk-toggleable__label sk-toggleable__label-arrow\">StandardScaler</label><div class=\"sk-toggleable__content\"><pre>StandardScaler()</pre></div></div></div></div></div></div></div></div><div class=\"sk-parallel-item\"><div class=\"sk-item\"><div class=\"sk-label-container\"><div class=\"sk-label sk-toggleable\"><input class=\"sk-toggleable__control sk-hidden--visually\" id=\"sk-estimator-id-92\" type=\"checkbox\" ><label for=\"sk-estimator-id-92\" class=\"sk-toggleable__label sk-toggleable__label-arrow\">class</label><div class=\"sk-toggleable__content\"><pre>[&#x27;Cloud Cover&#x27;, &#x27;Season&#x27;, &#x27;Location&#x27;]</pre></div></div></div><div class=\"sk-serial\"><div class=\"sk-item\"><div class=\"sk-estimator sk-toggleable\"><input class=\"sk-toggleable__control sk-hidden--visually\" id=\"sk-estimator-id-93\" type=\"checkbox\" ><label for=\"sk-estimator-id-93\" class=\"sk-toggleable__label sk-toggleable__label-arrow\">OneHotEncoder</label><div class=\"sk-toggleable__content\"><pre>OneHotEncoder(handle_unknown=&#x27;infrequent_if_exist&#x27;, max_categories=5)</pre></div></div></div></div></div></div></div></div><div class=\"sk-item\"><div class=\"sk-estimator sk-toggleable\"><input class=\"sk-toggleable__control sk-hidden--visually\" id=\"sk-estimator-id-94\" type=\"checkbox\" ><label for=\"sk-estimator-id-94\" class=\"sk-toggleable__label sk-toggleable__label-arrow\">GradientBoostingClassifier</label><div class=\"sk-toggleable__content\"><pre>GradientBoostingClassifier(learning_rate=0.05, max_features=5, n_estimators=300,\n",
              "                           random_state=100)</pre></div></div></div></div></div></div></div>"
            ]
          },
          "metadata": {},
          "execution_count": 113
        }
      ]
    },
    {
      "cell_type": "markdown",
      "source": [
        "***Evaluation of Data Performance by Confusion Metrics (Accuracy, Precision, Recall and F1 Score)***"
      ],
      "metadata": {
        "id": "lyotno3DGbfr"
      }
    },
    {
      "cell_type": "markdown",
      "source": [
        "Accuracy Score"
      ],
      "metadata": {
        "id": "FH1UQOOLGjZU"
      }
    },
    {
      "cell_type": "code",
      "source": [
        "gbc_pred = gbc_pipeline.predict(traindata)\n",
        "accuracy_score(traindata[target], gbc_pred)"
      ],
      "metadata": {
        "colab": {
          "base_uri": "https://localhost:8080/"
        },
        "id": "IzCaM2vxt3f4",
        "outputId": "ad55fca6-579f-4123-bfaf-0054105ef01c"
      },
      "execution_count": null,
      "outputs": [
        {
          "output_type": "execute_result",
          "data": {
            "text/plain": [
              "0.9536363636363636"
            ]
          },
          "metadata": {},
          "execution_count": 115
        }
      ]
    },
    {
      "cell_type": "code",
      "source": [
        "gbc_pred_test = gbc_pipeline.predict(testdata)\n",
        "accuracy_score(testdata[target], gbc_pred_test)"
      ],
      "metadata": {
        "colab": {
          "base_uri": "https://localhost:8080/"
        },
        "id": "8VJK7xg6uIJE",
        "outputId": "1c59ab83-3da7-453f-8812-d17fdac788c5"
      },
      "execution_count": null,
      "outputs": [
        {
          "output_type": "execute_result",
          "data": {
            "text/plain": [
              "0.9136363636363637"
            ]
          },
          "metadata": {},
          "execution_count": 116
        }
      ]
    },
    {
      "cell_type": "markdown",
      "source": [
        "Precision Score"
      ],
      "metadata": {
        "id": "KEEMQMbmGldR"
      }
    },
    {
      "cell_type": "code",
      "source": [
        "gbc_pred = gbc_pipeline.predict(traindata)\n",
        "precision_score(traindata[target], gbc_pred, average ='weighted')"
      ],
      "metadata": {
        "colab": {
          "base_uri": "https://localhost:8080/"
        },
        "id": "NEWpjcsOuM-s",
        "outputId": "195fcd3a-0d6b-4235-8fde-916c40f340a2"
      },
      "execution_count": null,
      "outputs": [
        {
          "output_type": "execute_result",
          "data": {
            "text/plain": [
              "0.9537690746454224"
            ]
          },
          "metadata": {},
          "execution_count": 117
        }
      ]
    },
    {
      "cell_type": "code",
      "source": [
        "gbc_pred_test = gbc_pipeline.predict(testdata)\n",
        "precision_score(testdata[target], gbc_pred_test, average ='weighted')"
      ],
      "metadata": {
        "colab": {
          "base_uri": "https://localhost:8080/"
        },
        "id": "peBwrnJ9uVL7",
        "outputId": "fd3c7aa6-6313-4d3d-91a0-16b182f64a86"
      },
      "execution_count": null,
      "outputs": [
        {
          "output_type": "execute_result",
          "data": {
            "text/plain": [
              "0.914161958371797"
            ]
          },
          "metadata": {},
          "execution_count": 118
        }
      ]
    },
    {
      "cell_type": "markdown",
      "source": [
        "Recall Score"
      ],
      "metadata": {
        "id": "PUkT4qd4Gi5v"
      }
    },
    {
      "cell_type": "code",
      "source": [
        "gbc_pred = gbc_pipeline.predict(traindata)\n",
        "recall_score(traindata[target], gbc_pred, average ='weighted')"
      ],
      "metadata": {
        "colab": {
          "base_uri": "https://localhost:8080/"
        },
        "id": "9hTO78mPGiig",
        "outputId": "663997fc-dcea-4aa9-8cf8-448cf8502562"
      },
      "execution_count": null,
      "outputs": [
        {
          "output_type": "execute_result",
          "data": {
            "text/plain": [
              "0.9536363636363636"
            ]
          },
          "metadata": {},
          "execution_count": 119
        }
      ]
    },
    {
      "cell_type": "code",
      "source": [
        "gbc_pred_test = gbc_pipeline.predict(testdata)\n",
        "recall_score(testdata[target], gbc_pred_test, average ='weighted')"
      ],
      "metadata": {
        "colab": {
          "base_uri": "https://localhost:8080/"
        },
        "id": "h3OlNowwGiVd",
        "outputId": "c46bbb03-f956-447b-bab0-3b4ece07e3f2"
      },
      "execution_count": null,
      "outputs": [
        {
          "output_type": "execute_result",
          "data": {
            "text/plain": [
              "0.9136363636363637"
            ]
          },
          "metadata": {},
          "execution_count": 120
        }
      ]
    },
    {
      "cell_type": "markdown",
      "source": [
        "F1 Score"
      ],
      "metadata": {
        "id": "bq6-Pn1yGw0H"
      }
    },
    {
      "cell_type": "code",
      "source": [
        "gbc_pred = gbc_pipeline.predict(traindata)\n",
        "f1_score(traindata[target], gbc_pred, average ='weighted')"
      ],
      "metadata": {
        "colab": {
          "base_uri": "https://localhost:8080/"
        },
        "id": "S9uLzVNUudlx",
        "outputId": "c17a2c6d-fbc8-4c75-de0f-2596d970b395"
      },
      "execution_count": null,
      "outputs": [
        {
          "output_type": "execute_result",
          "data": {
            "text/plain": [
              "0.9536554231811952"
            ]
          },
          "metadata": {},
          "execution_count": 121
        }
      ]
    },
    {
      "cell_type": "code",
      "source": [
        "gbc_pred_test = gbc_pipeline.predict(testdata)\n",
        "f1_score(testdata[target], gbc_pred_test, average ='weighted')"
      ],
      "metadata": {
        "colab": {
          "base_uri": "https://localhost:8080/"
        },
        "id": "AC3KbKb1ulL5",
        "outputId": "2cf7174d-357b-44f3-e7db-97e183671562"
      },
      "execution_count": null,
      "outputs": [
        {
          "output_type": "execute_result",
          "data": {
            "text/plain": [
              "0.9135703697496546"
            ]
          },
          "metadata": {},
          "execution_count": 124
        }
      ]
    },
    {
      "cell_type": "markdown",
      "source": [
        "***FINE TUNING THE GRADIENT BOOSTING MODEL***"
      ],
      "metadata": {
        "id": "-nDoPjygG0NS"
      }
    },
    {
      "cell_type": "code",
      "source": [
        "\n",
        "from sklearn.model_selection import GridSearchCV\n",
        "\n",
        "gbc = GradientBoostingClassifier()\n",
        "param_grid = {\n",
        "    'n_estimators': [50, 100, 200],\n",
        "    'learning_rate': [0.01, 0.1, 0.2],\n",
        "    'max_depth': [3, 5, 7]\n",
        "}\n",
        "\n",
        "grid_search = GridSearchCV(gbc, param_grid, cv=5, scoring='accuracy', return_train_score=True)\n",
        "\n",
        "gbc_pipeline = Pipeline([\n",
        "    ('processing', processing_pipeline),\n",
        "    ('modeling', grid_search)\n",
        "])\n",
        "\n",
        "gbc_pipeline.fit(traindata, traindata[target])"
      ],
      "metadata": {
        "colab": {
          "base_uri": "https://localhost:8080/",
          "height": 290
        },
        "id": "lI7ZbtfLuoJo",
        "outputId": "370563f3-f371-4836-8b2a-fb416b831459"
      },
      "execution_count": null,
      "outputs": [
        {
          "output_type": "execute_result",
          "data": {
            "text/plain": [
              "Pipeline(steps=[('processing',\n",
              "                 ColumnTransformer(transformers=[('numeric',\n",
              "                                                  Pipeline(steps=[('standardize',\n",
              "                                                                   StandardScaler())]),\n",
              "                                                  ['Temperature',\n",
              "                                                   'Precipitation (%)',\n",
              "                                                   'Atmospheric Pressure',\n",
              "                                                   'Visibility (km)']),\n",
              "                                                 ('log',\n",
              "                                                  Pipeline(steps=[('log '\n",
              "                                                                   'transform',\n",
              "                                                                   FunctionTransformer(func=<function log_transformation at 0x7b8e9638f6d0>)),\n",
              "                                                                  ('standardize',\n",
              "                                                                   StandardScaler())]),\n",
              "                                                  ['H...', 'Wind Speed',\n",
              "                                                   'UV Index']),\n",
              "                                                 ('class',\n",
              "                                                  OneHotEncoder(handle_unknown='infrequent_if_exist',\n",
              "                                                                max_categories=5),\n",
              "                                                  ['Cloud Cover', 'Season',\n",
              "                                                   'Location'])])),\n",
              "                ('modeling',\n",
              "                 GridSearchCV(cv=5, estimator=GradientBoostingClassifier(),\n",
              "                              param_grid={'learning_rate': [0.01, 0.1, 0.2],\n",
              "                                          'max_depth': [3, 5, 7],\n",
              "                                          'n_estimators': [50, 100, 200]},\n",
              "                              return_train_score=True, scoring='accuracy'))])"
            ],
            "text/html": [
              "<style>#sk-container-id-10 {color: black;background-color: white;}#sk-container-id-10 pre{padding: 0;}#sk-container-id-10 div.sk-toggleable {background-color: white;}#sk-container-id-10 label.sk-toggleable__label {cursor: pointer;display: block;width: 100%;margin-bottom: 0;padding: 0.3em;box-sizing: border-box;text-align: center;}#sk-container-id-10 label.sk-toggleable__label-arrow:before {content: \"▸\";float: left;margin-right: 0.25em;color: #696969;}#sk-container-id-10 label.sk-toggleable__label-arrow:hover:before {color: black;}#sk-container-id-10 div.sk-estimator:hover label.sk-toggleable__label-arrow:before {color: black;}#sk-container-id-10 div.sk-toggleable__content {max-height: 0;max-width: 0;overflow: hidden;text-align: left;background-color: #f0f8ff;}#sk-container-id-10 div.sk-toggleable__content pre {margin: 0.2em;color: black;border-radius: 0.25em;background-color: #f0f8ff;}#sk-container-id-10 input.sk-toggleable__control:checked~div.sk-toggleable__content {max-height: 200px;max-width: 100%;overflow: auto;}#sk-container-id-10 input.sk-toggleable__control:checked~label.sk-toggleable__label-arrow:before {content: \"▾\";}#sk-container-id-10 div.sk-estimator input.sk-toggleable__control:checked~label.sk-toggleable__label {background-color: #d4ebff;}#sk-container-id-10 div.sk-label input.sk-toggleable__control:checked~label.sk-toggleable__label {background-color: #d4ebff;}#sk-container-id-10 input.sk-hidden--visually {border: 0;clip: rect(1px 1px 1px 1px);clip: rect(1px, 1px, 1px, 1px);height: 1px;margin: -1px;overflow: hidden;padding: 0;position: absolute;width: 1px;}#sk-container-id-10 div.sk-estimator {font-family: monospace;background-color: #f0f8ff;border: 1px dotted black;border-radius: 0.25em;box-sizing: border-box;margin-bottom: 0.5em;}#sk-container-id-10 div.sk-estimator:hover {background-color: #d4ebff;}#sk-container-id-10 div.sk-parallel-item::after {content: \"\";width: 100%;border-bottom: 1px solid gray;flex-grow: 1;}#sk-container-id-10 div.sk-label:hover label.sk-toggleable__label {background-color: #d4ebff;}#sk-container-id-10 div.sk-serial::before {content: \"\";position: absolute;border-left: 1px solid gray;box-sizing: border-box;top: 0;bottom: 0;left: 50%;z-index: 0;}#sk-container-id-10 div.sk-serial {display: flex;flex-direction: column;align-items: center;background-color: white;padding-right: 0.2em;padding-left: 0.2em;position: relative;}#sk-container-id-10 div.sk-item {position: relative;z-index: 1;}#sk-container-id-10 div.sk-parallel {display: flex;align-items: stretch;justify-content: center;background-color: white;position: relative;}#sk-container-id-10 div.sk-item::before, #sk-container-id-10 div.sk-parallel-item::before {content: \"\";position: absolute;border-left: 1px solid gray;box-sizing: border-box;top: 0;bottom: 0;left: 50%;z-index: -1;}#sk-container-id-10 div.sk-parallel-item {display: flex;flex-direction: column;z-index: 1;position: relative;background-color: white;}#sk-container-id-10 div.sk-parallel-item:first-child::after {align-self: flex-end;width: 50%;}#sk-container-id-10 div.sk-parallel-item:last-child::after {align-self: flex-start;width: 50%;}#sk-container-id-10 div.sk-parallel-item:only-child::after {width: 0;}#sk-container-id-10 div.sk-dashed-wrapped {border: 1px dashed gray;margin: 0 0.4em 0.5em 0.4em;box-sizing: border-box;padding-bottom: 0.4em;background-color: white;}#sk-container-id-10 div.sk-label label {font-family: monospace;font-weight: bold;display: inline-block;line-height: 1.2em;}#sk-container-id-10 div.sk-label-container {text-align: center;}#sk-container-id-10 div.sk-container {/* jupyter's `normalize.less` sets `[hidden] { display: none; }` but bootstrap.min.css set `[hidden] { display: none !important; }` so we also need the `!important` here to be able to override the default hidden behavior on the sphinx rendered scikit-learn.org. See: https://github.com/scikit-learn/scikit-learn/issues/21755 */display: inline-block !important;position: relative;}#sk-container-id-10 div.sk-text-repr-fallback {display: none;}</style><div id=\"sk-container-id-10\" class=\"sk-top-container\"><div class=\"sk-text-repr-fallback\"><pre>Pipeline(steps=[(&#x27;processing&#x27;,\n",
              "                 ColumnTransformer(transformers=[(&#x27;numeric&#x27;,\n",
              "                                                  Pipeline(steps=[(&#x27;standardize&#x27;,\n",
              "                                                                   StandardScaler())]),\n",
              "                                                  [&#x27;Temperature&#x27;,\n",
              "                                                   &#x27;Precipitation (%)&#x27;,\n",
              "                                                   &#x27;Atmospheric Pressure&#x27;,\n",
              "                                                   &#x27;Visibility (km)&#x27;]),\n",
              "                                                 (&#x27;log&#x27;,\n",
              "                                                  Pipeline(steps=[(&#x27;log &#x27;\n",
              "                                                                   &#x27;transform&#x27;,\n",
              "                                                                   FunctionTransformer(func=&lt;function log_transformation at 0x7b8e9638f6d0&gt;)),\n",
              "                                                                  (&#x27;standardize&#x27;,\n",
              "                                                                   StandardScaler())]),\n",
              "                                                  [&#x27;H...&#x27;, &#x27;Wind Speed&#x27;,\n",
              "                                                   &#x27;UV Index&#x27;]),\n",
              "                                                 (&#x27;class&#x27;,\n",
              "                                                  OneHotEncoder(handle_unknown=&#x27;infrequent_if_exist&#x27;,\n",
              "                                                                max_categories=5),\n",
              "                                                  [&#x27;Cloud Cover&#x27;, &#x27;Season&#x27;,\n",
              "                                                   &#x27;Location&#x27;])])),\n",
              "                (&#x27;modeling&#x27;,\n",
              "                 GridSearchCV(cv=5, estimator=GradientBoostingClassifier(),\n",
              "                              param_grid={&#x27;learning_rate&#x27;: [0.01, 0.1, 0.2],\n",
              "                                          &#x27;max_depth&#x27;: [3, 5, 7],\n",
              "                                          &#x27;n_estimators&#x27;: [50, 100, 200]},\n",
              "                              return_train_score=True, scoring=&#x27;accuracy&#x27;))])</pre><b>In a Jupyter environment, please rerun this cell to show the HTML representation or trust the notebook. <br />On GitHub, the HTML representation is unable to render, please try loading this page with nbviewer.org.</b></div><div class=\"sk-container\" hidden><div class=\"sk-item sk-dashed-wrapped\"><div class=\"sk-label-container\"><div class=\"sk-label sk-toggleable\"><input class=\"sk-toggleable__control sk-hidden--visually\" id=\"sk-estimator-id-95\" type=\"checkbox\" ><label for=\"sk-estimator-id-95\" class=\"sk-toggleable__label sk-toggleable__label-arrow\">Pipeline</label><div class=\"sk-toggleable__content\"><pre>Pipeline(steps=[(&#x27;processing&#x27;,\n",
              "                 ColumnTransformer(transformers=[(&#x27;numeric&#x27;,\n",
              "                                                  Pipeline(steps=[(&#x27;standardize&#x27;,\n",
              "                                                                   StandardScaler())]),\n",
              "                                                  [&#x27;Temperature&#x27;,\n",
              "                                                   &#x27;Precipitation (%)&#x27;,\n",
              "                                                   &#x27;Atmospheric Pressure&#x27;,\n",
              "                                                   &#x27;Visibility (km)&#x27;]),\n",
              "                                                 (&#x27;log&#x27;,\n",
              "                                                  Pipeline(steps=[(&#x27;log &#x27;\n",
              "                                                                   &#x27;transform&#x27;,\n",
              "                                                                   FunctionTransformer(func=&lt;function log_transformation at 0x7b8e9638f6d0&gt;)),\n",
              "                                                                  (&#x27;standardize&#x27;,\n",
              "                                                                   StandardScaler())]),\n",
              "                                                  [&#x27;H...&#x27;, &#x27;Wind Speed&#x27;,\n",
              "                                                   &#x27;UV Index&#x27;]),\n",
              "                                                 (&#x27;class&#x27;,\n",
              "                                                  OneHotEncoder(handle_unknown=&#x27;infrequent_if_exist&#x27;,\n",
              "                                                                max_categories=5),\n",
              "                                                  [&#x27;Cloud Cover&#x27;, &#x27;Season&#x27;,\n",
              "                                                   &#x27;Location&#x27;])])),\n",
              "                (&#x27;modeling&#x27;,\n",
              "                 GridSearchCV(cv=5, estimator=GradientBoostingClassifier(),\n",
              "                              param_grid={&#x27;learning_rate&#x27;: [0.01, 0.1, 0.2],\n",
              "                                          &#x27;max_depth&#x27;: [3, 5, 7],\n",
              "                                          &#x27;n_estimators&#x27;: [50, 100, 200]},\n",
              "                              return_train_score=True, scoring=&#x27;accuracy&#x27;))])</pre></div></div></div><div class=\"sk-serial\"><div class=\"sk-item sk-dashed-wrapped\"><div class=\"sk-label-container\"><div class=\"sk-label sk-toggleable\"><input class=\"sk-toggleable__control sk-hidden--visually\" id=\"sk-estimator-id-96\" type=\"checkbox\" ><label for=\"sk-estimator-id-96\" class=\"sk-toggleable__label sk-toggleable__label-arrow\">processing: ColumnTransformer</label><div class=\"sk-toggleable__content\"><pre>ColumnTransformer(transformers=[(&#x27;numeric&#x27;,\n",
              "                                 Pipeline(steps=[(&#x27;standardize&#x27;,\n",
              "                                                  StandardScaler())]),\n",
              "                                 [&#x27;Temperature&#x27;, &#x27;Precipitation (%)&#x27;,\n",
              "                                  &#x27;Atmospheric Pressure&#x27;, &#x27;Visibility (km)&#x27;]),\n",
              "                                (&#x27;log&#x27;,\n",
              "                                 Pipeline(steps=[(&#x27;log transform&#x27;,\n",
              "                                                  FunctionTransformer(func=&lt;function log_transformation at 0x7b8e9638f6d0&gt;)),\n",
              "                                                 (&#x27;standardize&#x27;,\n",
              "                                                  StandardScaler())]),\n",
              "                                 [&#x27;Humidity&#x27;, &#x27;Wind Speed&#x27;, &#x27;UV Index&#x27;]),\n",
              "                                (&#x27;class&#x27;,\n",
              "                                 OneHotEncoder(handle_unknown=&#x27;infrequent_if_exist&#x27;,\n",
              "                                               max_categories=5),\n",
              "                                 [&#x27;Cloud Cover&#x27;, &#x27;Season&#x27;, &#x27;Location&#x27;])])</pre></div></div></div><div class=\"sk-parallel\"><div class=\"sk-parallel-item\"><div class=\"sk-item\"><div class=\"sk-label-container\"><div class=\"sk-label sk-toggleable\"><input class=\"sk-toggleable__control sk-hidden--visually\" id=\"sk-estimator-id-97\" type=\"checkbox\" ><label for=\"sk-estimator-id-97\" class=\"sk-toggleable__label sk-toggleable__label-arrow\">numeric</label><div class=\"sk-toggleable__content\"><pre>[&#x27;Temperature&#x27;, &#x27;Precipitation (%)&#x27;, &#x27;Atmospheric Pressure&#x27;, &#x27;Visibility (km)&#x27;]</pre></div></div></div><div class=\"sk-serial\"><div class=\"sk-item\"><div class=\"sk-serial\"><div class=\"sk-item\"><div class=\"sk-estimator sk-toggleable\"><input class=\"sk-toggleable__control sk-hidden--visually\" id=\"sk-estimator-id-98\" type=\"checkbox\" ><label for=\"sk-estimator-id-98\" class=\"sk-toggleable__label sk-toggleable__label-arrow\">StandardScaler</label><div class=\"sk-toggleable__content\"><pre>StandardScaler()</pre></div></div></div></div></div></div></div></div><div class=\"sk-parallel-item\"><div class=\"sk-item\"><div class=\"sk-label-container\"><div class=\"sk-label sk-toggleable\"><input class=\"sk-toggleable__control sk-hidden--visually\" id=\"sk-estimator-id-99\" type=\"checkbox\" ><label for=\"sk-estimator-id-99\" class=\"sk-toggleable__label sk-toggleable__label-arrow\">log</label><div class=\"sk-toggleable__content\"><pre>[&#x27;Humidity&#x27;, &#x27;Wind Speed&#x27;, &#x27;UV Index&#x27;]</pre></div></div></div><div class=\"sk-serial\"><div class=\"sk-item\"><div class=\"sk-serial\"><div class=\"sk-item\"><div class=\"sk-estimator sk-toggleable\"><input class=\"sk-toggleable__control sk-hidden--visually\" id=\"sk-estimator-id-100\" type=\"checkbox\" ><label for=\"sk-estimator-id-100\" class=\"sk-toggleable__label sk-toggleable__label-arrow\">FunctionTransformer</label><div class=\"sk-toggleable__content\"><pre>FunctionTransformer(func=&lt;function log_transformation at 0x7b8e9638f6d0&gt;)</pre></div></div></div><div class=\"sk-item\"><div class=\"sk-estimator sk-toggleable\"><input class=\"sk-toggleable__control sk-hidden--visually\" id=\"sk-estimator-id-101\" type=\"checkbox\" ><label for=\"sk-estimator-id-101\" class=\"sk-toggleable__label sk-toggleable__label-arrow\">StandardScaler</label><div class=\"sk-toggleable__content\"><pre>StandardScaler()</pre></div></div></div></div></div></div></div></div><div class=\"sk-parallel-item\"><div class=\"sk-item\"><div class=\"sk-label-container\"><div class=\"sk-label sk-toggleable\"><input class=\"sk-toggleable__control sk-hidden--visually\" id=\"sk-estimator-id-102\" type=\"checkbox\" ><label for=\"sk-estimator-id-102\" class=\"sk-toggleable__label sk-toggleable__label-arrow\">class</label><div class=\"sk-toggleable__content\"><pre>[&#x27;Cloud Cover&#x27;, &#x27;Season&#x27;, &#x27;Location&#x27;]</pre></div></div></div><div class=\"sk-serial\"><div class=\"sk-item\"><div class=\"sk-estimator sk-toggleable\"><input class=\"sk-toggleable__control sk-hidden--visually\" id=\"sk-estimator-id-103\" type=\"checkbox\" ><label for=\"sk-estimator-id-103\" class=\"sk-toggleable__label sk-toggleable__label-arrow\">OneHotEncoder</label><div class=\"sk-toggleable__content\"><pre>OneHotEncoder(handle_unknown=&#x27;infrequent_if_exist&#x27;, max_categories=5)</pre></div></div></div></div></div></div></div></div><div class=\"sk-item sk-dashed-wrapped\"><div class=\"sk-label-container\"><div class=\"sk-label sk-toggleable\"><input class=\"sk-toggleable__control sk-hidden--visually\" id=\"sk-estimator-id-104\" type=\"checkbox\" ><label for=\"sk-estimator-id-104\" class=\"sk-toggleable__label sk-toggleable__label-arrow\">modeling: GridSearchCV</label><div class=\"sk-toggleable__content\"><pre>GridSearchCV(cv=5, estimator=GradientBoostingClassifier(),\n",
              "             param_grid={&#x27;learning_rate&#x27;: [0.01, 0.1, 0.2],\n",
              "                         &#x27;max_depth&#x27;: [3, 5, 7],\n",
              "                         &#x27;n_estimators&#x27;: [50, 100, 200]},\n",
              "             return_train_score=True, scoring=&#x27;accuracy&#x27;)</pre></div></div></div><div class=\"sk-parallel\"><div class=\"sk-parallel-item\"><div class=\"sk-item\"><div class=\"sk-label-container\"><div class=\"sk-label sk-toggleable\"><input class=\"sk-toggleable__control sk-hidden--visually\" id=\"sk-estimator-id-105\" type=\"checkbox\" ><label for=\"sk-estimator-id-105\" class=\"sk-toggleable__label sk-toggleable__label-arrow\">estimator: GradientBoostingClassifier</label><div class=\"sk-toggleable__content\"><pre>GradientBoostingClassifier()</pre></div></div></div><div class=\"sk-serial\"><div class=\"sk-item\"><div class=\"sk-estimator sk-toggleable\"><input class=\"sk-toggleable__control sk-hidden--visually\" id=\"sk-estimator-id-106\" type=\"checkbox\" ><label for=\"sk-estimator-id-106\" class=\"sk-toggleable__label sk-toggleable__label-arrow\">GradientBoostingClassifier</label><div class=\"sk-toggleable__content\"><pre>GradientBoostingClassifier()</pre></div></div></div></div></div></div></div></div></div></div></div></div>"
            ]
          },
          "metadata": {},
          "execution_count": 125
        }
      ]
    },
    {
      "cell_type": "markdown",
      "source": [
        "***AFTER FINE TUNING, EVALUATING THE PERFORMANCE OF CONFUSION METRICS***"
      ],
      "metadata": {
        "id": "GdodnrJ4G5yO"
      }
    },
    {
      "cell_type": "markdown",
      "source": [
        "Accuracy Score"
      ],
      "metadata": {
        "id": "010r6SLbHDbc"
      }
    },
    {
      "cell_type": "code",
      "source": [
        "gbc_pred = gbc_pipeline.predict(traindata)\n",
        "accuracy_score(traindata[target], gbc_pred)"
      ],
      "metadata": {
        "colab": {
          "base_uri": "https://localhost:8080/"
        },
        "id": "3AJGLrmPvcEm",
        "outputId": "7bc9a365-3d6f-4505-b194-de7bbb12d3b9"
      },
      "execution_count": null,
      "outputs": [
        {
          "output_type": "execute_result",
          "data": {
            "text/plain": [
              "0.9621212121212122"
            ]
          },
          "metadata": {},
          "execution_count": 126
        }
      ]
    },
    {
      "cell_type": "code",
      "source": [
        "gbc_pred_test = gbc_pipeline.predict(testdata)\n",
        "accuracy_score(testdata[target], gbc_pred_test)"
      ],
      "metadata": {
        "colab": {
          "base_uri": "https://localhost:8080/"
        },
        "id": "g1V8-a696BFw",
        "outputId": "03c31c06-6304-4356-b731-f57efbf9cbcb"
      },
      "execution_count": null,
      "outputs": [
        {
          "output_type": "execute_result",
          "data": {
            "text/plain": [
              "0.916060606060606"
            ]
          },
          "metadata": {},
          "execution_count": 127
        }
      ]
    },
    {
      "cell_type": "markdown",
      "source": [
        "Precision Score"
      ],
      "metadata": {
        "id": "cmwHshEPHGpd"
      }
    },
    {
      "cell_type": "code",
      "source": [
        "gbc_pred = gbc_pipeline.predict(traindata)\n",
        "precision_score(traindata[target], gbc_pred, average ='weighted')"
      ],
      "metadata": {
        "colab": {
          "base_uri": "https://localhost:8080/"
        },
        "id": "nd4ImXO-6Dm3",
        "outputId": "301120fb-7121-4b17-dc4d-b091988d89e2"
      },
      "execution_count": null,
      "outputs": [
        {
          "output_type": "execute_result",
          "data": {
            "text/plain": [
              "0.9625048867981588"
            ]
          },
          "metadata": {},
          "execution_count": 128
        }
      ]
    },
    {
      "cell_type": "code",
      "source": [
        "gbc_pred_test = gbc_pipeline.predict(testdata)\n",
        "precision_score(testdata[target], gbc_pred_test, average ='weighted')"
      ],
      "metadata": {
        "colab": {
          "base_uri": "https://localhost:8080/"
        },
        "id": "QXZFczA36GSa",
        "outputId": "7fe86333-75c3-4fcf-dcbe-225b4d0f1a8a"
      },
      "execution_count": null,
      "outputs": [
        {
          "output_type": "execute_result",
          "data": {
            "text/plain": [
              "0.9165996644669959"
            ]
          },
          "metadata": {},
          "execution_count": 129
        }
      ]
    },
    {
      "cell_type": "markdown",
      "source": [
        "Recall Score"
      ],
      "metadata": {
        "id": "15kbDjlKHJo8"
      }
    },
    {
      "cell_type": "code",
      "source": [
        "gbc_pred = gbc_pipeline.predict(traindata)\n",
        "recall_score(traindata[target], gbc_pred, average ='weighted')"
      ],
      "metadata": {
        "colab": {
          "base_uri": "https://localhost:8080/"
        },
        "id": "LOUuDAQZHJdB",
        "outputId": "9d0e42c3-3d40-4418-ea70-0e76418d6361"
      },
      "execution_count": null,
      "outputs": [
        {
          "output_type": "execute_result",
          "data": {
            "text/plain": [
              "0.9621212121212122"
            ]
          },
          "metadata": {},
          "execution_count": 130
        }
      ]
    },
    {
      "cell_type": "code",
      "source": [
        "gbc_pred_test = gbc_pipeline.predict(testdata)\n",
        "recall_score(testdata[target], gbc_pred_test, average ='weighted')"
      ],
      "metadata": {
        "colab": {
          "base_uri": "https://localhost:8080/"
        },
        "id": "GZ78X2W3HJRW",
        "outputId": "6996baf9-4f83-4be3-afdc-d881fb90abb5"
      },
      "execution_count": null,
      "outputs": [
        {
          "output_type": "execute_result",
          "data": {
            "text/plain": [
              "0.916060606060606"
            ]
          },
          "metadata": {},
          "execution_count": 131
        }
      ]
    },
    {
      "cell_type": "markdown",
      "source": [
        "F1 Score"
      ],
      "metadata": {
        "id": "tvZz-9vFHQ_M"
      }
    },
    {
      "cell_type": "code",
      "source": [
        "gbc_pred = gbc_pipeline.predict(traindata)\n",
        "f1_score(traindata[target], gbc_pred, average ='weighted')"
      ],
      "metadata": {
        "colab": {
          "base_uri": "https://localhost:8080/"
        },
        "id": "wTbhNTcl6JHW",
        "outputId": "53b564c8-609a-4277-917a-fe16d3a3eea4"
      },
      "execution_count": null,
      "outputs": [
        {
          "output_type": "execute_result",
          "data": {
            "text/plain": [
              "0.9621885091954373"
            ]
          },
          "metadata": {},
          "execution_count": 132
        }
      ]
    },
    {
      "cell_type": "code",
      "source": [
        "gbc_pred_test = gbc_pipeline.predict(testdata)\n",
        "f1_score(testdata[target], gbc_pred_test, average ='weighted')"
      ],
      "metadata": {
        "id": "gz7tLVle6Ldi",
        "outputId": "a06cdbf1-5e53-4b99-b0ee-f825f1131007",
        "colab": {
          "base_uri": "https://localhost:8080/"
        }
      },
      "execution_count": null,
      "outputs": [
        {
          "output_type": "execute_result",
          "data": {
            "text/plain": [
              "0.9161581210682411"
            ]
          },
          "metadata": {},
          "execution_count": 133
        }
      ]
    },
    {
      "cell_type": "markdown",
      "source": [
        "After fine tuning the models results on testdata are as follows:\n",
        "\n",
        "\n",
        "1.   Decision Tree Model\n",
        "      *   **Accuracy**: 0.904\n",
        "      *   **Precision**: 0.908\n",
        "      *   **Recall**: 0.904\n",
        "      *   **F1**: 0.905\n",
        "\n",
        "\n",
        "2.   Random Forest Model\n",
        "      *   **Accuracy**: 0.91\n",
        "      *   **Precision**: 0.910\n",
        "      *   **Recall**: 0.91\n",
        "      *   **F1**: 0.910\n",
        "\n",
        "\n",
        "3.   Logistic Regression Model\n",
        "      *   **Accuracy**: 0.875\n",
        "      *   **Precision**: 0876\n",
        "      *   **Recall**: 0.875\n",
        "      *   **F1**: 0.876\n",
        "\n",
        "4.   Gradient Boosting Model\n",
        "      *   **Accuracy**: 0.916\n",
        "      *   **Precision**: 0.916\n",
        "      *   **Recall**: 0.916\n",
        "      *   **F1**: 0.916\n"
      ],
      "metadata": {
        "id": "amvFag65HXNz"
      }
    }
  ]
}